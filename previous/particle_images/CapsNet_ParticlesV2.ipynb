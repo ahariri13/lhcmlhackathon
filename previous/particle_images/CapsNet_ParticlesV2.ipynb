{
 "cells": [
  {
   "cell_type": "markdown",
   "metadata": {},
   "source": [
    "<img src=\"https://i2.wp.com/www.ai-claudio.com/wp-content/uploads/2017/05/keras-tensorflow-logo.jpg?resize=500%2C201\"/>"
   ]
  },
  {
   "cell_type": "markdown",
   "metadata": {},
   "source": [
    "## Import modules \n"
   ]
  },
  {
   "cell_type": "code",
   "execution_count": 1,
   "metadata": {},
   "outputs": [
    {
     "name": "stderr",
     "output_type": "stream",
     "text": [
      "Using TensorFlow backend.\n"
     ]
    }
   ],
   "source": [
    "import numpy as np\n",
    "np.random.seed(1337)  # for reproducibility\n",
    "import h5py\n",
    "from keras.optimizers import Adam\n",
    "from keras.initializers import TruncatedNormal\n",
    "from keras.layers import Flatten, MaxPooling2D\n",
    "from keras.callbacks import ReduceLROnPlateau\n",
    "from keras.utils import plot_model\n",
    "\n",
    "from sklearn.metrics import roc_curve, auc\n",
    "\n",
    "import matplotlib.pyplot as plt\n",
    "\n",
    "%run CapsNet.ipynb\n",
    "from keras.utils import to_categorical as one_hot\n",
    "from tqdm import tqdm\n",
    "from time import clock"
   ]
  },
  {
   "cell_type": "markdown",
   "metadata": {},
   "source": [
    "## Keras Model Parameters"
   ]
  },
  {
   "cell_type": "code",
   "execution_count": 2,
   "metadata": {},
   "outputs": [],
   "source": [
    "lr_init     = 1.e-3    # Initial learning rate  \n",
    "batch_size  = 64       # Training batch size\n",
    "train_size  = 1024    # Training size\n",
    "valid_size  = 512     # Validation size\n",
    "test_size   = 512     # Test size\n",
    "epochs      = 20       # Number of epochs\n",
    "doGPU       = False    # Use GPU"
   ]
  },
  {
   "cell_type": "code",
   "execution_count": 3,
   "metadata": {},
   "outputs": [],
   "source": [
    "if doGPU:\n",
    "    import tensorflow as tf\n",
    "    from keras.backend.tensorflow_backend import set_session\n",
    "    config = tf.ConfigProto()\n",
    "    config.gpu_options.allow_growth=True\n",
    "    set_session(tf.Session(config=config))"
   ]
  },
  {
   "cell_type": "markdown",
   "metadata": {},
   "source": [
    "## Load Image Data\n",
    "### Two classes of particles: electrons and photons \n",
    "### Images from 32x32 matrices of energies in each calorimeter cell (one cell = one pixel) "
   ]
  },
  {
   "cell_type": "code",
   "execution_count": 4,
   "metadata": {},
   "outputs": [],
   "source": [
    "img_rows, img_cols, nb_channels = 32, 32, 2     \n",
    "nb_classes = 2 # Photon (0) or Electron (1)\n",
    "input_dir = 'data'\n",
    "decays = ['SinglePhotonPt50_IMGCROPS_n249k_RHv1', 'SingleElectronPt50_IMGCROPS_n249k_RHv1']\n",
    "\n",
    "def load_data(decays, start, stop):\n",
    "    global input_dir\n",
    "    dsets = [h5py.File('%s/%s.hdf5'%(input_dir,decay)) for decay in decays]\n",
    "    X = np.concatenate([dset['/X'][start:stop] for dset in dsets])\n",
    "    y = np.concatenate([dset['/y'][start:stop] for dset in dsets])\n",
    "    assert len(X) == len(y)\n",
    "    return X, y"
   ]
  },
  {
   "cell_type": "markdown",
   "metadata": {},
   "source": [
    "## Configure Training/Validation/Test Sets"
   ]
  },
  {
   "cell_type": "code",
   "execution_count": 5,
   "metadata": {
    "scrolled": false
   },
   "outputs": [],
   "source": [
    "# Set range of training set\n",
    "train_start, train_stop = 0, train_size\n",
    "assert train_stop > train_start\n",
    "assert (len(decays)*train_size) % batch_size == 0\n",
    "X_train, y_train = load_data(decays,train_start,train_stop)\n",
    "\n",
    "# Set range of validation set\n",
    "valid_start, valid_stop = 160000, 160000+valid_size\n",
    "assert valid_stop  >  valid_start\n",
    "assert valid_start >= train_stop\n",
    "X_valid, y_valid = load_data(decays,valid_start,valid_stop)\n",
    "\n",
    "# Set range of test set\n",
    "test_start, test_stop = 204800, 204800+test_size\n",
    "assert test_stop  >  test_start\n",
    "assert test_start >= valid_stop\n",
    "X_test, y_test = load_data(decays,test_start,test_stop)\n",
    "\n",
    "samples_requested = len(decays) * (train_size + valid_size + test_size)\n",
    "samples_available = len(y_train) + len(y_valid) + len(y_test)\n",
    "assert samples_requested == samples_available"
   ]
  },
  {
   "cell_type": "markdown",
   "metadata": {},
   "source": [
    "## Plot  sample of training images"
   ]
  },
  {
   "cell_type": "code",
   "execution_count": 6,
   "metadata": {},
   "outputs": [
    {
     "data": {
      "image/png": "[encoded data removed]",
      "text/plain": [
       "<Figure size 432x288 with 2 Axes>"
      ]
     },
     "metadata": {
      "needs_background": "light"
     },
     "output_type": "display_data"
    }
   ],
   "source": [
    "plt.figure(1)\n",
    "\n",
    "plt.subplot(221)\n",
    "plt.imshow(X_train[1,:,:,0])\n",
    "plt.title(\"Channel 0\")  # Energy\n",
    "plt.grid(True)\n",
    "\n",
    "plt.subplot(222)\n",
    "plt.imshow(X_train[1,:,:,1])\n",
    "plt.title(\"Channel 1\")  # Time\n",
    "plt.grid(True)\n",
    "\n",
    "\n",
    "plt.show()"
   ]
  },
  {
   "cell_type": "markdown",
   "metadata": {},
   "source": [
    "### Shuffle Train Data"
   ]
  },
  {
   "cell_type": "code",
   "execution_count": 7,
   "metadata": {},
   "outputs": [
    {
     "name": "stdout",
     "output_type": "stream",
     "text": [
      "[[3.200e+02 0.000e+00]\n",
      " [1.448e+03 1.000e+00]\n",
      " [2.004e+03 1.000e+00]\n",
      " ...\n",
      " [1.318e+03 1.000e+00]\n",
      " [7.230e+02 0.000e+00]\n",
      " [8.150e+02 0.000e+00]]\n"
     ]
    }
   ],
   "source": [
    "x_train_dict = {}\n",
    "x_train_ids = []\n",
    "\n",
    "for x in range(len(X_train)):\n",
    "    x_train_dict[str(x)] = X_train[x,:,:]\n",
    "    x_train_ids.append(x)\n",
    "    \n",
    "x_train_ids = np.array(x_train_ids)\n",
    "\n",
    "x_train_ids = np.expand_dims(x_train_ids, axis = -1)\n",
    "y_train = np.expand_dims(y_train, axis = -1)\n",
    "\n",
    "train = np.concatenate([x_train_ids, y_train], axis = -1)\n",
    "np.random.seed(1234)\n",
    "np.random.shuffle(train)\n",
    "print(train)"
   ]
  },
  {
   "cell_type": "markdown",
   "metadata": {},
   "source": [
    "### Shuffle Validation Data"
   ]
  },
  {
   "cell_type": "code",
   "execution_count": 8,
   "metadata": {},
   "outputs": [
    {
     "name": "stdout",
     "output_type": "stream",
     "text": [
      "[[836.   1.]\n",
      " [523.   1.]\n",
      " [ 89.   0.]\n",
      " ...\n",
      " [294.   0.]\n",
      " [723.   1.]\n",
      " [815.   1.]]\n"
     ]
    }
   ],
   "source": [
    "x_val_dict = {}\n",
    "x_val_ids = []\n",
    "\n",
    "for x in range(len(X_valid)):\n",
    "    x_val_dict[str(x)] = X_valid[x,:,:]\n",
    "    x_val_ids.append(x)\n",
    "    \n",
    "x_val_ids = np.array(x_val_ids)\n",
    "\n",
    "x_val_ids = np.expand_dims(x_val_ids, axis = -1)\n",
    "y_valid = np.expand_dims(y_valid, axis = -1)\n",
    "\n",
    "val = np.concatenate([x_val_ids, y_valid], axis = -1)\n",
    "np.random.seed(1234)\n",
    "np.random.shuffle(val)\n",
    "print(val)"
   ]
  },
  {
   "cell_type": "markdown",
   "metadata": {},
   "source": [
    "## Define CNN Model"
   ]
  },
  {
   "cell_type": "code",
   "execution_count": 9,
   "metadata": {},
   "outputs": [
    {
     "name": "stdout",
     "output_type": "stream",
     "text": [
      "WARNING:tensorflow:From /home/jdcuevas/Workspace/deep_learning/dl_env/lib/python3.6/site-packages/tensorflow/python/framework/op_def_library.py:263: colocate_with (from tensorflow.python.framework.ops) is deprecated and will be removed in a future version.\n",
      "Instructions for updating:\n",
      "Colocations handled automatically by placer.\n"
     ]
    }
   ],
   "source": [
    "### Define CNN Model ###\n",
    "\n",
    "model, eval_model = CAPSNET((img_rows, img_cols, nb_channels), nb_classes)"
   ]
  },
  {
   "cell_type": "markdown",
   "metadata": {},
   "source": [
    "### Train the Model"
   ]
  },
  {
   "cell_type": "code",
   "execution_count": 10,
   "metadata": {
    "scrolled": false
   },
   "outputs": [
    {
     "name": "stderr",
     "output_type": "stream",
     "text": [
      "\r",
      "  0%|          | 0/2048 [00:00<?, ?it/s]"
     ]
    },
    {
     "name": "stdout",
     "output_type": "stream",
     "text": [
      "Epoch 1\n",
      "Fit training data\n",
      "WARNING:tensorflow:From /home/jdcuevas/Workspace/deep_learning/dl_env/lib/python3.6/site-packages/tensorflow/python/ops/math_ops.py:3066: to_int32 (from tensorflow.python.ops.math_ops) is deprecated and will be removed in a future version.\n",
      "Instructions for updating:\n",
      "Use tf.cast instead.\n",
      "WARNING:tensorflow:From /home/jdcuevas/Workspace/deep_learning/dl_env/lib/python3.6/site-packages/tensorflow/python/ops/math_grad.py:102: div (from tensorflow.python.ops.math_ops) is deprecated and will be removed in a future version.\n",
      "Instructions for updating:\n",
      "Deprecated in favor of operator or tf.math.divide.\n"
     ]
    },
    {
     "name": "stderr",
     "output_type": "stream",
     "text": [
      "100%|██████████| 2048/2048 [02:01<00:00, 16.82it/s]\n",
      "  0%|          | 1/1024 [00:00<01:42,  9.96it/s]"
     ]
    },
    {
     "name": "stdout",
     "output_type": "stream",
     "text": [
      "Train Loss -> 1.0002891\n",
      "Train Accu -> 0.5078125\n",
      "Train Time -> 712.7286429999979 \n",
      "\n",
      "Testing on Validation Data\n"
     ]
    },
    {
     "name": "stderr",
     "output_type": "stream",
     "text": [
      "100%|██████████| 1024/1024 [00:05<00:00, 186.96it/s]\n",
      "  0%|          | 0/2048 [00:00<?, ?it/s]"
     ]
    },
    {
     "name": "stdout",
     "output_type": "stream",
     "text": [
      "Val Loss -> 0.9952588\n",
      "Val Accu -> 0.50878906\n",
      "Val Time -> 22.431491999999935 \n",
      "\n",
      "Saving Model Weights\n",
      "Epoch 2\n",
      "Fit training data\n"
     ]
    },
    {
     "name": "stderr",
     "output_type": "stream",
     "text": [
      "100%|██████████| 2048/2048 [01:58<00:00, 17.25it/s]\n",
      "  2%|▏         | 20/1024 [00:00<00:05, 194.14it/s]"
     ]
    },
    {
     "name": "stdout",
     "output_type": "stream",
     "text": [
      "Train Loss -> 0.98563755\n",
      "Train Accu -> 0.5263672\n",
      "Train Time -> 722.796477999993 \n",
      "\n",
      "Testing on Validation Data\n"
     ]
    },
    {
     "name": "stderr",
     "output_type": "stream",
     "text": [
      "100%|██████████| 1024/1024 [00:04<00:00, 215.68it/s]\n",
      "  0%|          | 2/2048 [00:00<01:54, 17.79it/s]"
     ]
    },
    {
     "name": "stdout",
     "output_type": "stream",
     "text": [
      "Val Loss -> 0.97662354\n",
      "Val Accu -> 0.5283203\n",
      "Val Time -> 19.58468300000004 \n",
      "\n",
      "Saving Model Weights\n",
      "Epoch 3\n",
      "Fit training data\n"
     ]
    },
    {
     "name": "stderr",
     "output_type": "stream",
     "text": [
      "100%|██████████| 2048/2048 [01:58<00:00, 18.78it/s]\n",
      "  3%|▎         | 26/1024 [00:00<00:03, 250.89it/s]"
     ]
    },
    {
     "name": "stdout",
     "output_type": "stream",
     "text": [
      "Train Loss -> 0.9441471\n",
      "Train Accu -> 0.54833984\n",
      "Train Time -> 709.5086660000059 \n",
      "\n",
      "Testing on Validation Data\n"
     ]
    },
    {
     "name": "stderr",
     "output_type": "stream",
     "text": [
      "100%|██████████| 1024/1024 [00:03<00:00, 262.11it/s]\n",
      "  0%|          | 2/2048 [00:00<02:01, 16.83it/s]"
     ]
    },
    {
     "name": "stdout",
     "output_type": "stream",
     "text": [
      "Val Loss -> 0.9244502\n",
      "Val Accu -> 0.56347656\n",
      "Val Time -> 17.158414999992146 \n",
      "\n",
      "Saving Model Weights\n",
      "Epoch 4\n",
      "Fit training data\n"
     ]
    },
    {
     "name": "stderr",
     "output_type": "stream",
     "text": [
      "100%|██████████| 2048/2048 [02:01<00:00, 17.21it/s]\n",
      "  2%|▏         | 22/1024 [00:00<00:04, 218.40it/s]"
     ]
    },
    {
     "name": "stdout",
     "output_type": "stream",
     "text": [
      "Train Loss -> 0.9526044\n",
      "Train Accu -> 0.5463867\n",
      "Train Time -> 730.1619840000094 \n",
      "\n",
      "Testing on Validation Data\n"
     ]
    },
    {
     "name": "stderr",
     "output_type": "stream",
     "text": [
      "100%|██████████| 1024/1024 [00:06<00:00, 147.17it/s]\n",
      "  0%|          | 2/2048 [00:00<02:01, 16.79it/s]"
     ]
    },
    {
     "name": "stdout",
     "output_type": "stream",
     "text": [
      "Val Loss -> 0.91943616\n",
      "Val Accu -> 0.5751953\n",
      "Val Time -> 28.23248399999784 \n",
      "\n",
      "Saving Model Weights\n",
      "Epoch 5\n",
      "Fit training data\n"
     ]
    },
    {
     "name": "stderr",
     "output_type": "stream",
     "text": [
      "100%|██████████| 2048/2048 [02:02<00:00, 18.43it/s]\n",
      "  3%|▎         | 26/1024 [00:00<00:03, 251.64it/s]"
     ]
    },
    {
     "name": "stdout",
     "output_type": "stream",
     "text": [
      "Train Loss -> 0.9330814\n",
      "Train Accu -> 0.5703125\n",
      "Train Time -> 725.5746860000231 \n",
      "\n",
      "Testing on Validation Data\n"
     ]
    },
    {
     "name": "stderr",
     "output_type": "stream",
     "text": [
      "100%|██████████| 1024/1024 [00:04<00:00, 205.68it/s]\n",
      "  0%|          | 2/2048 [00:00<02:09, 15.81it/s]"
     ]
    },
    {
     "name": "stdout",
     "output_type": "stream",
     "text": [
      "Val Loss -> 0.9958793\n",
      "Val Accu -> 0.5341797\n",
      "Val Time -> 20.46510099999705 \n",
      "\n",
      "Epoch 6\n",
      "Fit training data\n"
     ]
    },
    {
     "name": "stderr",
     "output_type": "stream",
     "text": [
      "100%|██████████| 2048/2048 [01:52<00:00, 18.37it/s]\n",
      "  2%|▏         | 23/1024 [00:00<00:04, 221.68it/s]"
     ]
    },
    {
     "name": "stdout",
     "output_type": "stream",
     "text": [
      "Train Loss -> 0.98364794\n",
      "Train Accu -> 0.55126953\n",
      "Train Time -> 707.418124999997 \n",
      "\n",
      "Testing on Validation Data\n"
     ]
    },
    {
     "name": "stderr",
     "output_type": "stream",
     "text": [
      "100%|██████████| 1024/1024 [00:04<00:00, 219.68it/s]\n",
      "  0%|          | 2/2048 [00:00<01:47, 19.12it/s]"
     ]
    },
    {
     "name": "stdout",
     "output_type": "stream",
     "text": [
      "Val Loss -> 0.9963659\n",
      "Val Accu -> 0.5048828\n",
      "Val Time -> 20.15507300000172 \n",
      "\n",
      "Epoch 7\n",
      "Fit training data\n"
     ]
    },
    {
     "name": "stderr",
     "output_type": "stream",
     "text": [
      "100%|██████████| 2048/2048 [01:52<00:00, 18.00it/s]\n",
      "  2%|▏         | 22/1024 [00:00<00:04, 215.44it/s]"
     ]
    },
    {
     "name": "stdout",
     "output_type": "stream",
     "text": [
      "Train Loss -> 0.95787203\n",
      "Train Accu -> 0.5654297\n",
      "Train Time -> 713.6019290000031 \n",
      "\n",
      "Testing on Validation Data\n"
     ]
    },
    {
     "name": "stderr",
     "output_type": "stream",
     "text": [
      "100%|██████████| 1024/1024 [00:04<00:00, 219.43it/s]\n",
      "  0%|          | 2/2048 [00:00<02:29, 13.66it/s]"
     ]
    },
    {
     "name": "stdout",
     "output_type": "stream",
     "text": [
      "Val Loss -> 0.9281328\n",
      "Val Accu -> 0.59375\n",
      "Val Time -> 20.09828200001175 \n",
      "\n",
      "Saving Model Weights\n",
      "Epoch 8\n",
      "Fit training data\n"
     ]
    },
    {
     "name": "stderr",
     "output_type": "stream",
     "text": [
      "100%|██████████| 2048/2048 [01:59<00:00, 17.83it/s]\n",
      "  2%|▏         | 23/1024 [00:00<00:04, 226.75it/s]"
     ]
    },
    {
     "name": "stdout",
     "output_type": "stream",
     "text": [
      "Train Loss -> 0.90186036\n",
      "Train Accu -> 0.5908203\n",
      "Train Time -> 730.4887419999868 \n",
      "\n",
      "Testing on Validation Data\n"
     ]
    },
    {
     "name": "stderr",
     "output_type": "stream",
     "text": [
      "100%|██████████| 1024/1024 [00:05<00:00, 193.60it/s]\n",
      "  0%|          | 2/2048 [00:00<01:56, 17.55it/s]"
     ]
    },
    {
     "name": "stdout",
     "output_type": "stream",
     "text": [
      "Val Loss -> 0.89389443\n",
      "Val Accu -> 0.58691406\n",
      "Val Time -> 22.094612999983838 \n",
      "\n",
      "Epoch 9\n",
      "Fit training data\n"
     ]
    },
    {
     "name": "stderr",
     "output_type": "stream",
     "text": [
      "100%|██████████| 2048/2048 [01:59<00:00, 17.21it/s]\n",
      "  2%|▏         | 22/1024 [00:00<00:04, 213.19it/s]"
     ]
    },
    {
     "name": "stdout",
     "output_type": "stream",
     "text": [
      "Train Loss -> 0.9249988\n",
      "Train Accu -> 0.58251953\n",
      "Train Time -> 720.213227999996 \n",
      "\n",
      "Testing on Validation Data\n"
     ]
    },
    {
     "name": "stderr",
     "output_type": "stream",
     "text": [
      "100%|██████████| 1024/1024 [00:07<00:00, 137.63it/s]\n",
      "  0%|          | 2/2048 [00:00<02:07, 16.10it/s]"
     ]
    },
    {
     "name": "stdout",
     "output_type": "stream",
     "text": [
      "Val Loss -> 0.8881678\n",
      "Val Accu -> 0.58691406\n",
      "Val Time -> 30.258970000012596 \n",
      "\n",
      "Epoch 10\n",
      "Fit training data\n"
     ]
    },
    {
     "name": "stderr",
     "output_type": "stream",
     "text": [
      "100%|██████████| 2048/2048 [02:00<00:00, 17.12it/s]\n",
      "  2%|▏         | 21/1024 [00:00<00:04, 206.12it/s]"
     ]
    },
    {
     "name": "stdout",
     "output_type": "stream",
     "text": [
      "Train Loss -> 0.87160265\n",
      "Train Accu -> 0.61083984\n",
      "Train Time -> 723.6220350000094 \n",
      "\n",
      "Testing on Validation Data\n"
     ]
    },
    {
     "name": "stderr",
     "output_type": "stream",
     "text": [
      "100%|██████████| 1024/1024 [00:04<00:00, 232.84it/s]\n",
      "  0%|          | 2/2048 [00:00<01:55, 17.72it/s]"
     ]
    },
    {
     "name": "stdout",
     "output_type": "stream",
     "text": [
      "Val Loss -> 0.88384825\n",
      "Val Accu -> 0.6044922\n",
      "Val Time -> 18.873261000020648 \n",
      "\n",
      "Saving Model Weights\n",
      "Epoch 11\n",
      "Fit training data\n"
     ]
    },
    {
     "name": "stderr",
     "output_type": "stream",
     "text": [
      "100%|██████████| 2048/2048 [02:02<00:00, 14.05it/s]\n",
      "  2%|▏         | 16/1024 [00:00<00:06, 148.83it/s]"
     ]
    },
    {
     "name": "stdout",
     "output_type": "stream",
     "text": [
      "Train Loss -> 0.874254\n",
      "Train Accu -> 0.60498047\n",
      "Train Time -> 746.2905929999906 \n",
      "\n",
      "Testing on Validation Data\n"
     ]
    },
    {
     "name": "stderr",
     "output_type": "stream",
     "text": [
      "100%|██████████| 1024/1024 [00:04<00:00, 250.85it/s]\n",
      "  0%|          | 2/2048 [00:00<01:54, 17.87it/s]"
     ]
    },
    {
     "name": "stdout",
     "output_type": "stream",
     "text": [
      "Val Loss -> 0.89037573\n",
      "Val Accu -> 0.5957031\n",
      "Val Time -> 17.52569500003483 \n",
      "\n",
      "Epoch 12\n",
      "Fit training data\n"
     ]
    },
    {
     "name": "stderr",
     "output_type": "stream",
     "text": [
      "100%|██████████| 2048/2048 [02:01<00:00, 17.19it/s]\n",
      "  2%|▏         | 19/1024 [00:00<00:05, 189.56it/s]"
     ]
    },
    {
     "name": "stdout",
     "output_type": "stream",
     "text": [
      "Train Loss -> 0.84809756\n",
      "Train Accu -> 0.64160156\n",
      "Train Time -> 744.1959119999283 \n",
      "\n",
      "Testing on Validation Data\n"
     ]
    },
    {
     "name": "stderr",
     "output_type": "stream",
     "text": [
      "100%|██████████| 1024/1024 [00:03<00:00, 258.41it/s]\n",
      "  0%|          | 2/2048 [00:00<02:55, 11.67it/s]"
     ]
    },
    {
     "name": "stdout",
     "output_type": "stream",
     "text": [
      "Val Loss -> 0.88940763\n",
      "Val Accu -> 0.5966797\n",
      "Val Time -> 17.339890999983254 \n",
      "\n",
      "Epoch 13\n",
      "Fit training data\n"
     ]
    },
    {
     "name": "stderr",
     "output_type": "stream",
     "text": [
      "100%|██████████| 2048/2048 [02:07<00:00, 16.83it/s]\n",
      "  2%|▏         | 17/1024 [00:00<00:05, 168.60it/s]"
     ]
    },
    {
     "name": "stdout",
     "output_type": "stream",
     "text": [
      "Train Loss -> 0.8420112\n",
      "Train Accu -> 0.63964844\n",
      "Train Time -> 739.6845049999756 \n",
      "\n",
      "Testing on Validation Data\n"
     ]
    },
    {
     "name": "stderr",
     "output_type": "stream",
     "text": [
      "100%|██████████| 1024/1024 [00:04<00:00, 250.19it/s]\n",
      "  0%|          | 2/2048 [00:00<01:57, 17.46it/s]"
     ]
    },
    {
     "name": "stdout",
     "output_type": "stream",
     "text": [
      "Val Loss -> 0.89051044\n",
      "Val Accu -> 0.59472656\n",
      "Val Time -> 17.667938000013237 \n",
      "\n",
      "Epoch 14\n",
      "Fit training data\n"
     ]
    },
    {
     "name": "stderr",
     "output_type": "stream",
     "text": [
      "100%|██████████| 2048/2048 [02:02<00:00, 17.26it/s]\n",
      "  2%|▏         | 24/1024 [00:00<00:04, 233.35it/s]"
     ]
    },
    {
     "name": "stdout",
     "output_type": "stream",
     "text": [
      "Train Loss -> 0.79986465\n",
      "Train Accu -> 0.6586914\n",
      "Train Time -> 725.1124980000131 \n",
      "\n",
      "Testing on Validation Data\n"
     ]
    },
    {
     "name": "stderr",
     "output_type": "stream",
     "text": [
      "100%|██████████| 1024/1024 [00:04<00:00, 250.84it/s]\n",
      "  0%|          | 0/2048 [00:00<?, ?it/s]"
     ]
    },
    {
     "name": "stdout",
     "output_type": "stream",
     "text": [
      "Val Loss -> 0.8905244\n",
      "Val Accu -> 0.6142578\n",
      "Val Time -> 17.567582999981823 \n",
      "\n",
      "Saving Model Weights\n",
      "Epoch 15\n",
      "Fit training data\n"
     ]
    },
    {
     "name": "stderr",
     "output_type": "stream",
     "text": [
      "100%|██████████| 2048/2048 [02:02<00:00, 17.95it/s]\n",
      "  2%|▏         | 21/1024 [00:00<00:04, 206.57it/s]"
     ]
    },
    {
     "name": "stdout",
     "output_type": "stream",
     "text": [
      "Train Loss -> 0.78138924\n",
      "Train Accu -> 0.6870117\n",
      "Train Time -> 702.5124720000313 \n",
      "\n",
      "Testing on Validation Data\n"
     ]
    },
    {
     "name": "stderr",
     "output_type": "stream",
     "text": [
      "100%|██████████| 1024/1024 [00:05<00:00, 204.66it/s]\n",
      "  0%|          | 2/2048 [00:00<01:47, 19.06it/s]"
     ]
    },
    {
     "name": "stdout",
     "output_type": "stream",
     "text": [
      "Val Loss -> 0.90871644\n",
      "Val Accu -> 0.58496094\n",
      "Val Time -> 20.95038600002772 \n",
      "\n",
      "Epoch 16\n",
      "Fit training data\n"
     ]
    },
    {
     "name": "stderr",
     "output_type": "stream",
     "text": [
      "100%|██████████| 2048/2048 [02:07<00:00, 17.05it/s]\n",
      "  2%|▏         | 23/1024 [00:00<00:04, 229.78it/s]"
     ]
    },
    {
     "name": "stdout",
     "output_type": "stream",
     "text": [
      "Train Loss -> 0.7686471\n",
      "Train Accu -> 0.6923828\n",
      "Train Time -> 741.9571809999725 \n",
      "\n",
      "Testing on Validation Data\n"
     ]
    },
    {
     "name": "stderr",
     "output_type": "stream",
     "text": [
      "100%|██████████| 1024/1024 [00:04<00:00, 241.85it/s]\n",
      "  0%|          | 2/2048 [00:00<01:57, 17.43it/s]"
     ]
    },
    {
     "name": "stdout",
     "output_type": "stream",
     "text": [
      "Val Loss -> 0.9021847\n",
      "Val Accu -> 0.5957031\n",
      "Val Time -> 18.20627599999716 \n",
      "\n",
      "Epoch 17\n",
      "Fit training data\n"
     ]
    },
    {
     "name": "stderr",
     "output_type": "stream",
     "text": [
      "100%|██████████| 2048/2048 [02:00<00:00, 17.38it/s]\n",
      "  2%|▏         | 23/1024 [00:00<00:04, 222.00it/s]"
     ]
    },
    {
     "name": "stdout",
     "output_type": "stream",
     "text": [
      "Train Loss -> 0.76499695\n",
      "Train Accu -> 0.69140625\n",
      "Train Time -> 739.6507220000167 \n",
      "\n",
      "Testing on Validation Data\n"
     ]
    },
    {
     "name": "stderr",
     "output_type": "stream",
     "text": [
      "100%|██████████| 1024/1024 [00:04<00:00, 241.99it/s]\n",
      "  0%|          | 2/2048 [00:00<01:55, 17.70it/s]"
     ]
    },
    {
     "name": "stdout",
     "output_type": "stream",
     "text": [
      "Val Loss -> 0.89622\n",
      "Val Accu -> 0.5966797\n",
      "Val Time -> 18.25021199998264 \n",
      "\n",
      "Epoch 18\n",
      "Fit training data\n"
     ]
    },
    {
     "name": "stderr",
     "output_type": "stream",
     "text": [
      "100%|██████████| 2048/2048 [01:59<00:00, 17.45it/s]\n",
      "  2%|▏         | 21/1024 [00:00<00:04, 203.66it/s]"
     ]
    },
    {
     "name": "stdout",
     "output_type": "stream",
     "text": [
      "Train Loss -> 0.74783427\n",
      "Train Accu -> 0.7138672\n",
      "Train Time -> 734.6299150000432 \n",
      "\n",
      "Testing on Validation Data\n"
     ]
    },
    {
     "name": "stderr",
     "output_type": "stream",
     "text": [
      "100%|██████████| 1024/1024 [00:04<00:00, 242.37it/s]\n",
      "  0%|          | 2/2048 [00:00<02:04, 16.49it/s]"
     ]
    },
    {
     "name": "stdout",
     "output_type": "stream",
     "text": [
      "Val Loss -> 0.92114526\n",
      "Val Accu -> 0.6064453\n",
      "Val Time -> 18.194179000021904 \n",
      "\n",
      "Epoch 19\n",
      "Fit training data\n"
     ]
    },
    {
     "name": "stderr",
     "output_type": "stream",
     "text": [
      "100%|██████████| 2048/2048 [02:05<00:00, 17.33it/s]\n",
      "  2%|▏         | 22/1024 [00:00<00:04, 219.10it/s]"
     ]
    },
    {
     "name": "stdout",
     "output_type": "stream",
     "text": [
      "Train Loss -> 0.79753625\n",
      "Train Accu -> 0.6713867\n",
      "Train Time -> 737.5940999999439 \n",
      "\n",
      "Testing on Validation Data\n"
     ]
    },
    {
     "name": "stderr",
     "output_type": "stream",
     "text": [
      "100%|██████████| 1024/1024 [00:04<00:00, 242.27it/s]\n",
      "  0%|          | 2/2048 [00:00<01:59, 17.10it/s]"
     ]
    },
    {
     "name": "stdout",
     "output_type": "stream",
     "text": [
      "Val Loss -> 0.9999323\n",
      "Val Accu -> 0.54296875\n",
      "Val Time -> 18.22002400000565 \n",
      "\n",
      "Epoch 20\n",
      "Fit training data\n"
     ]
    },
    {
     "name": "stderr",
     "output_type": "stream",
     "text": [
      "100%|██████████| 2048/2048 [02:00<00:00, 16.77it/s]\n",
      "  2%|▏         | 19/1024 [00:00<00:05, 187.73it/s]"
     ]
    },
    {
     "name": "stdout",
     "output_type": "stream",
     "text": [
      "Train Loss -> 0.8844737\n",
      "Train Accu -> 0.63183594\n",
      "Train Time -> 737.9544440000063 \n",
      "\n",
      "Testing on Validation Data\n"
     ]
    },
    {
     "name": "stderr",
     "output_type": "stream",
     "text": [
      "100%|██████████| 1024/1024 [00:08<00:00, 114.73it/s]"
     ]
    },
    {
     "name": "stdout",
     "output_type": "stream",
     "text": [
      "Val Loss -> 0.938833\n",
      "Val Accu -> 0.5859375\n",
      "Val Time -> 35.51903899998797 \n",
      "\n"
     ]
    },
    {
     "name": "stderr",
     "output_type": "stream",
     "text": [
      "\n"
     ]
    }
   ],
   "source": [
    "history = []\n",
    "best_val_acc = 0.0\n",
    "for epoch in range(epochs):\n",
    "    print(\"Epoch %d\" % (epoch + 1))\n",
    "\n",
    "    # Fit training data\n",
    "    print('Fit training data')\n",
    "    train_status = []\n",
    "    train_time = 0.0\n",
    "        \n",
    "    for i in tqdm(range(len(train))):\n",
    "        x = x_train_dict[str(int(train[i, 0]))]\n",
    "        x = np.expand_dims(x, axis = 0)\n",
    "        y = one_hot(train[i,1], num_classes = nb_classes)\n",
    "        y = y.reshape((1,2))\n",
    "        train_start_time = clock()\n",
    "        output = model.train_on_batch([x, y], [y])\n",
    "        #output = model.train_on_batch([x, y], [y, x])\n",
    "        train_time += clock() - train_start_time            \n",
    "        train_status.append(output)\n",
    "\n",
    "    # Calculate training loss and accuracy\n",
    "    train_status = np.array(train_status)\n",
    "         \n",
    "    train_loss = np.average(train_status[:, 0])\n",
    "    train_acc = np.average(train_status[:, 1])\n",
    "    print('Train Loss ->', train_loss)\n",
    "    print('Train Accu ->', train_acc)\n",
    "    print('Train Time ->', train_time, '\\n')\n",
    "    \n",
    "    # Test on validation data\n",
    "    print('Testing on Validation Data')\n",
    "    val_status = []\n",
    "    val_time = 0.0\n",
    "    for i in tqdm(range(len(val))):\n",
    "        x = x_val_dict[str(int(val[i, 0]))]\n",
    "        x = np.expand_dims(x, axis = 0)\n",
    "        y = one_hot(val[i,1], num_classes = nb_classes)\n",
    "        y = y.reshape((1,2))\n",
    "         \n",
    "        val_start_time = clock()\n",
    "        output = model.test_on_batch([x, y], [y])\n",
    "        #output = model.test_on_batch([x, y], [y, x])\n",
    "        val_time += clock() - val_start_time\n",
    "            \n",
    "        val_status.append(output)\n",
    "\n",
    "    # Calculate validation loss and accuracy\n",
    "    val_status = np.array(val_status)\n",
    "        \n",
    "    val_loss = np.average(val_status[:, 0])\n",
    "    val_acc = np.average(val_status[:, 1])\n",
    "    print('Val Loss ->', val_loss)\n",
    "    print('Val Accu ->', val_acc)\n",
    "    print('Val Time ->', val_time, '\\n')\n",
    "    \n",
    "    if val_acc > best_val_acc:\n",
    "        best_val_acc = val_acc\n",
    "        \n",
    "        print('Saving Model Weights')\n",
    "        model.save_weights('Particles' + '_best_acc_loss_weights.hdf5')\n",
    "\n",
    "    history.append([(epoch + 1), train_loss, train_acc, train_time, val_loss, val_acc, val_time])\n",
    "\n",
    "    # if train_acc == 1:\n",
    "    #     print(\"Stopping early\")\n",
    "    #     break"
   ]
  },
  {
   "cell_type": "markdown",
   "metadata": {},
   "source": [
    "### Shuffle test data"
   ]
  },
  {
   "cell_type": "code",
   "execution_count": 11,
   "metadata": {},
   "outputs": [
    {
     "name": "stdout",
     "output_type": "stream",
     "text": [
      "(1024, 1)\n",
      "(1024, 1)\n",
      "[[836.   1.]\n",
      " [523.   1.]\n",
      " [ 89.   0.]\n",
      " ...\n",
      " [294.   0.]\n",
      " [723.   1.]\n",
      " [815.   1.]]\n"
     ]
    }
   ],
   "source": [
    "x_test_dict = {}\n",
    "x_test_ids = []\n",
    "\n",
    "for x in range(len(X_test)):\n",
    "    x_test_dict[str(x)] = X_test[x,:,:]\n",
    "    x_test_ids.append(x)\n",
    "    \n",
    "x_test_ids = np.array(x_test_ids)\n",
    "\n",
    "x_test_ids = np.expand_dims(x_test_ids, axis = -1)\n",
    "y_test = np.expand_dims(y_test, axis = -1)\n",
    "print(y_test.shape)\n",
    "print(x_test_ids.shape)\n",
    "test = np.concatenate([x_test_ids, y_test], axis = -1)\n",
    "np.random.seed(1234)\n",
    "np.random.shuffle(test)\n",
    "print(test)"
   ]
  },
  {
   "cell_type": "code",
   "execution_count": 16,
   "metadata": {
    "scrolled": true
   },
   "outputs": [
    {
     "name": "stderr",
     "output_type": "stream",
     "text": [
      "  0%|          | 1/1024 [00:00<02:50,  5.99it/s]"
     ]
    },
    {
     "name": "stdout",
     "output_type": "stream",
     "text": [
      "Evaluating Test Data\n"
     ]
    },
    {
     "name": "stderr",
     "output_type": "stream",
     "text": [
      "100%|██████████| 1024/1024 [00:05<00:00, 188.80it/s]"
     ]
    },
    {
     "name": "stdout",
     "output_type": "stream",
     "text": [
      "Test Loss -> 0.8992946\n",
      "Test Accu -> 0.6113281\n",
      "Test Time -> 21.19481299997824 \n",
      "\n"
     ]
    },
    {
     "name": "stderr",
     "output_type": "stream",
     "text": [
      "\n"
     ]
    }
   ],
   "source": [
    "# Load weights of best model\n",
    "eval_model.load_weights('Particles' + '_best_acc_loss_weights.hdf5')\n",
    "eval_model.compile(optimizer=RMSprop(lr = 0.001, rho = 0.9, epsilon = None, decay = 0.0), loss=categorical_hinge, metrics={'capsnet': 'accuracy'})\n",
    "\n",
    "# Evaluate test data\n",
    "print('Evaluating Test Data')\n",
    "test_status = []\n",
    "test_time = 0.0\n",
    "\n",
    "for i in tqdm(range(len(test))):\n",
    "    x = x_test_dict[str(int(test[i, 0]))]\n",
    "    x = np.expand_dims(x, axis = 0)\n",
    "    y = one_hot(test[i,1], num_classes = nb_classes)\n",
    "    y = y.reshape((1,2))\n",
    "    \n",
    "    test_start_time = clock()\n",
    "    output = model.test_on_batch([x, y], [y])\n",
    "    #output = model.train_on_batch([x, y], [y, x])\n",
    "    test_time += clock() - test_start_time            \n",
    "    test_status.append(output)\n",
    "\n",
    "# Calculate test loss and accuracy\n",
    "test_status = np.array(test_status)\n",
    "\n",
    "test_loss = np.average(test_status[:, 0])\n",
    "test_acc = np.average(test_status[:, 1])\n",
    "print('Test Loss ->', test_loss)\n",
    "print('Test Accu ->', test_acc)\n",
    "print('Test Time ->', test_time, '\\n')\n",
    "\n",
    "# Save training history to csv file\n",
    "history = np.array(history)\n",
    "test_footer = 'Test [loss accu time], %f, %f, %f' % (test_loss, test_acc, test_time)\n",
    "    \n",
    "np.savetxt(\n",
    "    'Particles' + '_metrics.csv',\n",
    "    history,\n",
    "    fmt = '%1.3f',\n",
    "    delimiter = ', ',\n",
    "    header = 'epoch, train_loss, train_acc, train_time, val_loss, val_acc, val_time',\n",
    "    footer = test_footer\n",
    ")"
   ]
  },
  {
   "cell_type": "markdown",
   "metadata": {},
   "source": [
    "### Evaluate The Model"
   ]
  },
  {
   "cell_type": "code",
   "execution_count": 37,
   "metadata": {},
   "outputs": [
    {
     "name": "stdout",
     "output_type": "stream",
     "text": [
      "1024/1024 [==============================] - 2s 2ms/step\n",
      "\n",
      "Test loss / accuracy: 0.8993 / 0.6113\n",
      "[[0]\n",
      " [1]\n",
      " [1]\n",
      " ...\n",
      " [1]\n",
      " [0]\n",
      " [1]]\n",
      "[[1]\n",
      " [1]\n",
      " [0]\n",
      " ...\n",
      " [0]\n",
      " [1]\n",
      " [1]]\n",
      "Test ROC AUC: 0.611328125\n"
     ]
    }
   ],
   "source": [
    "# Evaluate on validation set\n",
    "y = one_hot(test[:,1], num_classes = nb_classes)\n",
    "\n",
    "x_eval = []\n",
    "for x in range(len(test)):\n",
    "    x_eval.append(x_test_dict[str(int(test[x,0]))])\n",
    "\n",
    "x_eval = np.array(x_eval)\n",
    "\n",
    "'''\n",
    "score = model.evaluate([x_eval, y], y, verbose=1)\n",
    "print('\\nValidation loss / accuracy: %0.4f / %0.4f'%(score[0], score[1]))\n",
    "y_pred = model.predict([X_valid, y])\n",
    "y_p = np.array([[np.amax(i)] for i in y_pred])\n",
    "print(y_p)\n",
    "fpr, tpr, _ = roc_curve(y_valid, y_p)\n",
    "roc_auc = auc(fpr, tpr)\n",
    "print('Validation ROC AUC:', roc_auc)\n",
    "'''\n",
    "# Evaluate on test set\n",
    "score = model.evaluate([x_eval, y], y, verbose=1)\n",
    "print('\\nTest loss / accuracy: %0.4f / %0.4f'%(score[0], score[1]))\n",
    "y_pred = model.predict([x_eval, y])\n",
    "\n",
    "for p in y_pred:\n",
    "    if np.argmax(p) == 0:\n",
    "        p[0] = 1.0\n",
    "        p[1] = 0.0\n",
    "    else:\n",
    "        p[0] = 0.0\n",
    "        p[1] = 1.0\n",
    "y_p = np.array([[np.argmax(i)] for i in y_pred])\n",
    "y_t = np.array([[np.argmax(i)] for i in y])\n",
    "\n",
    "fpr, tpr, _ = roc_curve(y_t, y_p)\n",
    "roc_auc = auc(fpr, tpr)\n",
    "print('Test ROC AUC:', roc_auc)"
   ]
  },
  {
   "cell_type": "code",
   "execution_count": 38,
   "metadata": {
    "scrolled": true
   },
   "outputs": [
    {
     "name": "stderr",
     "output_type": "stream",
     "text": [
      "No handles with labels found to put in legend.\n"
     ]
    },
    {
     "data": {
      "image/png": "[encoded data removed]",
      "text/plain": [
       "<Figure size 432x288 with 1 Axes>"
      ]
     },
     "metadata": {
      "needs_background": "light"
     },
     "output_type": "display_data"
    }
   ],
   "source": [
    "plt.plot([0, 1], [0, 1], 'k--')\n",
    "plt.legend(loc=2, prop={'size': 15})\n",
    "plt.plot(fpr, tpr, label='Model 1 (ROC-AUC = {:.3f})'.format(roc_auc))\n",
    "plt.xlabel('False positive rate')\n",
    "plt.ylabel('True positive rate')\n",
    "plt.title('ROC curve')\n",
    "plt.legend(loc='best')\n",
    "plt.show()"
   ]
  },
  {
   "cell_type": "code",
   "execution_count": null,
   "metadata": {},
   "outputs": [],
   "source": []
  }
 ],
 "metadata": {
  "kernelspec": {
   "display_name": "Python 3",
   "language": "python",
   "name": "python3"
  },
  "language_info": {
   "codemirror_mode": {
    "name": "ipython",
    "version": 3
   },
   "file_extension": ".py",
   "mimetype": "text/x-python",
   "name": "python",
   "nbconvert_exporter": "python",
   "pygments_lexer": "ipython3",
   "version": "3.6.7"
  }
 },
 "nbformat": 4,
 "nbformat_minor": 2
}
