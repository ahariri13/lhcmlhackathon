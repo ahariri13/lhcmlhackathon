{
 "cells": [
  {
   "cell_type": "markdown",
   "metadata": {},
   "source": [
    "## Image Recognition"
   ]
  },
  {
   "cell_type": "code",
   "execution_count": 1,
   "metadata": {},
   "outputs": [
    {
     "name": "stderr",
     "output_type": "stream",
     "text": [
      "Using TensorFlow backend.\n"
     ]
    }
   ],
   "source": [
    "import numpy as np\n",
    "np.random.seed(1337)  # for reproducibility\n",
    "import h5py\n",
    "from keras.models import Sequential\n",
    "from keras.optimizers import Adam\n",
    "from keras.initializers import TruncatedNormal\n",
    "from keras.layers import Input, Dense, Dropout, Flatten, Conv2D, MaxPooling2D\n",
    "from keras.callbacks import ReduceLROnPlateau\n",
    "from keras.constraints import max_norm\n",
    "from sklearn.metrics import roc_curve, auc\n",
    "\n",
    "import matplotlib.pyplot as plt"
   ]
  },
  {
   "cell_type": "code",
   "execution_count": 3,
   "metadata": {},
   "outputs": [],
   "source": [
    "lr_init     = 1.e-3    # Initial learning rate  \n",
    "batch_size  = 64       # Training batch size\n",
    "train_size  = 5120     # Training size\n",
    "valid_size  = 1024     # Validation size\n",
    "test_size   = 1050     # Test size\n",
    "epochs      = 40       # Number of epochs"
   ]
  },
  {
   "cell_type": "markdown",
   "metadata": {},
   "source": [
    "Load image data:"
   ]
  },
  {
   "cell_type": "code",
   "execution_count": 4,
   "metadata": {},
   "outputs": [],
   "source": [
    "img_rows, img_cols, nb_channels = 32, 32, 1\n",
    "input_dir = \".\";\n",
    "\n",
    "\n",
    "decays = ['SinglePhotonPt50_IMGCROPS_n249k_RHv1', 'SingleElectronPt50_IMGCROPS_n249k_RHv1']\n",
    "\n",
    "def load_data(decays, start, stop):\n",
    "    global input_dir\n",
    "    dsets = [h5py.File('%s/%s.hdf5'%(input_dir,decay)) for decay in decays]\n",
    "    X = np.concatenate([dset['/X'][start:stop] for dset in dsets])\n",
    "    y = np.concatenate([dset['/y'][start:stop] for dset in dsets])\n",
    "    assert len(X) == len(y)\n",
    "    return X, y"
   ]
  },
  {
   "cell_type": "code",
   "execution_count": 5,
   "metadata": {},
   "outputs": [],
   "source": [
    "# Set range of training set\n",
    "train_start, train_stop = 0, train_size\n",
    "assert train_stop > train_start\n",
    "assert (len(decays)*train_size) % batch_size == 0\n",
    "X_train, y_train = load_data(decays,train_start,train_stop)\n",
    "\n",
    "# Set range of validation set\n",
    "valid_start, valid_stop = 160000, 160000+valid_size\n",
    "assert valid_stop  >  valid_start\n",
    "assert valid_start >= train_stop\n",
    "X_valid, y_valid = load_data(decays,valid_start,valid_stop)\n",
    "\n",
    "# Set range of test set\n",
    "test_start, test_stop = 204800, 204800+test_size\n",
    "assert test_stop  >  test_start\n",
    "assert test_start >= valid_stop\n",
    "X_test, y_test = load_data(decays,test_start,test_stop)\n",
    "\n",
    "samples_requested = len(decays) * (train_size + valid_size + test_size)\n",
    "samples_available = len(y_train) + len(y_valid) + len(y_test)\n",
    "assert samples_requested == samples_available"
   ]
  },
  {
   "cell_type": "markdown",
   "metadata": {},
   "source": [
    "Reduce the dimensionality of the image to get only the energy:"
   ]
  },
  {
   "cell_type": "code",
   "execution_count": 6,
   "metadata": {},
   "outputs": [],
   "source": [
    "X_train_channel0 = X_train[:,:,:,0]\n",
    "X_valid_channel0 = X_valid[:,:,:,0]\n",
    "X_test_channel0 = X_test[:,:,:,0]\n",
    "X_train_channel0 = np.reshape(X_train_channel0, X_train_channel0.shape + (1,))\n",
    "X_valid_channel0 = np.reshape(X_valid_channel0, X_valid_channel0.shape + (1,))\n",
    "X_test_channel0 = np.reshape(X_test_channel0, X_test_channel0.shape + (1,))"
   ]
  },
  {
   "cell_type": "code",
   "execution_count": 7,
   "metadata": {},
   "outputs": [
    {
     "data": {
      "text/plain": [
       "(10240, 32, 32, 1)"
      ]
     },
     "execution_count": 7,
     "metadata": {},
     "output_type": "execute_result"
    }
   ],
   "source": [
    "X_train_channel0.shape"
   ]
  },
  {
   "cell_type": "code",
   "execution_count": 9,
   "metadata": {},
   "outputs": [
    {
     "name": "stdout",
     "output_type": "stream",
     "text": [
      "WARNING:tensorflow:From /opt/local/Library/Frameworks/Python.framework/Versions/2.7/lib/python2.7/site-packages/tensorflow/python/framework/op_def_library.py:263: colocate_with (from tensorflow.python.framework.ops) is deprecated and will be removed in a future version.\n",
      "Instructions for updating:\n",
      "Colocations handled automatically by placer.\n",
      "WARNING:tensorflow:From /opt/local/Library/Frameworks/Python.framework/Versions/2.7/lib/python2.7/site-packages/keras/backend/tensorflow_backend.py:3445: calling dropout (from tensorflow.python.ops.nn_ops) with keep_prob is deprecated and will be removed in a future version.\n",
      "Instructions for updating:\n",
      "Please use `rate` instead of `keep_prob`. Rate should be set to `rate = 1 - keep_prob`.\n",
      "_________________________________________________________________\n",
      "Layer (type)                 Output Shape              Param #   \n",
      "=================================================================\n",
      "conv2d_1 (Conv2D)            (None, 32, 32, 64)        1088      \n",
      "_________________________________________________________________\n",
      "conv2d_2 (Conv2D)            (None, 32, 32, 64)        65600     \n",
      "_________________________________________________________________\n",
      "max_pooling2d_1 (MaxPooling2 (None, 16, 16, 64)        0         \n",
      "_________________________________________________________________\n",
      "dropout_1 (Dropout)          (None, 16, 16, 64)        0         \n",
      "_________________________________________________________________\n",
      "conv2d_3 (Conv2D)            (None, 16, 16, 32)        32800     \n",
      "_________________________________________________________________\n",
      "conv2d_4 (Conv2D)            (None, 16, 16, 32)        16416     \n",
      "_________________________________________________________________\n",
      "max_pooling2d_2 (MaxPooling2 (None, 8, 8, 32)          0         \n",
      "_________________________________________________________________\n",
      "flatten_1 (Flatten)          (None, 2048)              0         \n",
      "_________________________________________________________________\n",
      "dense_1 (Dense)              (None, 512)               1049088   \n",
      "_________________________________________________________________\n",
      "dropout_2 (Dropout)          (None, 512)               0         \n",
      "_________________________________________________________________\n",
      "dense_2 (Dense)              (None, 256)               131328    \n",
      "_________________________________________________________________\n",
      "dropout_3 (Dropout)          (None, 256)               0         \n",
      "_________________________________________________________________\n",
      "dense_3 (Dense)              (None, 1)                 257       \n",
      "=================================================================\n",
      "Total params: 1,296,577\n",
      "Trainable params: 1,296,577\n",
      "Non-trainable params: 0\n",
      "_________________________________________________________________\n"
     ]
    }
   ],
   "source": [
    "### Define CNN Model ###\n",
    "\n",
    "model = Sequential()\n",
    "model.add(Conv2D(64, activation='relu', kernel_size=4, padding='same', kernel_initializer='TruncatedNormal', input_shape=(img_rows, img_cols, nb_channels)))\n",
    "model.add(Conv2D(64, activation='relu', kernel_size=4, padding='same', kernel_initializer='TruncatedNormal'))\n",
    "model.add(MaxPooling2D(pool_size=(2, 2)))\n",
    "model.add(Dropout(0.1))\n",
    "model.add(Conv2D(32, activation='relu', kernel_size=4, padding='same', kernel_initializer='TruncatedNormal'))\n",
    "model.add(Conv2D(32, activation='relu', kernel_size=4, padding='same', kernel_initializer='TruncatedNormal'))\n",
    "model.add(MaxPooling2D(pool_size=(2, 2)))\n",
    "model.add(Flatten())\n",
    "model.add(Dense(512, activation='relu',kernel_constraint=max_norm(2.), kernel_initializer='TruncatedNormal'))\n",
    "model.add(Dropout(0.1))\n",
    "model.add(Dense(256, activation='relu',kernel_constraint=max_norm(2.), kernel_initializer='TruncatedNormal'))\n",
    "model.add(Dropout(0.1))\n",
    "model.add(Dense(1, activation='sigmoid', kernel_initializer='TruncatedNormal'))\n",
    "model.compile(loss='binary_crossentropy', optimizer=Adam(lr=lr_init), metrics=['accuracy'])\n",
    "model.summary()"
   ]
  },
  {
   "cell_type": "code",
   "execution_count": 10,
   "metadata": {},
   "outputs": [
    {
     "name": "stdout",
     "output_type": "stream",
     "text": [
      "WARNING:tensorflow:From /opt/local/Library/Frameworks/Python.framework/Versions/2.7/lib/python2.7/site-packages/tensorflow/python/ops/math_ops.py:3066: to_int32 (from tensorflow.python.ops.math_ops) is deprecated and will be removed in a future version.\n",
      "Instructions for updating:\n",
      "Use tf.cast instead.\n",
      "Train on 10240 samples, validate on 2048 samples\n",
      "Epoch 1/40\n",
      "10240/10240 [==============================] - 93s 9ms/step - loss: 0.6779 - acc: 0.5779 - val_loss: 0.6561 - val_acc: 0.6206\n",
      "Epoch 2/40\n",
      "10240/10240 [==============================] - 94s 9ms/step - loss: 0.6651 - acc: 0.6025 - val_loss: 0.6506 - val_acc: 0.6226\n",
      "Epoch 3/40\n",
      "10240/10240 [==============================] - 94s 9ms/step - loss: 0.6540 - acc: 0.6196 - val_loss: 0.6459 - val_acc: 0.6416\n",
      "Epoch 4/40\n",
      "10240/10240 [==============================] - 94s 9ms/step - loss: 0.6374 - acc: 0.6439 - val_loss: 0.6008 - val_acc: 0.6816\n",
      "Epoch 5/40\n",
      "10240/10240 [==============================] - 94s 9ms/step - loss: 0.6262 - acc: 0.6600 - val_loss: 0.5954 - val_acc: 0.6934\n",
      "Epoch 6/40\n",
      "10240/10240 [==============================] - 94s 9ms/step - loss: 0.6214 - acc: 0.6641 - val_loss: 0.5946 - val_acc: 0.6909\n",
      "Epoch 7/40\n",
      "10240/10240 [==============================] - 96s 9ms/step - loss: 0.6146 - acc: 0.6708 - val_loss: 0.5855 - val_acc: 0.6963\n",
      "Epoch 8/40\n",
      "10240/10240 [==============================] - 93s 9ms/step - loss: 0.6091 - acc: 0.6773 - val_loss: 0.5991 - val_acc: 0.6704\n",
      "Epoch 9/40\n",
      "10240/10240 [==============================] - 93s 9ms/step - loss: 0.6035 - acc: 0.6828 - val_loss: 0.5839 - val_acc: 0.7124\n",
      "Epoch 10/40\n",
      "10240/10240 [==============================] - 95s 9ms/step - loss: 0.5992 - acc: 0.6855 - val_loss: 0.5768 - val_acc: 0.7188\n",
      "Epoch 11/40\n",
      "10240/10240 [==============================] - 94s 9ms/step - loss: 0.5950 - acc: 0.6911 - val_loss: 0.5755 - val_acc: 0.7090\n",
      "Epoch 12/40\n",
      "10240/10240 [==============================] - 94s 9ms/step - loss: 0.5910 - acc: 0.6946 - val_loss: 0.5738 - val_acc: 0.7251\n",
      "Epoch 13/40\n",
      "10240/10240 [==============================] - 96s 9ms/step - loss: 0.5844 - acc: 0.6998 - val_loss: 0.5912 - val_acc: 0.7061\n",
      "Epoch 14/40\n",
      "10240/10240 [==============================] - 95s 9ms/step - loss: 0.5807 - acc: 0.7058 - val_loss: 0.5603 - val_acc: 0.7300\n",
      "Epoch 15/40\n",
      "10240/10240 [==============================] - 91s 9ms/step - loss: 0.5788 - acc: 0.7039 - val_loss: 0.5542 - val_acc: 0.7354\n",
      "Epoch 16/40\n",
      "10240/10240 [==============================] - 93s 9ms/step - loss: 0.5770 - acc: 0.7047 - val_loss: 0.5615 - val_acc: 0.7275\n",
      "Epoch 17/40\n",
      "10240/10240 [==============================] - 90s 9ms/step - loss: 0.5739 - acc: 0.7109 - val_loss: 0.5617 - val_acc: 0.7231\n",
      "Epoch 18/40\n",
      "10240/10240 [==============================] - 91s 9ms/step - loss: 0.5727 - acc: 0.7071 - val_loss: 0.5509 - val_acc: 0.7319\n",
      "Epoch 19/40\n",
      "10240/10240 [==============================] - 91s 9ms/step - loss: 0.5674 - acc: 0.7162 - val_loss: 0.5728 - val_acc: 0.7192\n",
      "Epoch 20/40\n",
      "10240/10240 [==============================] - 90s 9ms/step - loss: 0.5620 - acc: 0.7146 - val_loss: 0.5474 - val_acc: 0.7314\n",
      "Epoch 21/40\n",
      "10240/10240 [==============================] - 90s 9ms/step - loss: 0.5632 - acc: 0.7146 - val_loss: 0.5581 - val_acc: 0.7344\n",
      "Epoch 22/40\n",
      "10240/10240 [==============================] - 92s 9ms/step - loss: 0.5570 - acc: 0.7207 - val_loss: 0.5498 - val_acc: 0.7417\n",
      "Epoch 23/40\n",
      "10240/10240 [==============================] - 91s 9ms/step - loss: 0.5549 - acc: 0.7195 - val_loss: 0.5458 - val_acc: 0.7446\n",
      "Epoch 24/40\n",
      "10240/10240 [==============================] - 90s 9ms/step - loss: 0.5538 - acc: 0.7211 - val_loss: 0.5514 - val_acc: 0.7300\n",
      "Epoch 25/40\n",
      "10240/10240 [==============================] - 90s 9ms/step - loss: 0.5452 - acc: 0.7285 - val_loss: 0.5492 - val_acc: 0.7290\n",
      "Epoch 26/40\n",
      "10240/10240 [==============================] - 90s 9ms/step - loss: 0.5465 - acc: 0.7290 - val_loss: 0.5570 - val_acc: 0.7280\n",
      "Epoch 27/40\n",
      "10240/10240 [==============================] - 90s 9ms/step - loss: 0.5433 - acc: 0.7266 - val_loss: 0.5592 - val_acc: 0.7271\n",
      "Epoch 28/40\n",
      "10240/10240 [==============================] - 90s 9ms/step - loss: 0.5449 - acc: 0.7299 - val_loss: 0.5521 - val_acc: 0.7344\n",
      "Epoch 29/40\n",
      "10240/10240 [==============================] - 91s 9ms/step - loss: 0.5325 - acc: 0.7354 - val_loss: 0.5552 - val_acc: 0.7339\n",
      "Epoch 30/40\n",
      "10240/10240 [==============================] - 91s 9ms/step - loss: 0.5359 - acc: 0.7332 - val_loss: 0.5386 - val_acc: 0.7422\n",
      "Epoch 31/40\n",
      "10240/10240 [==============================] - 90s 9ms/step - loss: 0.5252 - acc: 0.7418 - val_loss: 0.5485 - val_acc: 0.7358\n",
      "Epoch 32/40\n",
      "10240/10240 [==============================] - 93s 9ms/step - loss: 0.5285 - acc: 0.7398 - val_loss: 0.5439 - val_acc: 0.7354\n",
      "Epoch 33/40\n",
      "10240/10240 [==============================] - 90s 9ms/step - loss: 0.5240 - acc: 0.7409 - val_loss: 0.5762 - val_acc: 0.7231\n",
      "Epoch 34/40\n",
      "10240/10240 [==============================] - 90s 9ms/step - loss: 0.5201 - acc: 0.7443 - val_loss: 0.5591 - val_acc: 0.7383\n",
      "Epoch 35/40\n",
      "10240/10240 [==============================] - 90s 9ms/step - loss: 0.5148 - acc: 0.7482 - val_loss: 0.5665 - val_acc: 0.7354\n",
      "Epoch 36/40\n",
      "10240/10240 [==============================] - 90s 9ms/step - loss: 0.5123 - acc: 0.7504 - val_loss: 0.5653 - val_acc: 0.7319\n",
      "Epoch 37/40\n",
      "10240/10240 [==============================] - 90s 9ms/step - loss: 0.5061 - acc: 0.7479 - val_loss: 0.5753 - val_acc: 0.7207\n",
      "Epoch 38/40\n",
      "10240/10240 [==============================] - 90s 9ms/step - loss: 0.5019 - acc: 0.7573 - val_loss: 0.5645 - val_acc: 0.7354\n",
      "Epoch 39/40\n",
      "10240/10240 [==============================] - 90s 9ms/step - loss: 0.4971 - acc: 0.7572 - val_loss: 0.5649 - val_acc: 0.7275\n",
      "Epoch 40/40\n",
      "10240/10240 [==============================] - 90s 9ms/step - loss: 0.4932 - acc: 0.7604 - val_loss: 0.5569 - val_acc: 0.7412\n"
     ]
    }
   ],
   "source": [
    "reduce_lr = ReduceLROnPlateau(monitor='acc', factor=0.1, patience=5, min_lr=1.e-7) #val_loss #acc,loss,val_acc,val_loss,lr\n",
    "history=model.fit(X_train_channel0, y_train,\\\n",
    "        batch_size=batch_size,\\\n",
    "        epochs=epochs,\\\n",
    "        validation_data=(X_valid_channel0, y_valid),\\\n",
    "        callbacks=[reduce_lr],\\\n",
    "        verbose=1, shuffle=True)"
   ]
  },
  {
   "cell_type": "code",
   "execution_count": 12,
   "metadata": {},
   "outputs": [
    {
     "name": "stdout",
     "output_type": "stream",
     "text": [
      "['acc', 'loss', 'val_acc', 'val_loss', 'lr']\n"
     ]
    },
    {
     "data": {
      "image/png": "[encoded data removed]",
      "text/plain": [
       "<Figure size 432x288 with 1 Axes>"
      ]
     },
     "metadata": {
      "needs_background": "light"
     },
     "output_type": "display_data"
    },
    {
     "data": {
      "image/png": "[encoded data removed]",
      "text/plain": [
       "<Figure size 432x288 with 1 Axes>"
      ]
     },
     "metadata": {
      "needs_background": "light"
     },
     "output_type": "display_data"
    }
   ],
   "source": [
    "# list all data in history\n",
    "print(history.history.keys())\n",
    "# summarize history for accuracy\n",
    "plt.plot(history.history['acc'])\n",
    "plt.plot(history.history['val_acc'])\n",
    "plt.title('model accuracy')\n",
    "plt.ylabel('accuracy')\n",
    "plt.xlabel('epoch')\n",
    "plt.legend(['train', 'test'], loc='upper left')\n",
    "plt.show()\n",
    "# summarize history for loss\n",
    "plt.plot(history.history['loss'])\n",
    "plt.plot(history.history['val_loss'])\n",
    "plt.title('model loss')\n",
    "plt.ylabel('loss')\n",
    "plt.xlabel('epoch')\n",
    "plt.legend(['train', 'test'], loc='upper left')\n",
    "plt.show()"
   ]
  },
  {
   "cell_type": "code",
   "execution_count": 11,
   "metadata": {},
   "outputs": [
    {
     "name": "stdout",
     "output_type": "stream",
     "text": [
      "2048/2048 [==============================] - 5s 2ms/step\n",
      "\n",
      "Validation loss / accuracy: 0.5569 / 0.7412\n",
      "('Validation ROC AUC:', 0.7977838516235352)\n"
     ]
    },
    {
     "data": {
      "image/png": "[encoded data removed]",
      "text/plain": [
       "<Figure size 432x288 with 1 Axes>"
      ]
     },
     "metadata": {
      "needs_background": "light"
     },
     "output_type": "display_data"
    },
    {
     "name": "stdout",
     "output_type": "stream",
     "text": [
      "2100/2100 [==============================] - 5s 3ms/step\n",
      "\n",
      "Test loss / accuracy: 0.5776 / 0.7257\n",
      "('Test ROC AUC:', 0.7906462585034012)\n"
     ]
    }
   ],
   "source": [
    "# Evaluate on validation set\n",
    "score = model.evaluate(X_valid_channel0, y_valid, verbose=1)\n",
    "print('\\nValidation loss / accuracy: %0.4f / %0.4f'%(score[0], score[1]))\n",
    "y_pred = model.predict(X_valid_channel0)\n",
    "fpr, tpr, _ = roc_curve(y_valid, y_pred)\n",
    "roc_auc = auc(fpr, tpr)\n",
    "print('Validation ROC AUC:', roc_auc)\n",
    "plt.plot([0, 1], [0, 1], 'k--')\n",
    "plt.legend(loc=2, prop={'size': 15})\n",
    "plt.plot(fpr, tpr, label='Model 1 (ROC-AUC = {:.3f})'.format(roc_auc))\n",
    "plt.xlabel('False positive rate')\n",
    "plt.ylabel('True positive rate')\n",
    "plt.title('ROC curve')\n",
    "plt.legend(loc='best')\n",
    "plt.show()\n",
    "# Evaluate on test set\n",
    "score = model.evaluate(X_test_channel0, y_test, verbose=1)\n",
    "print('\\nTest loss / accuracy: %0.4f / %0.4f'%(score[0], score[1]))\n",
    "y_pred = model.predict(X_test_channel0)\n",
    "fpr, tpr, _ = roc_curve(y_test, y_pred)\n",
    "roc_auc = auc(fpr, tpr)\n",
    "print('Test ROC AUC:', roc_auc)"
   ]
  },
  {
   "cell_type": "code",
   "execution_count": null,
   "metadata": {},
   "outputs": [],
   "source": [
    "plt.plot([0, 1], [0, 1], 'k--')\n",
    "plt.legend(loc=2, prop={'size': 15})\n",
    "plt.plot(fpr, tpr, label='Model 1 (ROC-AUC = {:.3f})'.format(roc_auc))\n",
    "plt.xlabel('False positive rate')\n",
    "plt.ylabel('True positive rate')\n",
    "plt.title('ROC curve')\n",
    "plt.legend(loc='best')\n",
    "plt.show()"
   ]
  },
  {
   "cell_type": "code",
   "execution_count": null,
   "metadata": {},
   "outputs": [],
   "source": []
  }
 ],
 "metadata": {
  "kernelspec": {
   "display_name": "Python 2",
   "language": "python",
   "name": "python2"
  },
  "language_info": {
   "codemirror_mode": {
    "name": "ipython",
    "version": 2
   },
   "file_extension": ".py",
   "mimetype": "text/x-python",
   "name": "python",
   "nbconvert_exporter": "python",
   "pygments_lexer": "ipython2",
   "version": "2.7.16"
  }
 },
 "nbformat": 4,
 "nbformat_minor": 2
}
