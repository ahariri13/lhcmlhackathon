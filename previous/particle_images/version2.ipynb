{
 "cells": [
  {
   "cell_type": "code",
   "execution_count": 1,
   "metadata": {},
   "outputs": [
    {
     "name": "stderr",
     "output_type": "stream",
     "text": [
      "Using TensorFlow backend.\n"
     ]
    },
    {
     "data": {
      "text/plain": [
       "<Figure size 1152x1152 with 0 Axes>"
      ]
     },
     "metadata": {},
     "output_type": "display_data"
    }
   ],
   "source": [
    "import numpy as np\n",
    "np.random.seed(200)  # for reproducibility\n",
    "import h5py\n",
    "from keras.models import Sequential\n",
    "from keras.optimizers import Adam\n",
    "from keras.initializers import TruncatedNormal\n",
    "from keras.layers import Input, Dense, Dropout, Flatten, Conv2D, MaxPooling2D, GaussianNoise, UpSampling2D, LocallyConnected2D, RepeatVector\n",
    "from keras.callbacks import ReduceLROnPlateau, EarlyStopping\n",
    "\n",
    "from sklearn.metrics import roc_curve, auc\n",
    "\n",
    "import matplotlib\n",
    "import matplotlib.pyplot as plt\n",
    "\n",
    "%matplotlib inline \n",
    "matplotlib.rc('font', size=8)                   # Use big fonts...\n",
    "plt.rcParams['figure.figsize'] = (16., 16.0)    # ... and big plots\n",
    "plt.set_cmap('viridis')"
   ]
  },
  {
   "cell_type": "code",
   "execution_count": 13,
   "metadata": {},
   "outputs": [],
   "source": [
    "\n",
    "lr_init     = 1e-4   # Initial learning rate  \n",
    "batch_size  = 64       # Training batch size\n",
    "train_size  = 64000     # Training size\n",
    "valid_size  = 30024     # Validation size\n",
    "test_size   = 10050     # Test size\n",
    "epochs      = 10       # Number of epochs"
   ]
  },
  {
   "cell_type": "code",
   "execution_count": 14,
   "metadata": {},
   "outputs": [],
   "source": [
    "\n",
    "img_rows, img_cols, nb_channels = 32, 32, 2\n",
    "input_dir = \"/eos/user/m/mlearn09/lhcmlhackathon/notebooks/data\";\n",
    "\n",
    "\n",
    "decays = ['SinglePhotonPt50_IMGCROPS_n249k_RHv1', 'SingleElectronPt50_IMGCROPS_n249k_RHv1']\n",
    "\n",
    "def load_data(decays, start, stop):\n",
    "    global input_dir\n",
    "    dsets = [h5py.File('%s/%s.hdf5'%(input_dir,decay)) for decay in decays]\n",
    "    X = np.concatenate([dset['/X'][start:stop] for dset in dsets])\n",
    "    y = np.concatenate([dset['/y'][start:stop] for dset in dsets])\n",
    "    assert len(X) == len(y)\n",
    "    return X, y"
   ]
  },
  {
   "cell_type": "markdown",
   "metadata": {},
   "source": [
    "Selecting datasets"
   ]
  },
  {
   "cell_type": "code",
   "execution_count": 15,
   "metadata": {},
   "outputs": [],
   "source": [
    "\n",
    "# Set range of training set\n",
    "train_start, train_stop = 0, train_size\n",
    "assert train_stop > train_start\n",
    "assert (len(decays)*train_size) % batch_size == 0\n",
    "X_train, y_train = load_data(decays,train_start,train_stop)\n",
    "\n",
    "# Set range of validation set\n",
    "valid_start, valid_stop = 160000, 160000+valid_size\n",
    "assert valid_stop  >  valid_start\n",
    "assert valid_start >= train_stop\n",
    "X_valid, y_valid = load_data(decays,valid_start,valid_stop)\n",
    "\n",
    "# Set range of test set\n",
    "test_start, test_stop = 204800, 204800+test_size\n",
    "assert test_stop  >  test_start\n",
    "assert test_start >= valid_stop\n",
    "X_test, y_test = load_data(decays,test_start,test_stop)\n",
    "\n",
    "samples_requested = len(decays) * (train_size + valid_size + test_size)\n",
    "samples_available = len(y_train) + len(y_valid) + len(y_test)\n",
    "assert samples_requested == samples_available"
   ]
  },
  {
   "cell_type": "code",
   "execution_count": 16,
   "metadata": {},
   "outputs": [
    {
     "data": {
      "image/png": "[encoded data removed]",
      "text/plain": [
       "<Figure size 432x288 with 2 Axes>"
      ]
     },
     "metadata": {},
     "output_type": "display_data"
    }
   ],
   "source": [
    "plt.figure(1)\n",
    "plt.subplot(221)\n",
    "plt.imshow(X_train[1,:,:,0])\n",
    "plt.title(\"Channel 0\")\n",
    "plt.grid(False)\n",
    "\n",
    "plt.subplot(222)\n",
    "plt.imshow(X_train[1,:,:,1])\n",
    "plt.title(\"Channel 1\")\n",
    "plt.grid(False)\n",
    "\n",
    "\n",
    "plt.show()"
   ]
  },
  {
   "cell_type": "markdown",
   "metadata": {},
   "source": [
    "Convolution, max pooling, UpSampling,  respectively., max pooling, Conv, Dropout, Conv, Flaten, Dense, Dense, Dropout.\n"
   ]
  },
  {
   "cell_type": "code",
   "execution_count": null,
   "metadata": {},
   "outputs": [],
   "source": [
    "model = Sequential()\n",
    "\n",
    "model.add(Conv2D(32, activation='relu', kernel_size=(5,5),  padding='same',input_shape=(img_rows, img_cols, nb_channels)))\n",
    "model.add(MaxPooling2D(pool_size=(2, 2)))\n",
    "model.add(Conv2D(16, activation='relu', padding='same',kernel_size=(3,3), kernel_initializer='TruncatedNormal'))\n",
    "\n",
    "#Upsampling with size 2 and default ordering: Repeats the rows and columns of the data by size[0] and size[1], The idea was to enhance any assymetry in the pictures by repeated sampling\n",
    "model.add(UpSampling2D(size=(2, 2), dim_ordering='default'))\n",
    "\n",
    "model.add(MaxPooling2D(pool_size=(2, 2)))\n",
    "model.add(Conv2D(32, activation='relu', padding='same',kernel_size=3, kernel_initializer='VarianceScaling'))\n",
    "model.add(Dropout(0.2))\n",
    "model.add(Conv2D(32, activation='relu', padding='same',kernel_size=2, kernel_initializer='TruncatedNormal'))\n",
    "model.add(Flatten())\n",
    "model.add(Dense(128, activation='relu', kernel_initializer='VarianceScaling')) #relu\n",
    "model.add(Dropout(0.2))\n",
    "\n",
    "\n",
    "model.add(Dense(128, activation='relu', kernel_initializer='TruncatedNormal')) #relu\n",
    "model.add(Dropout(0.2))\n",
    "\n",
    "model.add(Dense(1, activation='hard_sigmoid', kernel_initializer='TruncatedNormal'))\n",
    "model.compile(loss='binary_crossentropy', optimizer=Adam(lr=lr_init), metrics=['accuracy'])\n",
    "model.summary()"
   ]
  },
  {
   "cell_type": "markdown",
   "metadata": {},
   "source": [
    "Train the datasets:"
   ]
  },
  {
   "cell_type": "code",
   "execution_count": 18,
   "metadata": {},
   "outputs": [
    {
     "name": "stdout",
     "output_type": "stream",
     "text": [
      "Train on 128000 samples, validate on 60048 samples\n",
      "Epoch 1/10\n",
      "128000/128000 [==============================] - 719s 6ms/step - loss: 0.6707 - acc: 0.5867 - val_loss: 0.6540 - val_acc: 0.6129\n",
      "Epoch 2/10\n",
      "128000/128000 [==============================] - 710s 6ms/step - loss: 0.6562 - acc: 0.6123 - val_loss: 0.6508 - val_acc: 0.6174\n",
      "Epoch 3/10\n",
      "128000/128000 [==============================] - 701s 5ms/step - loss: 0.6498 - acc: 0.6208 - val_loss: 0.6466 - val_acc: 0.6238\n",
      "Epoch 4/10\n",
      "128000/128000 [==============================] - 719s 6ms/step - loss: 0.6495 - acc: 0.6228 - val_loss: 0.6439 - val_acc: 0.6284\n",
      "Epoch 5/10\n",
      "128000/128000 [==============================] - 717s 6ms/step - loss: 0.6551 - acc: 0.6150 - val_loss: 0.6461 - val_acc: 0.6295\n",
      "Epoch 6/10\n",
      "128000/128000 [==============================] - 726s 6ms/step - loss: 0.6435 - acc: 0.6331 - val_loss: 0.6409 - val_acc: 0.6327\n",
      "Epoch 7/10\n",
      "128000/128000 [==============================] - 667s 5ms/step - loss: 0.6387 - acc: 0.6383 - val_loss: 0.6362 - val_acc: 0.6383\n",
      "Epoch 8/10\n",
      "128000/128000 [==============================] - 701s 5ms/step - loss: 0.6337 - acc: 0.6459 - val_loss: 0.6329 - val_acc: 0.6443\n",
      "Epoch 9/10\n",
      "128000/128000 [==============================] - 715s 6ms/step - loss: 0.6265 - acc: 0.6539 - val_loss: 0.6242 - val_acc: 0.6555\n",
      "Epoch 10/10\n",
      "128000/128000 [==============================] - 739s 6ms/step - loss: 0.6209 - acc: 0.6628 - val_loss: 0.6198 - val_acc: 0.6599\n"
     ]
    }
   ],
   "source": [
    "reduce_lr = ReduceLROnPlateau(monitor='acc', factor=0.1, patience=10, min_lr=1e-7) #val_loss #acc,loss,val_acc,val_loss,lr\n",
    "early = EarlyStopping(monitor='val_acc', min_delta=0, patience=10, verbose=0, mode='auto', baseline=None)\n",
    "history=model.fit(X_train, y_train,\\\n",
    "        batch_size=batch_size,\\\n",
    "        epochs=epochs,\\\n",
    "        validation_data=(X_valid, y_valid),\\\n",
    "        callbacks=[reduce_lr, early],\\\n",
    "        verbose=1, shuffle=True)"
   ]
  },
  {
   "cell_type": "code",
   "execution_count": 19,
   "metadata": {},
   "outputs": [
    {
     "name": "stdout",
     "output_type": "stream",
     "text": [
      "60048/60048 [==============================] - 95s 2ms/step\n",
      "\n",
      "Validation loss / accuracy: 0.6198 / 0.6599\n",
      "Validation ROC AUC: 0.718454894579762\n",
      "20100/20100 [==============================] - 31s 2ms/step\n",
      "\n",
      "Test loss / accuracy: 0.6202 / 0.6586\n",
      "Test ROC AUC: 0.7169795104081582\n"
     ]
    }
   ],
   "source": [
    "# Evaluate on validation set\n",
    "score = model.evaluate(X_valid, y_valid, verbose=1)\n",
    "print('\\nValidation loss / accuracy: %0.4f / %0.4f'%(score[0], score[1]))\n",
    "y_pred = model.predict(X_valid)\n",
    "fpr, tpr, _ = roc_curve(y_valid, y_pred)\n",
    "roc_auc = auc(fpr, tpr)\n",
    "print('Validation ROC AUC:', roc_auc)\n",
    "\n",
    "# Evaluate on test set\n",
    "score = model.evaluate(X_test, y_test, verbose=1)\n",
    "print('\\nTest loss / accuracy: %0.4f / %0.4f'%(score[0], score[1]))\n",
    "y_pred = model.predict(X_test)\n",
    "fpr, tpr, _ = roc_curve(y_test, y_pred)\n",
    "roc_auc = auc(fpr, tpr)\n",
    "print('Test ROC AUC:', roc_auc)"
   ]
  },
  {
   "cell_type": "code",
   "execution_count": 20,
   "metadata": {},
   "outputs": [
    {
     "name": "stderr",
     "output_type": "stream",
     "text": [
      "No handles with labels found to put in legend.\n"
     ]
    },
    {
     "data": {
      "image/png": "[encoded data removed]",
      "text/plain": [
       "<Figure size 432x288 with 1 Axes>"
      ]
     },
     "metadata": {},
     "output_type": "display_data"
    }
   ],
   "source": [
    "plt.plot([0, 1], [0, 1], 'k--')\n",
    "plt.legend(loc=2, prop={'size': 15})\n",
    "plt.plot(fpr, tpr, label='Model 1 (ROC-AUC = {:.3f})'.format(roc_auc))\n",
    "plt.xlabel('False positive rate')\n",
    "plt.ylabel('True positive rate')\n",
    "plt.title('ROC curve')\n",
    "plt.legend(loc='best')\n",
    "plt.show()"
   ]
  },
  {
   "cell_type": "code",
   "execution_count": null,
   "metadata": {},
   "outputs": [],
   "source": []
  },
  {
   "cell_type": "code",
   "execution_count": null,
   "metadata": {},
   "outputs": [],
   "source": []
  }
 ],
 "metadata": {
  "kernelspec": {
   "display_name": "Python 3",
   "language": "python",
   "name": "python3"
  },
  "language_info": {
   "codemirror_mode": {
    "name": "ipython",
    "version": 3
   },
   "file_extension": ".py",
   "mimetype": "text/x-python",
   "name": "python",
   "nbconvert_exporter": "python",
   "pygments_lexer": "ipython3",
   "version": "3.6.5"
  }
 },
 "nbformat": 4,
 "nbformat_minor": 2
}
