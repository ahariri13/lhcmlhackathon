{
 "cells": [
  {
   "cell_type": "code",
   "execution_count": 12,
   "metadata": {},
   "outputs": [
    {
     "name": "stderr",
     "output_type": "stream",
     "text": [
      "2019-06-07 09:31:09.399775: I tensorflow/core/common_runtime/gpu/gpu_device.cc:1471] Adding visible gpu devices: 0, 1\n",
      "2019-06-07 09:31:09.399857: I tensorflow/core/common_runtime/gpu/gpu_device.cc:952] Device interconnect StreamExecutor with strength 1 edge matrix:\n",
      "2019-06-07 09:31:09.399874: I tensorflow/core/common_runtime/gpu/gpu_device.cc:958]      0 1 \n",
      "2019-06-07 09:31:09.399888: I tensorflow/core/common_runtime/gpu/gpu_device.cc:971] 0:   N N \n",
      "2019-06-07 09:31:09.399900: I tensorflow/core/common_runtime/gpu/gpu_device.cc:971] 1:   N N \n",
      "2019-06-07 09:31:09.400556: I tensorflow/core/common_runtime/gpu/gpu_device.cc:1084] Created TensorFlow device (/job:localhost/replica:0/task:0/device:GPU:0 with 3656 MB memory) -> physical GPU (device: 0, name: TITAN Xp, pci bus id: 0000:21:00.0, compute capability: 6.1)\n",
      "2019-06-07 09:31:09.410168: I tensorflow/core/common_runtime/gpu/gpu_device.cc:1084] Created TensorFlow device (/job:localhost/replica:0/task:0/device:GPU:1 with 1517 MB memory) -> physical GPU (device: 1, name: Quadro P2000, pci bus id: 0000:2d:00.0, compute capability: 6.1)\n"
     ]
    }
   ],
   "source": [
    "import numpy as np\n",
    "from keras.models import Model\n",
    "from keras.layers.normalization import BatchNormalization\n",
    "from keras.layers.convolutional import Conv2D\n",
    "from keras.layers.convolutional import MaxPooling2D\n",
    "from keras.layers.core import Activation\n",
    "from keras.layers.core import Dropout\n",
    "from keras.layers.core import Dense\n",
    "from keras.layers import Flatten\n",
    "from keras.layers import Input\n",
    "from keras.models import Model\n",
    "from keras.layers import concatenate\n",
    "from keras.optimizers import Adam\n",
    "from keras.callbacks import LearningRateScheduler, ModelCheckpoint\n",
    "from networks_lib import *\n",
    "import h5py\n",
    "\n",
    "import sys\n",
    "sys.path.insert(0, '~/DATA1/Big_Sample/NoteBooks/')\n",
    "\n",
    "#import networks_lib\n",
    "#from keras.layers import Input,Dense, BatchNormalization, Dropout, Conv2D, MaxPooling2D, Activation, Flatten, Concatenate\n",
    "#from keras import layers\n",
    "\n",
    "import tensorflow as tf\n",
    "\n",
    "import keras.backend as K\n",
    "\n",
    "\n",
    "config = tf.ConfigProto()\n",
    "\n",
    "#Prende al massimo la memoria necessaria\n",
    "config.gpu_options.allow_growth = True\n",
    "\n",
    "#Limita alla frazione di memoria totale\n",
    "config.gpu_options.per_process_gpu_memory_fraction = 0.3\n",
    "\n",
    "#Dice di utilizzare la configurazione che abbiamo appena settato\n",
    "K.tensorflow_backend.set_session(tf.Session(config=config))\n",
    "\n",
    "import ROOT as r\n",
    "\n",
    "r.enableJSVis()"
   ]
  },
  {
   "cell_type": "code",
   "execution_count": 2,
   "metadata": {},
   "outputs": [],
   "source": [
    "img_rows, img_cols, nb_channels = 32, 32, 2        \n",
    "input_dir = '.'\n",
    "decays = ['SingleElectronPt50_IMGCROPS_n249k_RHv1_copy', 'SinglePhotonPt50_IMGCROPS_n249k_RHv1_copy']\n",
    "\n",
    "def load_data(decays, start, stop):\n",
    "    global input_dir\n",
    "    dsets = [h5py.File('%s/%s.hdf5'%(input_dir,decay)) for decay in decays]\n",
    "    X = np.concatenate([dset['/X'][start:stop] for dset in dsets])\n",
    "    y = np.concatenate([dset['/y'][start:stop] for dset in dsets])\n",
    "    assert len(X) == len(y)\n",
    "    return X, y"
   ]
  },
  {
   "cell_type": "code",
   "execution_count": 3,
   "metadata": {},
   "outputs": [],
   "source": [
    "images, targets= load_data(decays, 0, -1)\n"
   ]
  },
  {
   "cell_type": "code",
   "execution_count": 4,
   "metadata": {},
   "outputs": [],
   "source": [
    "order= np.asarray([i for i in range(len(targets))])\n",
    "np.random.shuffle(order)\n",
    "targets_temp=[]\n",
    "images_temp=[]\n",
    "for i in range(len(targets)):\n",
    "    targets_temp.append(targets[order[i]])\n",
    "    images_temp.append(images[order[i]])\n",
    "images=np.asarray(images_temp)\n",
    "targets=np.asarray(targets_temp)\n",
    "    \n",
    "    \n",
    "    "
   ]
  },
  {
   "cell_type": "code",
   "execution_count": 5,
   "metadata": {},
   "outputs": [],
   "source": [
    "Ntrain=int(0.70*len(images))\n",
    "Nval=int(0.13*len(images))\n",
    "images_train=images[:Ntrain]\n",
    "target_train=targets[:Ntrain]\n",
    "images_val=images[Ntrain:Ntrain+Nval]\n",
    "target_val=targets[Ntrain:Ntrain+Nval]\n",
    "images_test=images[Ntrain+Nval:]\n",
    "target_test=targets[Ntrain+Nval:]\n"
   ]
  },
  {
   "cell_type": "markdown",
   "metadata": {},
   "source": [
    "# Actual net\n"
   ]
  },
  {
   "cell_type": "code",
   "execution_count": 79,
   "metadata": {},
   "outputs": [
    {
     "name": "stdout",
     "output_type": "stream",
     "text": [
      "_________________________________________________________________\n",
      "Layer (type)                 Output Shape              Param #   \n",
      "=================================================================\n",
      "input_16 (InputLayer)        (None, 32, 32, 2)         0         \n",
      "_________________________________________________________________\n",
      "conv_BN_input (BatchNormaliz (None, 32, 32, 2)         8         \n",
      "_________________________________________________________________\n",
      "conv_Conv_1 (Conv2D)         (None, 32, 32, 16)        144       \n",
      "_________________________________________________________________\n",
      "conv_BN_1 (BatchNormalizatio (None, 32, 32, 16)        64        \n",
      "_________________________________________________________________\n",
      "conv_Do_1 (Dropout)          (None, 32, 32, 16)        0         \n",
      "_________________________________________________________________\n",
      "conv_Act_1 (Activation)      (None, 32, 32, 16)        0         \n",
      "_________________________________________________________________\n",
      "conv_MP_1 (MaxPooling2D)     (None, 16, 16, 16)        0         \n",
      "_________________________________________________________________\n",
      "conv_Conv_2 (Conv2D)         (None, 16, 16, 32)        2080      \n",
      "_________________________________________________________________\n",
      "conv_BN_2 (BatchNormalizatio (None, 16, 16, 32)        128       \n",
      "_________________________________________________________________\n",
      "conv_Do_2 (Dropout)          (None, 16, 16, 32)        0         \n",
      "_________________________________________________________________\n",
      "conv_Act_2 (Activation)      (None, 16, 16, 32)        0         \n",
      "_________________________________________________________________\n",
      "conv_Conv_3 (Conv2D)         (None, 16, 16, 64)        8256      \n",
      "_________________________________________________________________\n",
      "conv_BN_3 (BatchNormalizatio (None, 16, 16, 64)        256       \n",
      "_________________________________________________________________\n",
      "conv_Do_3 (Dropout)          (None, 16, 16, 64)        0         \n",
      "_________________________________________________________________\n",
      "conv_Act_3 (Activation)      (None, 16, 16, 64)        0         \n",
      "_________________________________________________________________\n",
      "flatten_16 (Flatten)         (None, 16384)             0         \n",
      "_________________________________________________________________\n",
      "conv_Dense_1 (Dense)         (None, 1024)              16778240  \n",
      "_________________________________________________________________\n",
      "conv_BN_4 (BatchNormalizatio (None, 1024)              4096      \n",
      "_________________________________________________________________\n",
      "conv_Do_4 (Dropout)          (None, 1024)              0         \n",
      "_________________________________________________________________\n",
      "conv_Act_4 (Activation)      (None, 1024)              0         \n",
      "_________________________________________________________________\n",
      "conv_Dense_2 (Dense)         (None, 1024)              1049600   \n",
      "_________________________________________________________________\n",
      "conv_BN_5 (BatchNormalizatio (None, 1024)              4096      \n",
      "_________________________________________________________________\n",
      "conv_Do_5 (Dropout)          (None, 1024)              0         \n",
      "_________________________________________________________________\n",
      "conv_Act_5 (Activation)      (None, 1024)              0         \n",
      "_________________________________________________________________\n",
      "conv_Dense_3 (Dense)         (None, 1)                 1025      \n",
      "=================================================================\n",
      "Total params: 17,847,993\n",
      "Trainable params: 17,843,669\n",
      "Non-trainable params: 4,324\n",
      "_________________________________________________________________\n"
     ]
    }
   ],
   "source": [
    "d=0.2\n",
    "dn=1024\n",
    "input_images=Input(shape=images_train[0].shape)\n",
    "conv=BatchNormalization(name=\"conv_BN_input\")(input_images)\n",
    "conv=Conv2D(16, kernel_size=(2,2), padding=\"same\", name=\"conv_Conv_1\")(conv)\n",
    "#conv=Conv2D(32, kernel_size=(4,2), padding=\"same\", name=\"conv_Conv_1_2\")(conv)\n",
    "conv=BatchNormalization(name=\"conv_BN_1\")(conv)\n",
    "conv=Dropout(d, name=\"conv_Do_1\")(conv)\n",
    "conv=Activation(\"relu\", name=\"conv_Act_1\")(conv)\n",
    "conv=MaxPooling2D((2,2), name=\"conv_MP_1\")(conv)\n",
    "\n",
    "conv=Conv2D(32, kernel_size=(2,2), padding=\"same\", name=\"conv_Conv_2\")(conv)\n",
    "#conv=Conv2D(64, kernel_size=(2,2), padding=\"same\", name=\"conv_Conv_2_2\")(conv)\n",
    "conv=BatchNormalization(name=\"conv_BN_2\")(conv)\n",
    "conv=Dropout(d, name=\"conv_Do_2\")(conv)\n",
    "conv=Activation(\"relu\", name=\"conv_Act_2\")(conv)\n",
    "\n",
    "conv=Conv2D(64, kernel_size=(2,2), padding=\"same\", name=\"conv_Conv_3\")(conv)\n",
    "conv=BatchNormalization(name=\"conv_BN_3\")(conv)\n",
    "conv=Dropout(d, name=\"conv_Do_3\")(conv)\n",
    "conv=Activation(\"relu\", name=\"conv_Act_3\")(conv)\n",
    "\n",
    "conv=Flatten()(conv)\n",
    "conv=Dense(dn, name=\"conv_Dense_1\")(conv)\n",
    "conv=BatchNormalization(name=\"conv_BN_4\")(conv)\n",
    "conv=Dropout(d, name=\"conv_Do_4\")(conv)\n",
    "conv=Activation(\"relu\", name=\"conv_Act_4\")(conv)\n",
    "\n",
    "conv=Dense(dn, name=\"conv_Dense_2\")(conv)\n",
    "conv=BatchNormalization(name=\"conv_BN_5\")(conv)\n",
    "conv=Dropout(d, name=\"conv_Do_5\")(conv)\n",
    "conv=Activation(\"relu\", name=\"conv_Act_5\")(conv)\n",
    "conv=Dense(1, activation=\"sigmoid\", name=\"conv_Dense_3\")(conv)\n",
    "\n",
    "model=Model(inputs=[input_images], outputs=conv)\n",
    "model.summary()"
   ]
  },
  {
   "cell_type": "code",
   "execution_count": 80,
   "metadata": {},
   "outputs": [],
   "source": [
    "LR_ST=1e-2\n",
    "LR_END=1e-4\n",
    "EPOCHS=240\n",
    "LR_SCHEDULER = LearningRateScheduler(lambda epoch: LR_ST * (LR_END/LR_ST)** (epoch/EPOCHS))\n",
    "filepath = 'hackaton_5.h5'\n",
    "SAVE_W = ModelCheckpoint(filepath, monitor='val_acc', verbose=1, save_best_only=True, mode='max')\n",
    "model.compile(loss='binary_crossentropy',\n",
    "                optimizer=Adam(lr=LR_ST),\n",
    "                metrics=['acc'])\n",
    "\n"
   ]
  },
  {
   "cell_type": "code",
   "execution_count": null,
   "metadata": {
    "scrolled": false
   },
   "outputs": [
    {
     "name": "stdout",
     "output_type": "stream",
     "text": [
      "Train on 348598 samples, validate on 64739 samples\n",
      "Epoch 1/240\n",
      "221440/348598 [==================>...........] - ETA: 28s - loss: 0.6728 - acc: 0.6173"
     ]
    }
   ],
   "source": [
    "history=model.fit([images_train], target_train ,\n",
    "                    epochs=EPOCHS, batch_size=128, \n",
    "                    validation_data=([images_val], target_val),\n",
    "                   callbacks=[LR_SCHEDULER, SAVE_W])"
   ]
  },
  {
   "cell_type": "code",
   "execution_count": 14,
   "metadata": {},
   "outputs": [
    {
     "data": {
      "text/html": [
       "\n",
       "<div id=\"root_plot_1\"\n",
       "     style=\"width: 696px; height: 472px\">\n",
       "</div>\n",
       "\n",
       "<script>\n",
       " requirejs.config({\n",
       "     paths: {\n",
       "       'JSRootCore' : 'https://root.cern.ch/js/notebook//scripts/JSRootCore',\n",
       "     }\n",
       "   });\n",
       " require(['JSRootCore'],\n",
       "     function(Core) {\n",
       "       var obj = Core.JSONR_unref({\"_typename\":\"TCanvas\",\"fUniqueID\":0,\"fBits\":53673992,\"fLineColor\":1,\"fLineStyle\":1,\"fLineWidth\":1,\"fFillColor\":0,\"fFillStyle\":1001,\"fLeftMargin\":0.1,\"fRightMargin\":0.1,\"fBottomMargin\":0.1,\"fTopMargin\":0.1,\"fXfile\":2,\"fYfile\":2,\"fAfile\":1,\"fXstat\":0.99,\"fYstat\":0.99,\"fAstat\":2,\"fFrameFillColor\":0,\"fFrameLineColor\":1,\"fFrameFillStyle\":1001,\"fFrameLineStyle\":1,\"fFrameLineWidth\":1,\"fFrameBorderSize\":1,\"fFrameBorderMode\":0,\"fX1\":0,\"fY1\":0,\"fX2\":1,\"fY2\":1,\"fXtoAbsPixelk\":5e-5,\"fXtoPixelk\":5e-5,\"fXtoPixel\":696,\"fYtoAbsPixelk\":472.00005,\"fYtoPixelk\":472.00005,\"fYtoPixel\":-472,\"fUtoAbsPixelk\":5e-5,\"fUtoPixelk\":5e-5,\"fUtoPixel\":696,\"fVtoAbsPixelk\":472.00005,\"fVtoPixelk\":472,\"fVtoPixel\":-472,\"fAbsPixeltoXk\":0,\"fPixeltoXk\":0,\"fPixeltoX\":0.0014367816091954,\"fAbsPixeltoYk\":1,\"fPixeltoYk\":0,\"fPixeltoY\":-0.00211864406779661,\"fXlowNDC\":0,\"fYlowNDC\":0,\"fXUpNDC\":0,\"fYUpNDC\":0,\"fWNDC\":1,\"fHNDC\":1,\"fAbsXlowNDC\":0,\"fAbsYlowNDC\":0,\"fAbsWNDC\":1,\"fAbsHNDC\":1,\"fUxmin\":0,\"fUymin\":0,\"fUxmax\":1,\"fUymax\":1,\"fTheta\":30,\"fPhi\":30,\"fAspectRatio\":0,\"fNumber\":0,\"fTickx\":0,\"fTicky\":0,\"fLogx\":0,\"fLogy\":0,\"fLogz\":0,\"fPadPaint\":0,\"fCrosshair\":0,\"fCrosshairPos\":0,\"fBorderSize\":2,\"fBorderMode\":0,\"fModified\":true,\"fGridx\":false,\"fGridy\":false,\"fAbsCoord\":false,\"fEditable\":true,\"fFixedAspectRatio\":false,\"fPrimitives\":{\"_typename\":\"TList\",\"name\":\"TList\",\"arr\":[{\"_typename\":\"TMultiGraph\",\"fUniqueID\":0,\"fBits\":50331656,\"fName\":\"loss_graph\",\"fTitle\":\"loss_graph\",\"fGraphs\":{\"_typename\":\"TList\",\"name\":\"TList\",\"arr\":[{\"_typename\":\"TGraph\",\"fUniqueID\":0,\"fBits\":50332680,\"fName\":\"Graph\",\"fTitle\":\"Graph\",\"fLineColor\":1,\"fLineStyle\":1,\"fLineWidth\":1,\"fFillColor\":0,\"fFillStyle\":1000,\"fMarkerColor\":600,\"fMarkerStyle\":20,\"fMarkerSize\":0.4,\"fNpoints\":240,\"fX\":[0,1,2,3,4,5,6,7,8,9,10,11,12,13,14,15,16,17,18,19,20,21,22,23,24,25,26,27,28,29,30,31,32,33,34,35,36,37,38,39,40,41,42,43,44,45,46,47,48,49,50,51,52,53,54,55,56,57,58,59,60,61,62,63,64,65,66,67,68,69,70,71,72,73,74,75,76,77,78,79,80,81,82,83,84,85,86,87,88,89,90,91,92,93,94,95,96,97,98,99,100,101,102,103,104,105,106,107,108,109,110,111,112,113,114,115,116,117,118,119,120,121,122,123,124,125,126,127,128,129,130,131,132,133,134,135,136,137,138,139,140,141,142,143,144,145,146,147,148,149,150,151,152,153,154,155,156,157,158,159,160,161,162,163,164,165,166,167,168,169,170,171,172,173,174,175,176,177,178,179,180,181,182,183,184,185,186,187,188,189,190,191,192,193,194,195,196,197,198,199,200,201,202,203,204,205,206,207,208,209,210,211,212,213,214,215,216,217,218,219,220,221,222,223,224,225,226,227,228,229,230,231,232,233,234,235,236,237,238,239],\"fY\":[0.655691307134995,0.613519666712299,0.60419496448863,0.598924814203101,0.595078883819781,0.592128260209762,0.589462575054465,0.587989518654791,0.586858790560519,0.586003485217032,0.584112571767461,0.583202910787543,0.582147325624227,0.581390948614998,0.580429734817824,0.579715700300522,0.578899602208705,0.57829353081362,0.577212075068106,0.576827762748948,0.576525171264323,0.575911049619557,0.575283328202306,0.574632378191672,0.574704781670941,0.573943944133813,0.573967257758173,0.573428158722824,0.572449037349966,0.57203891144404,0.571807941271304,0.571457976487509,0.571001739942927,0.570923569061546,0.570450645132815,0.570627486341448,0.569393268472717,0.569324065271705,0.569241537424807,0.568634257762775,0.568710530203785,0.568356187746955,0.567468594079507,0.567515050130942,0.567200433059144,0.56634234810327,0.567042121548714,0.566545630876532,0.566151141312975,0.565976509437555,0.565750977390245,0.565599746769117,0.565751839539959,0.565423686984254,0.565090919455171,0.56501038427069,0.564240899979369,0.564163712443995,0.563887299542044,0.564117742584589,0.56387299077987,0.563256984149625,0.564031822947724,0.563073679027082,0.562618711426161,0.56304713311799,0.562340839911703,0.562141026845087,0.562375851596741,0.562554625086194,0.561669173714985,0.561961241107022,0.561024465391174,0.561255517680295,0.561194508862062,0.560142104158601,0.560146795099783,0.560555535111456,0.560811724304891,0.560570243248244,0.559800712488629,0.559582460350577,0.559900924308556,0.559751676382167,0.559430953824359,0.558734163285172,0.559070414918942,0.559091160747478,0.558640489346448,0.558765645066802,0.558428441444958,0.558321244204076,0.557858974854808,0.558338817682866,0.558107646364673,0.558307925327529,0.557898119218259,0.557849732445206,0.557540952176517,0.557815087196956,0.556598995817158,0.557327057355524,0.557315969699838,0.556793845152659,0.55656289469317,0.5555396025121,0.55657069639433,0.556232113354421,0.556380893523581,0.556539545786966,0.556081359960635,0.556370308030163,0.556089343560964,0.556017800897734,0.556003214258001,0.555361414316601,0.556001524271964,0.555431157043282,0.555575874758141,0.55539994005484,0.554892555258858,0.554810451315924,0.555019143656027,0.555185473001694,0.554640116907043,0.554822665576305,0.554422847651803,0.554568462939452,0.55431129232375,0.55409242915217,0.554218997469331,0.553833946248731,0.554251382037392,0.553994418117626,0.553746327077576,0.553831863944245,0.553897772111487,0.553872996508117,0.553957709363715,0.553561745771572,0.553572529073526,0.55360473751039,0.553316090577361,0.553376051245834,0.552790044467468,0.553236875121323,0.553211513929223,0.553106769323602,0.553246596983111,0.552912857371243,0.552099222854067,0.552719806633657,0.553037757764762,0.552847857520393,0.552533769040698,0.55356679120341,0.552559469861876,0.552075149209701,0.55223057917142,0.552915613028443,0.552350364164439,0.552596714614742,0.551676656646364,0.552048080125447,0.552170941280194,0.552150095448647,0.551889103277857,0.552116071779016,0.552454889706345,0.551894574425746,0.55169396031718,0.551912690904597,0.551780571634865,0.55130275983288,0.551331308842614,0.551951065951991,0.551459527852002,0.551287866859421,0.55170420325308,0.551228011141206,0.551851517599514,0.551748399114879,0.551561460448063,0.551306199932809,0.55147379471577,0.551090335159823,0.551107594245391,0.551258857476056,0.551043936564791,0.550886718888111,0.551482375923458,0.551641458255801,0.550747734427829,0.549970900533187,0.550607754308818,0.550855129536408,0.550334547732482,0.550886017698877,0.550342994828608,0.550155805900869,0.550993381530397,0.551024148842132,0.550426893337486,0.550505109210886,0.550294100038115,0.5512684532061,0.550853180580211,0.55103570903627,0.550325583564293,0.55068734114496,0.550385754322391,0.550232484108554,0.550606253426185,0.550974117760193,0.550393932330556,0.550469949360436,0.550239998309523,0.549718287557227,0.550340880076849,0.55029909008673,0.550579918952703,0.550354078402908,0.550734944831425,0.550042751036851,0.550244097857071,0.550173511935952,0.550171937988821,0.550455653685027,0.550314585436118,0.550766967160694,0.549770131619733,0.550076422779046,0.550407263740051,0.550664885305949,0.550537060046146,0.550091358863188,0.550108213074104,0.550319882690647,0.54989584125747,0.550047106405378],\"fFunctions\":{\"_typename\":\"TList\",\"name\":\"TList\",\"arr\":[],\"opt\":[]},\"fHistogram\":null,\"fMinimum\":-1111,\"fMaximum\":-1111},{\"_typename\":\"TGraph\",\"fUniqueID\":0,\"fBits\":50332680,\"fName\":\"Graph\",\"fTitle\":\"Graph\",\"fLineColor\":1,\"fLineStyle\":1,\"fLineWidth\":1,\"fFillColor\":0,\"fFillStyle\":1000,\"fMarkerColor\":632,\"fMarkerStyle\":20,\"fMarkerSize\":0.4,\"fNpoints\":240,\"fX\":[0,1,2,3,4,5,6,7,8,9,10,11,12,13,14,15,16,17,18,19,20,21,22,23,24,25,26,27,28,29,30,31,32,33,34,35,36,37,38,39,40,41,42,43,44,45,46,47,48,49,50,51,52,53,54,55,56,57,58,59,60,61,62,63,64,65,66,67,68,69,70,71,72,73,74,75,76,77,78,79,80,81,82,83,84,85,86,87,88,89,90,91,92,93,94,95,96,97,98,99,100,101,102,103,104,105,106,107,108,109,110,111,112,113,114,115,116,117,118,119,120,121,122,123,124,125,126,127,128,129,130,131,132,133,134,135,136,137,138,139,140,141,142,143,144,145,146,147,148,149,150,151,152,153,154,155,156,157,158,159,160,161,162,163,164,165,166,167,168,169,170,171,172,173,174,175,176,177,178,179,180,181,182,183,184,185,186,187,188,189,190,191,192,193,194,195,196,197,198,199,200,201,202,203,204,205,206,207,208,209,210,211,212,213,214,215,216,217,218,219,220,221,222,223,224,225,226,227,228,229,230,231,232,233,234,235,236,237,238,239],\"fY\":[0.61416314741232,0.755920994912258,0.638311212989861,0.613028516322174,0.600833258201608,0.77894617141432,0.602729341088846,0.671599380472533,0.757464656937334,0.601835098875031,0.60016205227812,0.610097761495862,0.600011789679415,0.612017855929972,0.594663526783393,0.592984629428837,0.595997518175888,0.59962358088262,0.610456750384038,0.597337487938469,0.597968914711409,0.605051160961692,0.607750114029722,0.599424775664234,0.599574696269332,0.600736000536989,0.61067969637755,0.598123554249719,0.600054008329056,0.597218318324276,0.607088111939334,0.61292180585107,0.600722152364179,0.601875047003767,0.597925618357421,0.603847540749403,0.599258832177178,0.588306129692265,0.599442666364936,0.598737803578872,0.601096185456779,0.597496266684642,0.601634400228867,0.60563852855462,0.600049876086225,0.606960196894194,0.603073322486092,0.598168756330081,0.59554281731399,0.597735134743475,0.59901122355049,0.595993903449126,0.596182908885559,0.590847681473514,0.596101928677771,0.602561622784852,0.598796591677118,0.602438013164609,0.595090509423121,0.596526880042874,0.606210863204102,0.596002501003213,0.602249553102528,0.599932463533434,0.597950328392397,0.597779217131356,0.598977054046906,0.598148593583808,0.59338910934074,0.599476175553205,0.596771185564636,0.601287677378872,0.59614254397729,0.604648835398766,0.593188930052027,0.598020031149861,0.597869259822166,0.596989280077589,0.595504771568598,0.597863717483272,0.589055696935082,0.610249618002997,0.590756264879944,0.596089001793034,0.596329235921385,0.595802623027355,0.606784650103505,0.597717114412176,0.599317043962156,0.599455510063357,0.597920209077779,0.600345209028464,0.598683372626286,0.602101661490581,0.598839691058373,0.600588883421751,0.602062661477027,0.599314692845761,0.602286352626652,0.597257574533119,0.600625431467287,0.593987453112569,0.598463928155917,0.595225388751595,0.593485149422199,0.602297441109657,0.594825063792299,0.600203422553848,0.594530503084629,0.592670906786772,0.597982608167542,0.602633105566685,0.599082091883094,0.597182694045314,0.599942072831689,0.597217207542247,0.598303802257675,0.59981370753804,0.596132046634368,0.599788033876073,0.599223671459924,0.598384254914778,0.598575356368859,0.596473507517197,0.601303325689477,0.602132329378032,0.600857607392739,0.596110326471271,0.598137321379583,0.600881986710737,0.599559657795292,0.602791280820778,0.601319420609097,0.597145484493087,0.602055335306706,0.603495430447519,0.602191840498969,0.600981836522332,0.603370641830296,0.599164662841341,0.603788491397588,0.599317070480832,0.602784085613294,0.599065508742886,0.59952248432036,0.60379617896601,0.598449717258291,0.604739255027106,0.602763694939721,0.603926711233157,0.600214934388282,0.601139666888164,0.602829610432842,0.603850248873121,0.603084193733787,0.601910454391757,0.603367588140688,0.601519469401763,0.601431987789195,0.601991032842014,0.601133970037909,0.601109752294818,0.601055352676125,0.604419875769003,0.600240491353526,0.604030333929736,0.601590082512247,0.601695415164891,0.601175053385666,0.602804641087877,0.604985741117297,0.60321418401749,0.599360144235561,0.599567204375467,0.601819640256331,0.602364591203077,0.602498243683473,0.60171519011776,0.602378251448028,0.602270494449032,0.601171363833387,0.604078948629431,0.599863053821015,0.599303308830003,0.601307917013011,0.601781674439848,0.603064850580611,0.603951997121055,0.601828925678346,0.603104185130172,0.601452383540382,0.604422444915265,0.602831851306561,0.60463643784257,0.602039396754562,0.60199915672428,0.604811942405745,0.602296404625588,0.605920804235767,0.604728672925328,0.604788976063732,0.6039806483784,0.604772452774915,0.604789626099527,0.60446455999264,0.603832272887847,0.603816421799551,0.60368486756948,0.601938198060918,0.602015849161613,0.601723015133449,0.605099885279834,0.603922200169981,0.602342414609028,0.603280289499898,0.60380979223452,0.603175024226218,0.603410707976025,0.603760442744776,0.60316149250151,0.603805861705982,0.602164060214829,0.603094251884783,0.604521105316859,0.603076961552254,0.602944831008916,0.601976470208024,0.605504328197433,0.602328182588898,0.603478952342556,0.603409649654996,0.604517867129889,0.605123563104591,0.606755275145841,0.605279653041311,0.605352378035721,0.605262862450903,0.604401281995153,0.603298637863438,0.603278664810911],\"fFunctions\":{\"_typename\":\"TList\",\"name\":\"TList\",\"arr\":[],\"opt\":[]},\"fHistogram\":null,\"fMinimum\":-1111,\"fMaximum\":-1111}],\"opt\":[\"\",\"\"]},\"fFunctions\":null,\"fHistogram\":null,\"fMaximum\":-1111,\"fMinimum\":-1111},{\"_typename\":\"TLegend\",\"fUniqueID\":0,\"fBits\":50331656,\"fLineColor\":1,\"fLineStyle\":1,\"fLineWidth\":1,\"fFillColor\":0,\"fFillStyle\":1001,\"fX1\":0.7,\"fY1\":0.7,\"fX2\":0.85,\"fY2\":0.85,\"fX1NDC\":0,\"fY1NDC\":0,\"fX2NDC\":0,\"fY2NDC\":0,\"fBorderSize\":1,\"fInit\":0,\"fShadowColor\":1,\"fCornerRadius\":0,\"fOption\":\"brNDC\",\"fName\":\"TPave\",\"fTextAngle\":0,\"fTextSize\":0,\"fTextAlign\":12,\"fTextColor\":1,\"fTextFont\":42,\"fPrimitives\":{\"_typename\":\"TList\",\"name\":\"TList\",\"arr\":[{\"_typename\":\"TLegendEntry\",\"fUniqueID\":0,\"fBits\":50331656,\"fTextAngle\":0,\"fTextSize\":0,\"fTextAlign\":0,\"fTextColor\":0,\"fTextFont\":0,\"fLineColor\":1,\"fLineStyle\":1,\"fLineWidth\":1,\"fFillColor\":0,\"fFillStyle\":0,\"fMarkerColor\":1,\"fMarkerStyle\":21,\"fMarkerSize\":1,\"fObject\":{\"$ref\":4},\"fLabel\":\"train loss\",\"fOption\":\"lpf\"},{\"_typename\":\"TLegendEntry\",\"fUniqueID\":0,\"fBits\":50331656,\"fTextAngle\":0,\"fTextSize\":0,\"fTextAlign\":0,\"fTextColor\":0,\"fTextFont\":0,\"fLineColor\":1,\"fLineStyle\":1,\"fLineWidth\":1,\"fFillColor\":0,\"fFillStyle\":0,\"fMarkerColor\":1,\"fMarkerStyle\":21,\"fMarkerSize\":1,\"fObject\":{\"$ref\":6},\"fLabel\":\"val loss\",\"fOption\":\"lpf\"}],\"opt\":[\"lpf\",\"lpf\"]},\"fEntrySeparation\":0.1,\"fMargin\":0.25,\"fNColumns\":1,\"fColumnSeparation\":0}],\"opt\":[\"apl\",\"\"]},\"fExecs\":null,\"fName\":\"c1\",\"fTitle\":\"c1\",\"fNumPaletteColor\":0,\"fNextPaletteColor\":0,\"fDISPLAY\":\"$DISPLAY\",\"fDoubleBuffer\":0,\"fRetained\":true,\"fXsizeUser\":0,\"fYsizeUser\":0,\"fXsizeReal\":20,\"fYsizeReal\":14.28571,\"fWindowTopX\":0,\"fWindowTopY\":0,\"fWindowWidth\":0,\"fWindowHeight\":0,\"fCw\":696,\"fCh\":472,\"fCatt\":{\"_typename\":\"TAttCanvas\",\"fXBetween\":2,\"fYBetween\":2,\"fTitleFromTop\":1.2,\"fXdate\":0.2,\"fYdate\":0.3,\"fAdate\":1},\"kMoveOpaque\":true,\"kResizeOpaque\":true,\"fHighLightColor\":2,\"fBatch\":true,\"kShowEventStatus\":false,\"kAutoExec\":true,\"kMenuBar\":true});\n",
       "       Core.draw(\"root_plot_1\", obj, \"\");\n",
       "     }\n",
       " );\n",
       "</script>\n"
      ],
      "text/plain": [
       "<IPython.core.display.HTML object>"
      ]
     },
     "metadata": {},
     "output_type": "display_data"
    }
   ],
   "source": [
    "hist_n=0\n",
    "from array import array\n",
    "val_loss=array('d', history.history['val_loss'])\n",
    "train_loss=array('d', history.history['loss'])\n",
    "\n",
    "epochs=array('d', range(len(val_loss)))\n",
    "loss_graph=r.TMultiGraph(\"loss_graph\", \"loss_graph\")\n",
    "val_loss_graph=r.TGraph(len(epochs), epochs, val_loss)\n",
    "train_loss_graph=r.TGraph(len(epochs), epochs, train_loss)\n",
    "\n",
    "val_loss_graph.SetMarkerColor(r.kRed)\n",
    "val_loss_graph.SetMarkerStyle(20)\n",
    "val_loss_graph.SetMarkerSize(0.4)\n",
    "\n",
    "train_loss_graph.SetMarkerColor(r.kBlue)\n",
    "train_loss_graph.SetMarkerStyle(20)\n",
    "train_loss_graph.SetMarkerSize(0.4)\n",
    "\n",
    "loss_graph.Add(train_loss_graph)\n",
    "loss_graph.Add(val_loss_graph)\n",
    "\n",
    "c=r.TCanvas()\n",
    "legend=r.TLegend(0.7, 0.7, 0.85, 0.85)\n",
    "legend.AddEntry(train_loss_graph, \"train loss\")\n",
    "legend.AddEntry(val_loss_graph, \"val loss\")\n",
    "#legend.SetTextFont(20)\n",
    "#legend.SetTextSize(1)\n",
    "#r.gPad.Update()\n",
    "c.Draw()\n",
    "loss_graph.Draw(\"apl\")\n",
    "legend.Draw()"
   ]
  },
  {
   "cell_type": "code",
   "execution_count": 81,
   "metadata": {},
   "outputs": [
    {
     "name": "stdout",
     "output_type": "stream",
     "text": [
      "84661/84661 [==============================] - 17s 205us/step\n"
     ]
    }
   ],
   "source": [
    "model.load_weights('hackaton_5.h5')\n",
    "evaluations=model.evaluate(images_test, target_test)"
   ]
  },
  {
   "cell_type": "code",
   "execution_count": 82,
   "metadata": {},
   "outputs": [
    {
     "data": {
      "text/plain": [
       "[0.59498543642429, 0.7134808235253167]"
      ]
     },
     "execution_count": 82,
     "metadata": {},
     "output_type": "execute_result"
    }
   ],
   "source": [
    "evaluations"
   ]
  },
  {
   "cell_type": "code",
   "execution_count": 19,
   "metadata": {},
   "outputs": [],
   "source": [
    "predictions=model.predict([images_test])"
   ]
  },
  {
   "cell_type": "markdown",
   "metadata": {},
   "source": [
    "# Plots"
   ]
  },
  {
   "cell_type": "code",
   "execution_count": 21,
   "metadata": {},
   "outputs": [
    {
     "name": "stderr",
     "output_type": "stream",
     "text": [
      "Warning in <TROOT::Append>: Replacing existing TH1: ph (Potential memory leak).\n",
      "Warning in <TROOT::Append>: Replacing existing TH1: el (Potential memory leak).\n"
     ]
    },
    {
     "data": {
      "text/html": [
       "\n",
       "<div id=\"root_plot_2\"\n",
       "     style=\"width: 696px; height: 472px\">\n",
       "</div>\n",
       "\n",
       "<script>\n",
       " requirejs.config({\n",
       "     paths: {\n",
       "       'JSRootCore' : 'https://root.cern.ch/js/notebook//scripts/JSRootCore',\n",
       "     }\n",
       "   });\n",
       " require(['JSRootCore'],\n",
       "     function(Core) {\n",
       "       var obj = Core.JSONR_unref({\"_typename\":\"TCanvas\",\"fUniqueID\":0,\"fBits\":53673992,\"fLineColor\":1,\"fLineStyle\":1,\"fLineWidth\":1,\"fFillColor\":0,\"fFillStyle\":1001,\"fLeftMargin\":0.1,\"fRightMargin\":0.1,\"fBottomMargin\":0.1,\"fTopMargin\":0.1,\"fXfile\":2,\"fYfile\":2,\"fAfile\":1,\"fXstat\":0.99,\"fYstat\":0.99,\"fAstat\":2,\"fFrameFillColor\":0,\"fFrameLineColor\":1,\"fFrameFillStyle\":1001,\"fFrameLineStyle\":1,\"fFrameLineWidth\":1,\"fFrameBorderSize\":1,\"fFrameBorderMode\":0,\"fX1\":-0.125000009313226,\"fY1\":-219.712516369858,\"fX2\":1.12500000931323,\"fY2\":1977.41251636986,\"fXtoAbsPixelk\":69.6000541484835,\"fXtoPixelk\":69.6000541484835,\"fXtoPixel\":556.799991703033,\"fYtoAbsPixelk\":424.800047186661,\"fYtoPixelk\":424.800047186661,\"fYtoPixel\":-0.214826190119657,\"fUtoAbsPixelk\":5e-5,\"fUtoPixelk\":5e-5,\"fUtoPixel\":696,\"fVtoAbsPixelk\":472.00005,\"fVtoPixelk\":472,\"fVtoPixel\":-472,\"fAbsPixeltoXk\":-0.125000009313226,\"fPixeltoXk\":-0.125000009313226,\"fPixeltoX\":0.0017959770382564,\"fAbsPixeltoYk\":1977.41251636986,\"fPixeltoYk\":-219.712516369858,\"fPixeltoY\":-4.65492591682143,\"fXlowNDC\":0,\"fYlowNDC\":0,\"fXUpNDC\":0,\"fYUpNDC\":0,\"fWNDC\":1,\"fHNDC\":1,\"fAbsXlowNDC\":0,\"fAbsYlowNDC\":0,\"fAbsWNDC\":1,\"fAbsHNDC\":1,\"fUxmin\":0,\"fUymin\":0,\"fUxmax\":1,\"fUymax\":1757.7,\"fTheta\":30,\"fPhi\":30,\"fAspectRatio\":0,\"fNumber\":0,\"fTickx\":0,\"fTicky\":0,\"fLogx\":0,\"fLogy\":0,\"fLogz\":0,\"fPadPaint\":0,\"fCrosshair\":0,\"fCrosshairPos\":0,\"fBorderSize\":2,\"fBorderMode\":0,\"fModified\":false,\"fGridx\":false,\"fGridy\":false,\"fAbsCoord\":false,\"fEditable\":true,\"fFixedAspectRatio\":false,\"fPrimitives\":{\"_typename\":\"TList\",\"name\":\"TList\",\"arr\":[{\"_typename\":\"TFrame\",\"fUniqueID\":0,\"fBits\":50331656,\"fLineColor\":1,\"fLineStyle\":1,\"fLineWidth\":1,\"fFillColor\":0,\"fFillStyle\":1001,\"fX1\":0,\"fY1\":0,\"fX2\":1,\"fY2\":1757.7,\"fBorderSize\":1,\"fBorderMode\":0},{\"_typename\":\"TH1F\",\"fUniqueID\":0,\"fBits\":50331656,\"fName\":\"ph\",\"fTitle\":\"ph\",\"fLineColor\":602,\"fLineStyle\":1,\"fLineWidth\":1,\"fFillColor\":0,\"fFillStyle\":1001,\"fMarkerColor\":1,\"fMarkerStyle\":1,\"fMarkerSize\":1,\"fNcells\":102,\"fXaxis\":{\"_typename\":\"TAxis\",\"fUniqueID\":0,\"fBits\":50331648,\"fName\":\"xaxis\",\"fTitle\":\"\",\"fNdivisions\":510,\"fAxisColor\":1,\"fLabelColor\":1,\"fLabelFont\":42,\"fLabelOffset\":0.005,\"fLabelSize\":0.035,\"fTickLength\":0.03,\"fTitleOffset\":1,\"fTitleSize\":0.035,\"fTitleColor\":1,\"fTitleFont\":42,\"fNbins\":100,\"fXmin\":0,\"fXmax\":1,\"fXbins\":[],\"fFirst\":0,\"fLast\":0,\"fBits2\":0,\"fTimeDisplay\":false,\"fTimeFormat\":\"\",\"fLabels\":null,\"fModLabs\":null},\"fYaxis\":{\"_typename\":\"TAxis\",\"fUniqueID\":0,\"fBits\":50331648,\"fName\":\"yaxis\",\"fTitle\":\"\",\"fNdivisions\":510,\"fAxisColor\":1,\"fLabelColor\":1,\"fLabelFont\":42,\"fLabelOffset\":0.005,\"fLabelSize\":0.035,\"fTickLength\":0.03,\"fTitleOffset\":0,\"fTitleSize\":0.035,\"fTitleColor\":1,\"fTitleFont\":42,\"fNbins\":1,\"fXmin\":0,\"fXmax\":1,\"fXbins\":[],\"fFirst\":0,\"fLast\":0,\"fBits2\":0,\"fTimeDisplay\":false,\"fTimeFormat\":\"\",\"fLabels\":null,\"fModLabs\":null},\"fZaxis\":{\"_typename\":\"TAxis\",\"fUniqueID\":0,\"fBits\":50331648,\"fName\":\"zaxis\",\"fTitle\":\"\",\"fNdivisions\":510,\"fAxisColor\":1,\"fLabelColor\":1,\"fLabelFont\":42,\"fLabelOffset\":0.005,\"fLabelSize\":0.035,\"fTickLength\":0.03,\"fTitleOffset\":1,\"fTitleSize\":0.035,\"fTitleColor\":1,\"fTitleFont\":42,\"fNbins\":1,\"fXmin\":0,\"fXmax\":1,\"fXbins\":[],\"fFirst\":0,\"fLast\":0,\"fBits2\":0,\"fTimeDisplay\":false,\"fTimeFormat\":\"\",\"fLabels\":null,\"fModLabs\":null},\"fBarOffset\":0,\"fBarWidth\":1000,\"fEntries\":42264,\"fTsumw\":42264,\"fTsumw2\":42264,\"fTsumwx\":19071.8853368834,\"fTsumwx2\":9694.60438280613,\"fMaximum\":-1111,\"fMinimum\":-1111,\"fNormFactor\":0,\"fContour\":[],\"fSumw2\":[],\"fOption\":\"\",\"fFunctions\":{\"_typename\":\"TList\",\"name\":\"TList\",\"arr\":[{\"_typename\":\"TPaveStats\",\"fUniqueID\":0,\"fBits\":50331657,\"fLineColor\":1,\"fLineStyle\":1,\"fLineWidth\":1,\"fFillColor\":0,\"fFillStyle\":1001,\"fX1\":0.850000025331974,\"fY1\":1483.05939709931,\"fX2\":1.10000003278256,\"fY2\":1834.59939448013,\"fX1NDC\":0.780000016093254,\"fY1NDC\":0.775000005960464,\"fX2NDC\":0.980000019073486,\"fY2NDC\":0.935000002384186,\"fBorderSize\":1,\"fInit\":1,\"fShadowColor\":1,\"fCornerRadius\":0,\"fOption\":\"brNDC\",\"fName\":\"stats\",\"fTextAngle\":0,\"fTextSize\":0,\"fTextAlign\":12,\"fTextColor\":1,\"fTextFont\":42,\"fLabel\":\"\",\"fLongest\":18,\"fMargin\":0.05,\"fLines\":{\"_typename\":\"TList\",\"name\":\"TList\",\"arr\":[{\"_typename\":\"TLatex\",\"fUniqueID\":0,\"fBits\":50331648,\"fName\":\"\",\"fTitle\":\"ph\",\"fTextAngle\":0,\"fTextSize\":0.0368,\"fTextAlign\":0,\"fTextColor\":0,\"fTextFont\":0,\"fX\":0,\"fY\":0,\"fLineColor\":1,\"fLineStyle\":1,\"fLineWidth\":2,\"fLimitFactorSize\":3,\"fOriginSize\":0.0368000008165836},{\"_typename\":\"TLatex\",\"fUniqueID\":0,\"fBits\":50331648,\"fName\":\"\",\"fTitle\":\"Entries = 42264  \",\"fTextAngle\":0,\"fTextSize\":0,\"fTextAlign\":0,\"fTextColor\":0,\"fTextFont\":0,\"fX\":0,\"fY\":0,\"fLineColor\":1,\"fLineStyle\":1,\"fLineWidth\":2,\"fLimitFactorSize\":3,\"fOriginSize\":0.04},{\"_typename\":\"TLatex\",\"fUniqueID\":0,\"fBits\":50331648,\"fName\":\"\",\"fTitle\":\"Mean  = 0.4513\",\"fTextAngle\":0,\"fTextSize\":0,\"fTextAlign\":0,\"fTextColor\":0,\"fTextFont\":0,\"fX\":0,\"fY\":0,\"fLineColor\":1,\"fLineStyle\":1,\"fLineWidth\":2,\"fLimitFactorSize\":3,\"fOriginSize\":0.04},{\"_typename\":\"TLatex\",\"fUniqueID\":0,\"fBits\":50331648,\"fName\":\"\",\"fTitle\":\"Std Dev   = 0.1605\",\"fTextAngle\":0,\"fTextSize\":0,\"fTextAlign\":0,\"fTextColor\":0,\"fTextFont\":0,\"fX\":0,\"fY\":0,\"fLineColor\":1,\"fLineStyle\":1,\"fLineWidth\":2,\"fLimitFactorSize\":3,\"fOriginSize\":0.04}],\"opt\":[\"\",\"\",\"\",\"\"]},\"fOptFit\":0,\"fOptStat\":1111,\"fFitFormat\":\"5.4g\",\"fStatFormat\":\"6.4g\",\"fParent\":{\"$ref\":3}}],\"opt\":[\"brNDC\"]},\"fBufferSize\":0,\"fBuffer\":[],\"fBinStatErrOpt\":0,\"fStatOverflows\":2,\"fArray\":[0,0,0,0,0,0,0,2,3,1,10,14,13,24,39,89,194,293,367,440,500,487,532,542,587,614,603,633,644,669,640,620,742,677,674,789,714,810,807,838,902,1014,1147,1287,1478,1506,1674,1620,1496,1310,1215,994,821,594,469,475,397,382,367,361,365,358,380,370,404,405,388,400,418,403,374,415,349,314,330,325,293,256,194,189,168,163,155,136,117,126,89,81,62,46,33,24,9,4,0,1,0,0,0,0,0,0]},{\"_typename\":\"TH1F\",\"fUniqueID\":0,\"fBits\":50331656,\"fName\":\"el\",\"fTitle\":\"el\",\"fLineColor\":632,\"fLineStyle\":1,\"fLineWidth\":1,\"fFillColor\":0,\"fFillStyle\":1001,\"fMarkerColor\":1,\"fMarkerStyle\":1,\"fMarkerSize\":1,\"fNcells\":102,\"fXaxis\":{\"_typename\":\"TAxis\",\"fUniqueID\":0,\"fBits\":50331648,\"fName\":\"xaxis\",\"fTitle\":\"\",\"fNdivisions\":510,\"fAxisColor\":1,\"fLabelColor\":1,\"fLabelFont\":42,\"fLabelOffset\":0.005,\"fLabelSize\":0.035,\"fTickLength\":0.03,\"fTitleOffset\":1,\"fTitleSize\":0.035,\"fTitleColor\":1,\"fTitleFont\":42,\"fNbins\":100,\"fXmin\":0,\"fXmax\":1,\"fXbins\":[],\"fFirst\":0,\"fLast\":0,\"fBits2\":0,\"fTimeDisplay\":false,\"fTimeFormat\":\"\",\"fLabels\":null,\"fModLabs\":null},\"fYaxis\":{\"_typename\":\"TAxis\",\"fUniqueID\":0,\"fBits\":50331648,\"fName\":\"yaxis\",\"fTitle\":\"\",\"fNdivisions\":510,\"fAxisColor\":1,\"fLabelColor\":1,\"fLabelFont\":42,\"fLabelOffset\":0.005,\"fLabelSize\":0.035,\"fTickLength\":0.03,\"fTitleOffset\":0,\"fTitleSize\":0.035,\"fTitleColor\":1,\"fTitleFont\":42,\"fNbins\":1,\"fXmin\":0,\"fXmax\":1,\"fXbins\":[],\"fFirst\":0,\"fLast\":0,\"fBits2\":0,\"fTimeDisplay\":false,\"fTimeFormat\":\"\",\"fLabels\":null,\"fModLabs\":null},\"fZaxis\":{\"_typename\":\"TAxis\",\"fUniqueID\":0,\"fBits\":50331648,\"fName\":\"zaxis\",\"fTitle\":\"\",\"fNdivisions\":510,\"fAxisColor\":1,\"fLabelColor\":1,\"fLabelFont\":42,\"fLabelOffset\":0.005,\"fLabelSize\":0.035,\"fTickLength\":0.03,\"fTitleOffset\":1,\"fTitleSize\":0.035,\"fTitleColor\":1,\"fTitleFont\":42,\"fNbins\":1,\"fXmin\":0,\"fXmax\":1,\"fXbins\":[],\"fFirst\":0,\"fLast\":0,\"fBits2\":0,\"fTimeDisplay\":false,\"fTimeFormat\":\"\",\"fLabels\":null,\"fModLabs\":null},\"fBarOffset\":0,\"fBarWidth\":1000,\"fEntries\":42397,\"fTsumw\":42397,\"fTsumw2\":42397,\"fTsumwx\":25657.2838477418,\"fTsumwx2\":16429.1732370869,\"fMaximum\":-1111,\"fMinimum\":-1111,\"fNormFactor\":0,\"fContour\":[],\"fSumw2\":[],\"fOption\":\"\",\"fFunctions\":{\"_typename\":\"TList\",\"name\":\"TList\",\"arr\":[],\"opt\":[]},\"fBufferSize\":0,\"fBuffer\":[],\"fBinStatErrOpt\":0,\"fStatOverflows\":2,\"fArray\":[0,0,0,0,0,0,0,1,0,1,0,1,1,2,1,4,2,9,21,26,36,62,59,56,70,80,93,78,101,125,120,138,145,160,171,192,240,247,273,296,338,404,455,586,651,799,899,1022,1075,1089,1124,1162,1131,939,882,860,780,778,840,787,745,835,835,895,960,972,1028,998,1054,1059,1022,1047,1017,1065,930,899,894,786,721,646,655,578,573,499,466,428,369,308,263,184,124,79,38,9,4,0,0,0,0,0,0,0]},{\"_typename\":\"TPaveText\",\"fUniqueID\":0,\"fBits\":50331657,\"fLineColor\":1,\"fLineStyle\":1,\"fLineWidth\":1,\"fFillColor\":0,\"fFillStyle\":0,\"fX1\":0.462356321278146,\"fY1\":1832.36503527841,\"fX2\":0.537643678721854,\"fY2\":1966.42690168287,\"fX1NDC\":0.469885057471264,\"fY1NDC\":0.933983055615829,\"fX2NDC\":0.530114942528736,\"fY2NDC\":0.995000004768372,\"fBorderSize\":0,\"fInit\":1,\"fShadowColor\":1,\"fCornerRadius\":0,\"fOption\":\"blNDC\",\"fName\":\"title\",\"fTextAngle\":0,\"fTextSize\":0,\"fTextAlign\":22,\"fTextColor\":1,\"fTextFont\":42,\"fLabel\":\"\",\"fLongest\":2,\"fMargin\":0.05,\"fLines\":{\"_typename\":\"TList\",\"name\":\"TList\",\"arr\":[{\"_typename\":\"TLatex\",\"fUniqueID\":0,\"fBits\":50331648,\"fName\":\"\",\"fTitle\":\"ph\",\"fTextAngle\":0,\"fTextSize\":0,\"fTextAlign\":0,\"fTextColor\":0,\"fTextFont\":0,\"fX\":0,\"fY\":0,\"fLineColor\":1,\"fLineStyle\":1,\"fLineWidth\":2,\"fLimitFactorSize\":3,\"fOriginSize\":0.0518644079566002}],\"opt\":[\"\"]}}],\"opt\":[\"\",\"\",\"same\",\"blNDC\"]},\"fExecs\":null,\"fName\":\"c1\",\"fTitle\":\"c1\",\"fNumPaletteColor\":0,\"fNextPaletteColor\":0,\"fDISPLAY\":\"$DISPLAY\",\"fDoubleBuffer\":0,\"fRetained\":true,\"fXsizeUser\":0,\"fYsizeUser\":0,\"fXsizeReal\":20,\"fYsizeReal\":14.28571,\"fWindowTopX\":0,\"fWindowTopY\":0,\"fWindowWidth\":0,\"fWindowHeight\":0,\"fCw\":696,\"fCh\":472,\"fCatt\":{\"_typename\":\"TAttCanvas\",\"fXBetween\":2,\"fYBetween\":2,\"fTitleFromTop\":1.2,\"fXdate\":0.2,\"fYdate\":0.3,\"fAdate\":1},\"kMoveOpaque\":true,\"kResizeOpaque\":true,\"fHighLightColor\":2,\"fBatch\":true,\"kShowEventStatus\":false,\"kAutoExec\":true,\"kMenuBar\":true});\n",
       "       Core.draw(\"root_plot_2\", obj, \"\");\n",
       "     }\n",
       " );\n",
       "</script>\n"
      ],
      "text/plain": [
       "<IPython.core.display.HTML object>"
      ]
     },
     "metadata": {},
     "output_type": "display_data"
    }
   ],
   "source": [
    "ph=r.TH1F(\"ph\",\"ph\", 100, 0, 1)\n",
    "el=r.TH1F(\"el\",\"el\", 100, 0, 1)\n",
    "for i in range(len(predictions)):\n",
    "    if target_test[i]==0:\n",
    "        ph.Fill(predictions[i])\n",
    "    else:\n",
    "        el.Fill(predictions[i])\n",
    "c=r.TCanvas()\n",
    "el.SetLineColor(r.kRed)\n",
    "ph.Draw()\n",
    "el.Draw(\"same\")\n",
    "#c.GetYaxis().SetRangeUser()\n",
    "c.Draw()\n"
   ]
  },
  {
   "cell_type": "code",
   "execution_count": 41,
   "metadata": {},
   "outputs": [
    {
     "name": "stderr",
     "output_type": "stream",
     "text": [
      "Warning in <TROOT::Append>: Replacing existing TH1: hs_passed (Potential memory leak).\n",
      "Warning in <TROOT::Append>: Replacing existing TH1: hs_total (Potential memory leak).\n",
      "Warning in <TROOT::Append>: Replacing existing TH1: pu_passed (Potential memory leak).\n",
      "Warning in <TROOT::Append>: Replacing existing TH1: pu_total (Potential memory leak).\n"
     ]
    }
   ],
   "source": [
    "x=[]\n",
    "y=[]\n",
    "cut_step=0.005\n",
    "ROC=r.TMultiGraph(\"ROC\", \"ROC\")\n",
    "myROC=r.TGraphAsymmErrors(int(1/cut_step))\n",
    "Npoint=int(1/cut_step)\n",
    "el_passed=r.TH1I(\"el_passed\",\"\",Npoint, 0, Npoint)\n",
    "el_total=r.TH1I(\"el_total\",\"\",Npoint, 0, Npoint)\n",
    "ph_passed=r.TH1I(\"ph_passed\",\"\",Npoint, 0, Npoint)\n",
    "ph_total=r.TH1I(\"ph_total\",\"\",Npoint, 0, Npoint)\n",
    "for t in range(Npoint):\n",
    "    el_eff=0\n",
    "    ph_eff=0\n",
    "    el_tot=0\n",
    "    ph_tot=0\n",
    "    cut=cut_step*t\n",
    "    \n",
    "    for i, pred in enumerate(predictions):\n",
    "        if target_test[i]==1:\n",
    "            el_tot+=1\n",
    "            if pred>=cut:\n",
    "                el_eff+=1\n",
    "        elif target_test[i]==0:\n",
    "            ph_tot+=1\n",
    "            if pred>=cut:\n",
    "                ph_eff+=1\n",
    "    el_passed.SetBinContent(t+1, el_eff)\n",
    "    ph_passed.SetBinContent(t+1, ph_eff)\n",
    "    el_total.SetBinContent(t+1, el_tot)\n",
    "    ph_total.SetBinContent(t+1, ph_tot)\n",
    "    \n",
    "    el_eff/=el_tot\n",
    "    ph_eff/=ph_tot\n",
    "    myROC.SetPoint(t, el_eff, (1-ph_eff))\n",
    "    x.append(el_eff)\n",
    "    y.append(1-ph_eff)\n",
    "            \n",
    "el_TEfficiency=r.TEfficiency(el_passed, el_total)\n",
    "ph_TEfficiency=r.TEfficiency(ph_passed, ph_total)\n",
    "for i in range(Npoint):\n",
    "    el_error_low=el_TEfficiency.GetEfficiencyErrorLow(i+1)\n",
    "    el_error_high=el_TEfficiency.GetEfficiencyErrorUp(i+1)\n",
    "    ph_error_low=ph_TEfficiency.GetEfficiencyErrorLow(i+1)\n",
    "    ph_error_high=ph_TEfficiency.GetEfficiencyErrorUp(i+1)\n",
    "    myROC.SetPointError(i+1, el_error_low, el_error_high, ph_error_low, ph_error_high)\n",
    "    \n",
    "\n"
   ]
  },
  {
   "cell_type": "code",
   "execution_count": 48,
   "metadata": {},
   "outputs": [
    {
     "name": "stderr",
     "output_type": "stream",
     "text": [
      "Warning in <TCanvas::Constructor>: Deleting canvas with same name: c\n"
     ]
    },
    {
     "data": {
      "text/html": [
       "\n",
       "<div id=\"root_plot_10\"\n",
       "     style=\"width: 796px; height: 772px\">\n",
       "</div>\n",
       "\n",
       "<script>\n",
       " requirejs.config({\n",
       "     paths: {\n",
       "       'JSRootCore' : 'https://root.cern.ch/js/notebook//scripts/JSRootCore',\n",
       "     }\n",
       "   });\n",
       " require(['JSRootCore'],\n",
       "     function(Core) {\n",
       "       var obj = Core.JSONR_unref({\"_typename\":\"TCanvas\",\"fUniqueID\":0,\"fBits\":53673992,\"fLineColor\":1,\"fLineStyle\":1,\"fLineWidth\":1,\"fFillColor\":0,\"fFillStyle\":1001,\"fLeftMargin\":0.1,\"fRightMargin\":0.1,\"fBottomMargin\":0.1,\"fTopMargin\":0.1,\"fXfile\":2,\"fYfile\":2,\"fAfile\":1,\"fXstat\":0.99,\"fYstat\":0.99,\"fAstat\":2,\"fFrameFillColor\":0,\"fFrameLineColor\":1,\"fFrameFillStyle\":1001,\"fFrameLineStyle\":1,\"fFrameLineWidth\":1,\"fFrameBorderSize\":1,\"fFrameBorderMode\":0,\"fX1\":0,\"fY1\":0,\"fX2\":1,\"fY2\":1,\"fXtoAbsPixelk\":5e-5,\"fXtoPixelk\":5e-5,\"fXtoPixel\":796,\"fYtoAbsPixelk\":772.00005,\"fYtoPixelk\":772.00005,\"fYtoPixel\":-772,\"fUtoAbsPixelk\":5e-5,\"fUtoPixelk\":5e-5,\"fUtoPixel\":796,\"fVtoAbsPixelk\":772.00005,\"fVtoPixelk\":772,\"fVtoPixel\":-772,\"fAbsPixeltoXk\":0,\"fPixeltoXk\":0,\"fPixeltoX\":0.00125628140703518,\"fAbsPixeltoYk\":1,\"fPixeltoYk\":0,\"fPixeltoY\":-0.00129533678756477,\"fXlowNDC\":0,\"fYlowNDC\":0,\"fXUpNDC\":0,\"fYUpNDC\":0,\"fWNDC\":1,\"fHNDC\":1,\"fAbsXlowNDC\":0,\"fAbsYlowNDC\":0,\"fAbsWNDC\":1,\"fAbsHNDC\":1,\"fUxmin\":0,\"fUymin\":0,\"fUxmax\":1,\"fUymax\":1,\"fTheta\":30,\"fPhi\":30,\"fAspectRatio\":0,\"fNumber\":0,\"fTickx\":1,\"fTicky\":1,\"fLogx\":0,\"fLogy\":0,\"fLogz\":0,\"fPadPaint\":0,\"fCrosshair\":0,\"fCrosshairPos\":0,\"fBorderSize\":2,\"fBorderMode\":0,\"fModified\":true,\"fGridx\":true,\"fGridy\":true,\"fAbsCoord\":false,\"fEditable\":true,\"fFixedAspectRatio\":false,\"fPrimitives\":{\"_typename\":\"TList\",\"name\":\"TList\",\"arr\":[{\"_typename\":\"TMultiGraph\",\"fUniqueID\":0,\"fBits\":50331656,\"fName\":\"ROC\",\"fTitle\":\"; el Efficiency; ph Rejection\",\"fGraphs\":{\"_typename\":\"TList\",\"name\":\"TList\",\"arr\":[{\"_typename\":\"TGraphAsymmErrors\",\"fUniqueID\":0,\"fBits\":50332680,\"fName\":\"Graph\",\"fTitle\":\"Graph\",\"fLineColor\":1,\"fLineStyle\":1,\"fLineWidth\":1,\"fFillColor\":0,\"fFillStyle\":1000,\"fMarkerColor\":3,\"fMarkerStyle\":11,\"fMarkerSize\":1,\"fNpoints\":201,\"fX\":[1,1,1,1,1,1,1,1,1,1,1,1,1,0.999976413425478,0.999976413425478,0.999976413425478,0.999976413425478,0.999952826850956,0.999952826850956,0.999952826850956,0.999952826850956,0.999952826850956,0.999929240276435,0.999929240276435,0.999905653701913,0.999858480552869,0.999858480552869,0.999834893978348,0.999834893978348,0.99974054768026,0.99974054768026,0.999716961105739,0.999693374531217,0.99959902823313,0.999481095360521,0.999292402764346,0.998985777295563,0.998655565252258,0.998372526357997,0.99801872774017,0.997523409675213,0.996792225865038,0.996061042054862,0.995424204542774,0.994669434158077,0.994126942944076,0.993348585984857,0.99259381560016,0.991697525768333,0.990824822511027,0.98981059980659,0.988867136825719,0.987617048376064,0.986815104842324,0.985777295563365,0.984621553411798,0.983395051536665,0.981791164469184,0.980446729721443,0.979290987569875,0.977616340778829,0.976059626860391,0.974361393494823,0.972639573554733,0.970941340189164,0.969455385994292,0.967167488265679,0.964832417388023,0.963134184022454,0.960917046017407,0.958605561714272,0.955869519069745,0.952944783829044,0.950208741184518,0.947118899922164,0.943793192914593,0.940679765077718,0.937424817793712,0.93369813901927,0.929688421350567,0.925725876830908,0.920914215628464,0.916196900724108,0.911432412670708,0.905465009316697,0.898601316130858,0.891643276646933,0.884284265396136,0.876288416633252,0.867514210911149,0.857442743590348,0.84819680637781,0.836238413095266,0.824610231856028,0.812132933934005,0.800386819822157,0.786777366323089,0.774276481826544,0.761091586668868,0.747717998915018,0.734580276906385,0.720381159044272,0.707172677312074,0.693799089558223,0.680496261527938,0.668490695096351,0.658348468051985,0.647475057197443,0.637545109323773,0.627143429959667,0.61726065523504,0.608557209236503,0.59886312710805,0.589121871830554,0.580512772130104,0.570394131660259,0.560700049531807,0.551996603533269,0.542137415383164,0.533292449937496,0.524565417364436,0.514729815788853,0.504870627638748,0.495318064957426,0.48517583791306,0.475764794678869,0.464065853716065,0.453404722032219,0.441422742175154,0.42932282944548,0.418496591739982,0.406207986414133,0.39424959313159,0.382456305870698,0.370710191758851,0.357949854942567,0.345849942212892,0.333466990588957,0.320871759794325,0.308512394744911,0.296766280633064,0.28454843503078,0.272071137108758,0.260065570677171,0.248083590820105,0.234993041960516,0.222963888954407,0.212066891525344,0.20102837464915,0.190084204071043,0.179824044154067,0.169210085619266,0.158737646531594,0.148666179210793,0.140198598957473,0.131542326107979,0.123192678727268,0.114890204495601,0.107955751586197,0.100337288015661,0.0925065452744298,0.0855956789395476,0.0788735052008397,0.0723164374837842,0.0653583979998585,0.0593674080713258,0.0535886973134892,0.0477156402575654,0.0425973535863387,0.037148854871807,0.0325022996910159,0.0279500908083119,0.0237988536924782,0.019812722598297,0.0165341887397693,0.0131141354341109,0.0103309196405406,0.00775998301766634,0.00599098992853268,0.00429275656296436,0.00306625468783169,0.00200485883435149,0.00120291530061089,6.84010661131684e-4,3.06625468783169e-4,1.65106021652475e-4,9.43462980871288e-5,2.35865745217822e-5,0,0,0,0,0,0,0,0,0,0,0,0,0],\"fY\":[0,0,0,0,0,0,0,0,0,0,0,0,0,4.73215975771435e-5,4.73215975771435e-5,1.18303993942859e-4,1.18303993942859e-4,1.4196479273143e-4,1.4196479273143e-4,2.60268786674289e-4,3.78572780617037e-4,5.20537573348467e-4,7.09823963657041e-4,8.281279575999e-4,0.00101741434790836,0.00123036153700551,0.00158527351883397,0.00215313268975958,0.00250804467158816,0.00338349422676509,0.0046138557637706,0.00641207647170172,0.00920405072875263,0.0124929017603634,0.0161366647738027,0.0203009653605906,0.0248201779292069,0.0299309104675374,0.0352309293961764,0.0408621995078554,0.04706132879046,0.052905546091236,0.0585841378004921,0.0643573727049025,0.0711716827560098,0.0771815256483059,0.0839958356994132,0.0909284497444633,0.0978847245883021,0.105456180200644,0.112412455044482,0.118777209918607,0.126679916713988,0.134890213893621,0.141657202347151,0.149725534734053,0.156894756766988,0.164418890781753,0.17272383115654,0.18098144993375,0.187866742381223,0.195035964414159,0.202536437630134,0.210652091614613,0.220092750331251,0.228894567480598,0.236111111111111,0.244321408290744,0.252058489494605,0.261735756199129,0.270726859738785,0.279197425705092,0.287620670073822,0.296990346394094,0.306785917092561,0.316486844595874,0.325880181714935,0.336243611584327,0.345707931099754,0.356378951353398,0.367049971607041,0.378904031800114,0.391042021578649,0.404670641680863,0.418180957789135,0.432992617830778,0.448632405830021,0.465833806549309,0.483603066439523,0.500733484762446,0.519236229415105,0.537786295665342,0.558844406587166,0.578837781563506,0.597174900624645,0.614612909331819,0.632571455612341,0.648921067575241,0.663567102025364,0.678757334847624,0.692314972553473,0.704452962332008,0.715833806549309,0.725842324436873,0.735259322354723,0.742878099564641,0.749313836835132,0.755536626916525,0.76041075146697,0.765971039182283,0.771649630891539,0.776310808252887,0.7810429680106,0.785562180579216,0.790081393147833,0.794174711338255,0.798764906303237,0.802881885292448,0.80730645466591,0.811352451258754,0.815942646223736,0.820438197993564,0.824413212190044,0.829027067953814,0.833404315729699,0.83752129471891,0.842158811281469,0.846890971039182,0.85171777399205,0.856024039371569,0.86130039750142,0.86607987885671,0.870480787431384,0.875686163164868,0.87994510694681,0.885174143479084,0.889835320840432,0.894614802195722,0.899370622752224,0.9035585841378,0.908219761499148,0.91330683323869,0.918038992996404,0.922416240772288,0.926296611773613,0.929964035585841,0.933726102593224,0.937985046375166,0.941534166193451,0.945319893999621,0.949223925799735,0.953175279197426,0.956156539844785,0.959256104486087,0.962213704334658,0.964532462615938,0.96680389929964,0.969051675184554,0.97127579027068,0.973263297368919,0.975250804467159,0.977261972364187,0.979107514669695,0.980929396176415,0.982774938481923,0.984336551201969,0.985992807117168,0.987341472648117,0.988761120575431,0.990441037289419,0.99174238122279,0.99290176036343,0.993848192314973,0.994605337876207,0.995764717016846,0.996521862578081,0.997231686541738,0.997870528109029,0.998320083286012,0.998769638462994,0.999100889646034,0.999526784024229,0.99966874881696,0.999810713609691,0.999881696006057,0.999976339201211,0.999976339201211,0.999976339201211,0.999976339201211,1,1,1,1,1,1,1,1,1,1,1,0],\"fFunctions\":{\"_typename\":\"TList\",\"name\":\"TList\",\"arr\":[],\"opt\":[]},\"fHistogram\":null,\"fMinimum\":-1111,\"fMaximum\":-1111,\"fEXlow\":[0,4.34224514435089e-5,4.34224514435089e-5,4.34224514435089e-5,4.34224514435089e-5,4.34224514435089e-5,4.34224514435089e-5,4.34224514435089e-5,4.34224514435089e-5,4.34224514435089e-5,4.34224514435089e-5,4.34224514435089e-5,4.34224514435089e-5,4.34224514435089e-5,5.42358440552837e-5,5.42358440552837e-5,5.42358440552837e-5,5.42358440552837e-5,6.2214669572902e-5,6.2214669572902e-5,6.2214669572902e-5,6.2214669572902e-5,6.2214669572902e-5,6.88252036787906e-5,6.88252036787906e-5,7.45922119130826e-5,8.45162750384709e-5,8.45162750384709e-5,8.89167117594791e-5,8.89167117594791e-5,1.04151650656026e-4,1.04151650656026e-4,1.07529507438309e-4,1.107765384738e-4,1.22705774165732e-4,1.35846404568873e-4,1.54143661140971e-4,1.79346099647315e-4,2.02546349280963e-4,2.20254732715253e-4,2.40352173779712e-4,2.65679946655606e-4,2.98800479534234e-4,3.28298561101614e-4,3.51804588499149e-4,3.77611697617741e-4,3.95031330104323e-4,4.18653388301493e-4,4.40248547225464e-4,4.64480026214464e-4,4.8681675756479e-4,5.11444604367695e-4,5.33242772202791e-4,5.60702379282629e-4,5.77565683146153e-4,5.98614851652246e-4,6.21132529404211e-4,6.44078728778585e-4,6.72778152203568e-4,6.95820478306075e-4,7.14964759348513e-4,7.41719910988814e-4,7.65644566926738e-4,7.90807052114872e-4,8.15413627133665e-4,8.38870324951779e-4,8.58786617797591e-4,8.88435280597233e-4,9.17537037415705e-4,9.38030586820182e-4,9.64003526303214e-4,9.90209204831283e-4,0.00102017213984473,0.00105104293911795,0.0010789293984762,0.00110936296601427,0.00114096581456213,0.00116955302477939,0.00119848563601888,0.0012305029288221,0.00126373093272225,0.00129541948443435,0.00133248335916869,0.00136743033194509,0.00140143722740216,0.00144234393750098,0.00148726673011013,0.00153068294304348,0.00157447265997535,0.00161977799625257,0.0016669951033097,0.0017182448756381,0.00176274788275343,0.00181699551665526,0.00186645312977107,0.00191620541894255,0.00196013683621687,0.00200776559521598,0.00204862315612364,0.00208890364977132,0.00212697872876588,0.00216179929940974,0.00219669802793343,0.00222672730632201,0.00225484128873688,0.00228060549329034,0.00230203535037299,0.00231882994503296,0.00233553535968589,0.0023496404221367,0.00236325999117859,0.00237512344357316,0.00238471544715824,0.0023944683580841,0.00240329251795157,0.00241028540664301,0.00241754754861079,0.00242354357276742,0.00242813146359733,0.00243242531957866,0.0024354651752464,0.00243771470534393,0.00243936012009882,0.00244006516028827,0.00243984751126886,0.00243864611889616,0.00243663643855352,0.00243293416269597,0.00242839360208758,0.00242195501443682,0.00241400801323005,0.00240565535200582,0.00239473715581973,0.00238262635934727,0.00236922558376729,0.00235441581313639,0.00233664115043247,0.00231812926033736,0.00229747325559937,0.002274639718642,0.00225039294530094,0.00222560518008796,0.00219795608449858,0.00216768202750445,0.00213652818912918,0.00210336762198157,0.00206466076032538,0.00202668781942258,0.00199018815311805,0.00195106046534538,0.00190999698788633,0.00186931481751465,0.00182485130934215,0.00177843552685361,0.001731222772132,0.00168941935443043,0.00164453085091981,0.00159899953855477,0.00155135861268532,0.00150959732927279,0.00146145523038647,0.00140925655484829,0.00136065356752949,0.0013108346320149,0.00125953687171636,0.00120179961075849,0.00114897971221965,0.00109489829932222,0.00103628031010965,9.81681560487675e-4,9.19280021662562e-4,8.61872980740773e-4,8.01050039188698e-4,7.40683087813238e-4,6.77122814825577e-4,6.19538643204999e-4,5.52641214679895e-4,4.9112454187682e-4,4.26120041675478e-4,3.74670600684629e-4,3.17322234358033e-4,2.68239117441758e-4,2.16855871154884e-4,1.67812949953912e-4,1.26252261559321e-4,8.39299338730677e-5,6.08861014207218e-5,4.51521733964817e-5,1.95119129401995e-5,0,0,0,0,0,0,0,0,0,0,0,0],\"fEXhigh\":[0,0,0,0,0,0,0,0,0,0,0,0,0,0,1.951191294014e-5,1.951191294014e-5,1.951191294014e-5,1.951191294014e-5,3.04694229046332e-5,3.04694229046332e-5,3.04694229046332e-5,3.04694229046332e-5,3.04694229046332e-5,3.85096701072118e-5,3.85096701072118e-5,4.51521733965121e-5,5.61330392081505e-5,5.61330392081505e-5,6.08861014206319e-5,6.08861014206319e-5,7.70189571961399e-5,7.70189571961399e-5,8.05486577460934e-5,8.39299338730726e-5,9.62736581157086e-5,1.09766131981437e-4,1.28434431547753e-4,1.54007456009686e-4,1.7746087030901e-4,1.95325722765483e-4,2.15573662506352e-4,2.41061561661704e-4,2.74357278798432e-4,3.03989363851342e-4,3.2759193498666e-4,3.53497522033286e-4,3.70980270036458e-4,3.9468468089765e-4,4.16352675240761e-4,4.40663914136996e-4,4.63072932502029e-4,4.87779679619771e-4,5.09647379955847e-4,5.37194648290606e-4,5.54112022590592e-4,5.75229114923803e-4,5.97820162513751e-4,6.20842061450522e-4,6.49637741130249e-4,6.72758796060657e-4,6.91969568715867e-4,7.18819424389228e-4,7.42830643086889e-4,7.68086205324758e-4,7.9278592832166e-4,8.16333471754471e-4,8.36328531444108e-4,8.66097335707527e-4,8.95320500461816e-4,9.15901689144349e-4,9.41988325391052e-4,9.68311778916209e-4,9.98413257360387e-4,0.00102943126680954,0.00105745472584406,0.00108804229490267,0.0011198101705594,0.00114855128048574,0.0011776442527649,0.0012098445621006,0.00124326887639647,0.0012751508929344,0.00131244907003092,0.00134762518048681,0.00138186300908894,0.00142305835050183,0.0014683124130771,0.00151206379004576,0.00155620737389095,0.00160189659537591,0.00164953434302717,0.00170126628060896,0.00174621140139075,0.00180103022005296,0.00185104267105651,0.00190138978636678,0.00194588074995583,0.00199415738371433,0.00203560969483207,0.00207651716906776,0.00211522791811991,0.00215067270725899,0.00218624585197091,0.00221690230489413,0.00224565113914421,0.00227204669423042,0.00229404622658103,0.00231132200829387,0.00232854323553289,0.00234311930173381,0.00235723220151129,0.00236956433248114,0.00237956905628445,0.00238978163360459,0.0023990676682869,0.00240646873031614,0.00241421059346925,0.00242066619109282,0.00242566667771971,0.00243042790521208,0.00243388704358827,0.00243655025905098,0.00243866190224706,0.00243983428484129,0.00244006944241493,0.00243934880907098,0.00243778523199378,0.00243463751914297,0.0024306023383287,0.00242473176199048,0.00241735838677659,0.00240951899531144,0.00239918343371975,0.00238763965636496,0.00237479811717184,0.00236054539722846,0.00234337595067469,0.0023254380253227,0.00230536949433513,0.00228313359890214,0.0022594733823661,0.00223524318086432,0.0022081741698548,0.00217849266903963,0.00214790914883994,0.0021153179621263,0.00207723339763255,0.00203983254833179,0.00200385136697165,0.00196524916114169,0.00192470697391689,0.00188451382465482,0.00184055656672158,0.00179464070913221,0.00174790920459894,0.00170651081100984,0.00166203681361243,0.00161690583512501,0.00156966356711404,0.00152823578068956,0.00148046072970738,0.00142864018382384,0.00138037177842915,0.00133087924503317,0.0012799009821516,0.00122250425618792,0.00116997912864945,0.00111618379863707,0.00105785885433526,0.00100351796758579,9.4139436138041e-4,8.84228188286533e-4,8.23646086801404e-4,7.63504828820715e-4,7.00169481268255e-4,6.42779624331662e-4,5.7609958668157e-4,5.14778821520911e-4,4.49983660750769e-4,3.98708618703243e-4,3.41575972420117e-4,2.92712251005618e-4,2.41625629440455e-4,1.92994906043968e-4,1.51999534713432e-4,1.1077653847376e-4,8.89167117594318e-5,7.45922119130873e-5,5.42358440552294e-5,4.34224514435602e-5,4.34224514435602e-5,4.34224514435602e-5,4.34224514435602e-5,4.34224514435602e-5,4.34224514435602e-5,4.34224514435602e-5,4.34224514435602e-5,4.34224514435602e-5,4.34224514435602e-5,4.34224514435602e-5,4.34224514435602e-5],\"fEYlow\":[0,4.35590939850128e-5,4.35590939850128e-5,4.35590939850128e-5,4.35590939850128e-5,4.35590939850128e-5,4.35590939850128e-5,4.35590939850128e-5,4.35590939850128e-5,4.35590939850128e-5,4.35590939850128e-5,4.35590939850128e-5,4.35590939850128e-5,4.35590939850128e-5,6.24104413174953e-5,6.24104413174953e-5,8.0024068236928e-5,8.0024068236928e-5,8.47822079910188e-5,8.47822079910188e-5,1.04479344258945e-4,1.20239392547794e-4,1.36273757292082e-4,1.54628523900135e-4,1.6489085386695e-4,1.79910143202733e-4,1.95236089333028e-4,2.1810001876954e-4,2.49897087249318e-4,2.67658102182211e-4,3.06695508124233e-4,3.5374930471499e-4,4.12232497890463e-4,4.88341221479338e-4,5.63970246767576e-4,6.3646282895502e-4,7.09422906332691e-4,7.80058012747165e-4,8.52001062958685e-4,9.1979146575405e-4,9.85833871151698e-4,0.00105279469125752,0.00111137963233898,0.00116474098966302,0.00121588297779784,0.0012727357813892,0.00132009961746471,0.00137101688712826,0.00142010035024787,0.00146687637582898,0.00151524412066706,0.00155755345605069,0.00159462434980717,0.00163863811902454,0.00168217937586435,0.00171651250204119,0.00175573722123801,0.00178912419181976,0.00182276746230103,0.00185833464247354,0.00189215872862813,0.00191924710612468,0.00194642488844554,0.00197378338735321,0.00200219971593729,0.00203377210220612,0.00206183336153776,0.00208389021199951,0.00210798030112946,0.00212973546876916,0.0021556972277047,0.00217861539594766,0.00219918079081238,0.00221867274170318,0.00223926277682329,0.00225959253453722,0.00227855302327606,0.0022958279948273,0.00231367873412558,0.00232889776918277,0.00234484366968313,0.0023595288789563,0.00237439311180865,0.00238806238062705,0.00240157380519845,0.00241308214538127,0.00242357419278261,0.00243227241623056,0.00243904738126766,0.00244300143772236,0.00244389964630276,0.00244166180601213,0.0024360663697412,0.00242561911589911,0.00241162257798128,0.00239523545406944,0.0023764368003556,0.00235372196009576,0.00232999993975347,0.00230621317898849,0.00227892799078561,0.0022522499664907,0.00222643829724389,0.00220052425515749,0.00217631783080541,0.00215228955556263,0.00213193244597726,0.00211407845206432,0.00209622698728434,0.00208183088484035,0.00206495400040999,0.00204720658055216,0.00203224328854923,0.00201667854850113,0.00200145484957523,0.0019858718883467,0.00197144032021618,0.00195488985195455,0.00193970765083212,0.00192302590493248,0.00190743205018029,0.0018893377475083,0.00187118980530399,0.00185478148721294,0.00183529791904832,0.0018163652308438,0.00179814743827314,0.00177713374098504,0.00175513463696614,0.00173209439045852,0.00171100669185495,0.00168445570361156,0.00165969806680219,0.00163628004394509,0.00160777569351525,0.00158377350873673,0.00155342210076555,0.00152550312422109,0.00149598072779752,0.00146565147441953,0.00143810871603749,0.001406476007648,0.00137069638907035,0.00133614598278049,0.00130301335390547,0.00127262609884557,0.00124296334703999,0.00121151107661323,0.00117454906243224,0.00114255119886639,0.00110710867728234,0.00106900120467726,0.00102864392930998,9.96872583054823e-4,9.62501339142004e-4,9.28294281964906e-4,9.00409750133335e-4,8.72091447355915e-4,8.42992404270538e-4,8.13033465044088e-4,7.85171634286101e-4,7.56163042188104e-4,7.25501331048328e-4,6.96059318992387e-4,6.65602923341304e-4,6.33136029876882e-4,6.04201744421599e-4,5.71809336023349e-4,5.43924270707083e-4,5.12848669953388e-4,4.73322519855405e-4,4.40170776240631e-4,4.08295556228369e-4,3.80240066821215e-4,3.56167343372247e-4,3.15690089035404e-4,2.86125505148663e-4,2.55272921042278e-4,2.23857265164645e-4,1.98768955016029e-4,1.69992286394307e-4,1.45164350234157e-4,1.04907614947147e-4,8.74543723178088e-5,6.54996356121421e-5,5.1099095559618e-5,1.95733147373337e-5,1.95733147373337e-5,1.95733147373337e-5,1.95733147373337e-5,0,0,0,0,0,0,0,0,0,0,0],\"fEYhigh\":[0,0,0,0,0,0,0,0,0,0,0,0,0,0,3.05653065322264e-5,3.05653065322264e-5,5.10990955596702e-5,5.10990955596702e-5,5.63096791108553e-5,5.63096791108553e-5,7.72613117046017e-5,9.36347622947364e-5,1.10111497835019e-4,1.28838504186879e-4,1.39267247654562e-4,1.54491922696121e-4,1.6999228639436e-4,1.93069351060005e-4,2.25099717329758e-4,2.42969246760039e-4,2.82209065069927e-4,3.29464479638886e-4,3.88162728599539e-4,4.64524070953876e-4,5.40395274092997e-4,6.13123588636078e-4,6.86331303542009e-4,7.57220279327897e-4,8.29439248418717e-4,8.97507849685675e-4,9.63839977375591e-4,0.00103111493141139,0.00108999272678256,0.00114363636368642,0.00119506356052412,0.00125225120080574,0.00129990905347421,0.00135115852134604,0.00140057890304812,0.00144769212425278,0.00149642606107336,0.00153907119990504,0.00157644888770569,0.00162084306388144,0.00166477900923478,0.0016994370932929,0.00173904890462961,0.00177277954342836,0.00180678323809957,0.00184274797287143,0.00187696709759888,0.00190438469131649,0.00193190511657271,0.00195962194154531,0.00198842583077352,0.00202044887000952,0.00204893012732366,0.00207133122681702,0.00209581286552218,0.00211793692196871,0.00214435995757267,0.00216770659009025,0.00218867555876401,0.00220856875406361,0.00222960503707259,0.00225040124392373,0.00226982359943118,0.00228754572755019,0.00230588973574286,0.00232155918790955,0.00233801287527258,0.00235320581503129,0.00236863400909726,0.00238288069064552,0.00239704037887889,0.00240919130236827,0.0024203877774498,0.00242982976743633,0.00243742272269709,0.00244222174344932,0.00244393452433472,0.00244257651323621,0.00243786317473205,0.00242841732719656,0.00241537163147337,0.00239985666279352,0.00238188749271778,0.00236002701230392,0.00233708293138507,0.00231399316850178,0.00228743101276485,0.00226139844674889,0.00223616477193417,0.00221079278947173,0.00218706316854295,0.0021634836175759,0.00214348962491812,0.00212594242254716,0.00210838765354329,0.00209422398447268,0.00207761230072853,0.00206013577828243,0.0020453948909514,0.00203005598489125,0.00201504799918997,0.00199968079473481,0.00198544468930717,0.00196911345767101,0.00195412793593491,0.00193765761361794,0.00192225714038791,0.00190438228773088,0.00188644933470089,0.00187023116828827,0.00185096838158241,0.00183224522657449,0.00181422457859506,0.0017934330390823,0.00177166072854959,0.00174885192580701,0.00172797081651138,0.00170167310355443,0.00167714504287084,0.00165393855108587,0.00162568458736431,0.0016018874308851,0.00157178797844426,0.00154409382785667,0.00151480221685633,0.00148470289012174,0.00145736286580039,0.00142595612191956,0.00139042355293054,0.00135610343009972,0.00132318427658319,0.00129298669011427,0.00126350361668469,0.00123223614274882,0.00119548401018139,0.0011636616865091,0.00112840715747672,0.00109049450836948,0.00105033560579546,0.00101871487957644,9.84501271272704e-4,9.50445808887014e-4,9.22681087102771e-4,8.9448111856457e-4,8.65500291141599e-4,8.35659622366956e-4,8.07904788261902e-4,7.79004678894885e-4,7.48454578272238e-4,7.19116979639438e-4,6.88765983083397e-4,6.56408822224449e-4,6.27570347958982e-4,5.95283389626862e-4,5.67487954831233e-4,5.36511511947432e-4,4.97111448806476e-4,4.64066676350971e-4,4.32296782140578e-4,4.04337379898298e-4,3.8035085245242e-4,3.40030238534071e-4,3.10593803915976e-4,2.79893707511569e-4,2.48662671096885e-4,2.23753597290429e-4,1.95236089333048e-4,1.70703706816554e-4,1.31195410488098e-4,1.14265205649676e-4,9.33320084337924e-5,8.00240682369512e-5,5.4406511428078e-5,5.4406511428078e-5,5.4406511428078e-5,5.4406511428078e-5,4.3559093984957e-5,4.3559093984957e-5,4.3559093984957e-5,4.3559093984957e-5,4.3559093984957e-5,4.3559093984957e-5,4.3559093984957e-5,4.3559093984957e-5,4.3559093984957e-5,4.3559093984957e-5,4.3559093984957e-5]},{\"$ref\":4}],\"opt\":[\"\",\"\"]},\"fFunctions\":null,\"fHistogram\":{\"_typename\":\"TH1F\",\"fUniqueID\":0,\"fBits\":50332168,\"fName\":\"ROC\",\"fTitle\":\"\",\"fLineColor\":602,\"fLineStyle\":1,\"fLineWidth\":1,\"fFillColor\":0,\"fFillStyle\":1001,\"fMarkerColor\":1,\"fMarkerStyle\":1,\"fMarkerSize\":1,\"fNcells\":203,\"fXaxis\":{\"_typename\":\"TAxis\",\"fUniqueID\":0,\"fBits\":50333704,\"fName\":\"xaxis\",\"fTitle\":\" el Efficiency\",\"fNdivisions\":1020,\"fAxisColor\":1,\"fLabelColor\":1,\"fLabelFont\":42,\"fLabelOffset\":0.005,\"fLabelSize\":0.035,\"fTickLength\":0.03,\"fTitleOffset\":1,\"fTitleSize\":0.035,\"fTitleColor\":1,\"fTitleFont\":42,\"fNbins\":201,\"fXmin\":-2.15655988746995e-5,\"fXmax\":1,\"fXbins\":[],\"fFirst\":1,\"fLast\":201,\"fBits2\":0,\"fTimeDisplay\":false,\"fTimeFormat\":\"\",\"fLabels\":null,\"fModLabs\":null},\"fYaxis\":{\"_typename\":\"TAxis\",\"fUniqueID\":0,\"fBits\":50331656,\"fName\":\"yaxis\",\"fTitle\":\" ph Rejection\",\"fNdivisions\":1010,\"fAxisColor\":1,\"fLabelColor\":1,\"fLabelFont\":42,\"fLabelOffset\":0.005,\"fLabelSize\":0.035,\"fTickLength\":0.03,\"fTitleOffset\":0,\"fTitleSize\":0.035,\"fTitleColor\":1,\"fTitleFont\":42,\"fNbins\":1,\"fXmin\":-4.35590939850128e-5,\"fXmax\":1.00005636326945,\"fXbins\":[],\"fFirst\":0,\"fLast\":0,\"fBits2\":0,\"fTimeDisplay\":false,\"fTimeFormat\":\"\",\"fLabels\":null,\"fModLabs\":null},\"fZaxis\":{\"_typename\":\"TAxis\",\"fUniqueID\":0,\"fBits\":50331648,\"fName\":\"zaxis\",\"fTitle\":\"\",\"fNdivisions\":510,\"fAxisColor\":1,\"fLabelColor\":1,\"fLabelFont\":42,\"fLabelOffset\":0.005,\"fLabelSize\":0.035,\"fTickLength\":0.03,\"fTitleOffset\":1,\"fTitleSize\":0.035,\"fTitleColor\":1,\"fTitleFont\":42,\"fNbins\":1,\"fXmin\":0,\"fXmax\":1,\"fXbins\":[],\"fFirst\":0,\"fLast\":0,\"fBits2\":0,\"fTimeDisplay\":false,\"fTimeFormat\":\"\",\"fLabels\":null,\"fModLabs\":null},\"fBarOffset\":0,\"fBarWidth\":1000,\"fEntries\":0,\"fTsumw\":0,\"fTsumw2\":0,\"fTsumwx\":0,\"fTsumwx2\":0,\"fMaximum\":1,\"fMinimum\":0,\"fNormFactor\":0,\"fContour\":[],\"fSumw2\":[],\"fOption\":\"\",\"fFunctions\":{\"_typename\":\"TList\",\"name\":\"TList\",\"arr\":[],\"opt\":[]},\"fBufferSize\":0,\"fBuffer\":[],\"fBinStatErrOpt\":0,\"fStatOverflows\":2,\"fArray\":[0,0,0,0,0,0,0,0,0,0,0,0,0,0,0,0,0,0,0,0,0,0,0,0,0,0,0,0,0,0,0,0,0,0,0,0,0,0,0,0,0,0,0,0,0,0,0,0,0,0,0,0,0,0,0,0,0,0,0,0,0,0,0,0,0,0,0,0,0,0,0,0,0,0,0,0,0,0,0,0,0,0,0,0,0,0,0,0,0,0,0,0,0,0,0,0,0,0,0,0,0,0,0,0,0,0,0,0,0,0,0,0,0,0,0,0,0,0,0,0,0,0,0,0,0,0,0,0,0,0,0,0,0,0,0,0,0,0,0,0,0,0,0,0,0,0,0,0,0,0,0,0,0,0,0,0,0,0,0,0,0,0,0,0,0,0,0,0,0,0,0,0,0,0,0,0,0,0,0,0,0,0,0,0,0,0,0,0,0,0,0,0,0,0,0,0,0,0,0,0,0,0,0]},\"fMaximum\":-1111,\"fMinimum\":-1111},{\"_typename\":\"TLegend\",\"fUniqueID\":0,\"fBits\":50331656,\"fLineColor\":0,\"fLineStyle\":1,\"fLineWidth\":1,\"fFillColor\":0,\"fFillStyle\":1001,\"fX1\":0.59,\"fY1\":0.75,\"fX2\":0.74,\"fY2\":0.85,\"fX1NDC\":0,\"fY1NDC\":0,\"fX2NDC\":0,\"fY2NDC\":0,\"fBorderSize\":1,\"fInit\":0,\"fShadowColor\":1,\"fCornerRadius\":0,\"fOption\":\"brNDC\",\"fName\":\"TPave\",\"fTextAngle\":0,\"fTextSize\":0,\"fTextAlign\":12,\"fTextColor\":1,\"fTextFont\":42,\"fPrimitives\":{\"_typename\":\"TList\",\"name\":\"TList\",\"arr\":[{\"_typename\":\"TLegendEntry\",\"fUniqueID\":0,\"fBits\":50331656,\"fTextAngle\":0,\"fTextSize\":0,\"fTextAlign\":0,\"fTextColor\":0,\"fTextFont\":0,\"fLineColor\":1,\"fLineStyle\":1,\"fLineWidth\":1,\"fFillColor\":0,\"fFillStyle\":0,\"fMarkerColor\":1,\"fMarkerStyle\":21,\"fMarkerSize\":1,\"fObject\":{\"$ref\":4},\"fLabel\":\"ROC AUC=0.7644\",\"fOption\":\"lpf\"}],\"opt\":[\"lpf\"]},\"fEntrySeparation\":0.1,\"fMargin\":0.25,\"fNColumns\":1,\"fColumnSeparation\":0}],\"opt\":[\"ape\",\"\"]},\"fExecs\":null,\"fName\":\"c\",\"fTitle\":\"c\",\"fNumPaletteColor\":0,\"fNextPaletteColor\":0,\"fDISPLAY\":\"$DISPLAY\",\"fDoubleBuffer\":0,\"fRetained\":true,\"fXsizeUser\":0,\"fYsizeUser\":0,\"fXsizeReal\":20,\"fYsizeReal\":20,\"fWindowTopX\":0,\"fWindowTopY\":0,\"fWindowWidth\":0,\"fWindowHeight\":0,\"fCw\":796,\"fCh\":772,\"fCatt\":{\"_typename\":\"TAttCanvas\",\"fXBetween\":2,\"fYBetween\":2,\"fTitleFromTop\":1.2,\"fXdate\":0.2,\"fYdate\":0.3,\"fAdate\":1},\"kMoveOpaque\":true,\"kResizeOpaque\":true,\"fHighLightColor\":2,\"fBatch\":true,\"kShowEventStatus\":false,\"kAutoExec\":true,\"kMenuBar\":true});\n",
       "       Core.draw(\"root_plot_10\", obj, \"\");\n",
       "     }\n",
       " );\n",
       "</script>\n"
      ],
      "text/plain": [
       "<IPython.core.display.HTML object>"
      ]
     },
     "metadata": {},
     "output_type": "display_data"
    }
   ],
   "source": [
    "ROC.SetTitle(\"; el Efficiency; ph Rejection\")\n",
    "myROC.SetMarkerStyle(11)\n",
    "myROC.SetMarkerSize(1)\n",
    "myROC.SetMarkerColor(3)\n",
    "\n",
    "ROC.Add(myROC)\n",
    "ROC.GetXaxis().SetRangeUser(0,1)\n",
    "ROC.GetYaxis().SetRangeUser(0,1)\n",
    "\n",
    "c=r.TCanvas(\"c\", \"c\", 800, 800)\n",
    "ROC_legend=r.TLegend(0.59, 0.75, 0.74, 0.85)\n",
    "ROC_legend.SetLineColor(0)\n",
    "ROC_legend.SetFillColor(r.kNone)\n",
    "ROC_legend.AddEntry(myROC, \"ROC AUC=0.7644\")\n",
    "\n",
    "ROC.GetXaxis().SetNdivisions(1020)\n",
    "ROC.GetYaxis().SetNdivisions(1010)\n",
    "c.SetGrid()\n",
    "c.SetTicks(1,1)\n",
    "c.Update()\n",
    "c.Draw()\n",
    "ROC.Draw(\"ape\")\n",
    "ROC_legend.Draw()\n"
   ]
  },
  {
   "cell_type": "code",
   "execution_count": 46,
   "metadata": {},
   "outputs": [],
   "source": [
    "myROC.SetPoint(len(x), 0, 0)"
   ]
  },
  {
   "cell_type": "code",
   "execution_count": 49,
   "metadata": {},
   "outputs": [
    {
     "name": "stdout",
     "output_type": "stream",
     "text": [
      "ROC area under curve: 0.764448806900384\n"
     ]
    }
   ],
   "source": [
    "roc_auc=myROC.Integral()\n",
    "print(\"ROC area under curve: \"+str(roc_auc))"
   ]
  }
 ],
 "metadata": {
  "kernelspec": {
   "display_name": "Python 3",
   "language": "python",
   "name": "python3"
  },
  "language_info": {
   "codemirror_mode": {
    "name": "ipython",
    "version": 3
   },
   "file_extension": ".py",
   "mimetype": "text/x-python",
   "name": "python",
   "nbconvert_exporter": "python",
   "pygments_lexer": "ipython3",
   "version": "3.6.5"
  }
 },
 "nbformat": 4,
 "nbformat_minor": 2
}
