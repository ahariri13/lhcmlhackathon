{
 "cells": [
  {
   "cell_type": "markdown",
   "metadata": {},
   "source": [
    "<img src=\"https://i2.wp.com/www.ai-claudio.com/wp-content/uploads/2017/05/keras-tensorflow-logo.jpg?resize=500%2C201\"/>"
   ]
  },
  {
   "cell_type": "markdown",
   "metadata": {},
   "source": [
    "## Import modules \n"
   ]
  },
  {
   "cell_type": "code",
   "execution_count": 235,
   "metadata": {},
   "outputs": [],
   "source": [
    "import numpy as np\n",
    "np.random.seed(1337)  # for reproducibility\n",
    "import h5py\n",
    "from keras.models import Sequential\n",
    "from keras.optimizers import Adam\n",
    "from keras.initializers import TruncatedNormal, RandomUniform\n",
    "from keras import regularizers\n",
    "from keras.layers import Input, Dense, Dropout, Flatten, Conv2D, MaxPooling2D\n",
    "from keras.constraints import max_norm\n",
    "from keras.callbacks import ReduceLROnPlateau\n",
    "\n",
    "from sklearn.metrics import roc_curve, auc\n",
    "\n",
    "import matplotlib.pyplot as plt"
   ]
  },
  {
   "cell_type": "markdown",
   "metadata": {},
   "source": [
    "## Keras Model Parameters"
   ]
  },
  {
   "cell_type": "code",
   "execution_count": 236,
   "metadata": {},
   "outputs": [],
   "source": [
    "lr_init     = 1.e-3    # Initial learning rate  \n",
    "batch_size  = 100       # Training batch size\n",
    "train_size  = 100000     # Training size\n",
    "valid_size  = 10000     # Validation size\n",
    "test_size   = 10000      # Test size\n",
    "epochs      = 20       # Number of epochs\n",
    "doGPU       = False    # Use GPU"
   ]
  },
  {
   "cell_type": "code",
   "execution_count": 237,
   "metadata": {},
   "outputs": [],
   "source": [
    "if doGPU:\n",
    "    import tensorflow as tf\n",
    "    from keras.backend.tensorflow_backend import set_session\n",
    "    config = tf.ConfigProto()\n",
    "    config.gpu_options.allow_growth=True\n",
    "    set_session(tf.Session(config=config))"
   ]
  },
  {
   "cell_type": "markdown",
   "metadata": {},
   "source": [
    "## Load Image Data\n",
    "### Two classes of particles: electrons and photons \n",
    "### Images from 32x32 matrices of energies in each calorimeter cell (one cell = one pixel) "
   ]
  },
  {
   "cell_type": "code",
   "execution_count": 238,
   "metadata": {},
   "outputs": [],
   "source": [
    "img_rows, img_cols, nb_channels = 32, 32, 2        \n",
    "input_dir = 'data'\n",
    "decays = ['SinglePhotonPt50_IMGCROPS_n249k_RHv1', 'SingleElectronPt50_IMGCROPS_n249k_RHv1']\n",
    "\n",
    "def load_data(decays, start, stop):\n",
    "    global input_dir\n",
    "    dsets = [h5py.File('%s/%s.hdf5'%(input_dir,decay)) for decay in decays]\n",
    "    X = np.concatenate([dset['/X'][start:stop] for dset in dsets])\n",
    "    y = np.concatenate([dset['/y'][start:stop] for dset in dsets])\n",
    "    assert len(X) == len(y)\n",
    "    return X, y"
   ]
  },
  {
   "cell_type": "markdown",
   "metadata": {},
   "source": [
    "## Configure Training/Validation/Test Sets"
   ]
  },
  {
   "cell_type": "code",
   "execution_count": 239,
   "metadata": {},
   "outputs": [],
   "source": [
    "# Set range of training set\n",
    "train_start, train_stop = 0, train_size\n",
    "assert train_stop > train_start\n",
    "assert (len(decays)*train_size) % batch_size == 0\n",
    "X_train, y_train = load_data(decays,train_start,train_stop)\n",
    "\n",
    "# Set range of validation set\n",
    "valid_start, valid_stop = 160000, 160000+valid_size\n",
    "assert valid_stop  >  valid_start\n",
    "assert valid_start >= train_stop\n",
    "X_valid, y_valid = load_data(decays,valid_start,valid_stop)\n",
    "\n",
    "# Set range of test set\n",
    "test_start, test_stop = 204800, 204800+test_size\n",
    "assert test_stop  >  test_start\n",
    "assert test_start >= valid_stop\n",
    "X_test, y_test = load_data(decays,test_start,test_stop)\n",
    "\n",
    "samples_requested = len(decays) * (train_size + valid_size + test_size)\n",
    "samples_available = len(y_train) + len(y_valid) + len(y_test)\n",
    "assert samples_requested == samples_available"
   ]
  },
  {
   "cell_type": "markdown",
   "metadata": {},
   "source": [
    "## Plot  sample of training images"
   ]
  },
  {
   "cell_type": "code",
   "execution_count": 240,
   "metadata": {},
   "outputs": [
    {
     "data": {
      "image/png": "[encoded data removed]",
      "text/plain": [
       "<matplotlib.figure.Figure at 0x7fa8f36ddd50>"
      ]
     },
     "metadata": {},
     "output_type": "display_data"
    }
   ],
   "source": [
    "plt.figure(1)\n",
    "\n",
    "plt.subplot(221)\n",
    "plt.imshow(X_train[1,:,:,0])\n",
    "plt.title(\"Channel 0\")  # Energy\n",
    "plt.grid(True)\n",
    "\n",
    "plt.subplot(222)\n",
    "plt.imshow(X_train[1,:,:,1])\n",
    "plt.title(\"Channel 1\")  # Time\n",
    "plt.grid(True)\n",
    "\n",
    "\n",
    "plt.show()"
   ]
  },
  {
   "cell_type": "markdown",
   "metadata": {},
   "source": [
    "## Define CNN Model"
   ]
  },
  {
   "cell_type": "code",
   "execution_count": 241,
   "metadata": {
    "scrolled": false
   },
   "outputs": [
    {
     "name": "stdout",
     "output_type": "stream",
     "text": [
      "_________________________________________________________________\n",
      "Layer (type)                 Output Shape              Param #   \n",
      "=================================================================\n",
      "conv2d_105 (Conv2D)          (None, 32, 32, 16)        304       \n",
      "_________________________________________________________________\n",
      "conv2d_106 (Conv2D)          (None, 32, 32, 16)        2320      \n",
      "_________________________________________________________________\n",
      "max_pooling2d_50 (MaxPooling (None, 16, 16, 16)        0         \n",
      "_________________________________________________________________\n",
      "dropout_66 (Dropout)         (None, 16, 16, 16)        0         \n",
      "_________________________________________________________________\n",
      "conv2d_107 (Conv2D)          (None, 16, 16, 32)        4640      \n",
      "_________________________________________________________________\n",
      "conv2d_108 (Conv2D)          (None, 16, 16, 32)        9248      \n",
      "_________________________________________________________________\n",
      "max_pooling2d_51 (MaxPooling (None, 8, 8, 32)          0         \n",
      "_________________________________________________________________\n",
      "flatten_24 (Flatten)         (None, 2048)              0         \n",
      "_________________________________________________________________\n",
      "dense_71 (Dense)             (None, 256)               524544    \n",
      "_________________________________________________________________\n",
      "dropout_67 (Dropout)         (None, 256)               0         \n",
      "_________________________________________________________________\n",
      "dense_72 (Dense)             (None, 128)               32896     \n",
      "_________________________________________________________________\n",
      "dropout_68 (Dropout)         (None, 128)               0         \n",
      "_________________________________________________________________\n",
      "dense_73 (Dense)             (None, 1)                 129       \n",
      "=================================================================\n",
      "Total params: 574,081\n",
      "Trainable params: 574,081\n",
      "Non-trainable params: 0\n",
      "_________________________________________________________________\n"
     ]
    }
   ],
   "source": [
    "### Define CNN Model ###\n",
    "\n",
    "model = Sequential()\n",
    "model.add(Conv2D(16, activation='relu', kernel_size=3, padding='same', kernel_initializer='TruncatedNormal', input_shape=(img_rows, img_cols, nb_channels)))\n",
    "model.add(Conv2D(16, activation='relu', kernel_size=3, padding='same', kernel_initializer='TruncatedNormal'))\n",
    "model.add(MaxPooling2D(pool_size=(2, 2)))\n",
    "model.add(Dropout(0.3))\n",
    "model.add(Conv2D(32, activation='relu', kernel_size=3, padding='same', kernel_initializer='TruncatedNormal'))\n",
    "model.add(Conv2D(32, activation='relu', kernel_size=3, padding='same', kernel_initializer='TruncatedNormal'))\n",
    "model.add(MaxPooling2D(pool_size=(2, 2)))\n",
    "model.add(Flatten())\n",
    "model.add(Dense(256, activation='relu',kernel_constraint=max_norm(2.), kernel_initializer='TruncatedNormal'))\n",
    "model.add(Dropout(0.5))\n",
    "model.add(Dense(128, activation='relu',kernel_constraint=max_norm(2.), kernel_initializer='TruncatedNormal'))\n",
    "model.add(Dropout(0.5))\n",
    "model.add(Dense(1, activation='sigmoid', kernel_initializer='TruncatedNormal'))\n",
    "model.compile(loss='binary_crossentropy', optimizer=Adam(lr=lr_init), metrics=['accuracy'])\n",
    "model.summary()"
   ]
  },
  {
   "cell_type": "markdown",
   "metadata": {},
   "source": [
    "### Train the Model"
   ]
  },
  {
   "cell_type": "code",
   "execution_count": 242,
   "metadata": {},
   "outputs": [
    {
     "name": "stdout",
     "output_type": "stream",
     "text": [
      "Train on 200000 samples, validate on 20000 samples\n",
      "Epoch 1/20\n",
      "200000/200000 [==============================] - 743s 4ms/step - loss: 0.6468 - acc: 0.6264 - val_loss: 0.6098 - val_acc: 0.6737\n",
      "Epoch 2/20\n",
      "200000/200000 [==============================] - 716s 4ms/step - loss: 0.6107 - acc: 0.6782 - val_loss: 0.5935 - val_acc: 0.6911\n",
      "Epoch 3/20\n",
      "200000/200000 [==============================] - 742s 4ms/step - loss: 0.5955 - acc: 0.6916 - val_loss: 0.5808 - val_acc: 0.7037\n",
      "Epoch 4/20\n",
      "200000/200000 [==============================] - 737s 4ms/step - loss: 0.5890 - acc: 0.6982 - val_loss: 0.5746 - val_acc: 0.7029\n",
      "Epoch 5/20\n",
      "200000/200000 [==============================] - 735s 4ms/step - loss: 0.5845 - acc: 0.7019 - val_loss: 0.5701 - val_acc: 0.7106\n",
      "Epoch 6/20\n",
      "200000/200000 [==============================] - 739s 4ms/step - loss: 0.5811 - acc: 0.7041 - val_loss: 0.5726 - val_acc: 0.7074\n",
      "Epoch 7/20\n",
      "200000/200000 [==============================] - 696s 3ms/step - loss: 0.5784 - acc: 0.7055 - val_loss: 0.5620 - val_acc: 0.7146\n",
      "Epoch 8/20\n",
      "200000/200000 [==============================] - 735s 4ms/step - loss: 0.5762 - acc: 0.7081 - val_loss: 0.5665 - val_acc: 0.7164\n",
      "Epoch 9/20\n",
      "200000/200000 [==============================] - 726s 4ms/step - loss: 0.5745 - acc: 0.7098 - val_loss: 0.5617 - val_acc: 0.7172\n",
      "Epoch 10/20\n",
      "200000/200000 [==============================] - 734s 4ms/step - loss: 0.5727 - acc: 0.7103 - val_loss: 0.5602 - val_acc: 0.7150\n",
      "Epoch 11/20\n",
      "200000/200000 [==============================] - 738s 4ms/step - loss: 0.5709 - acc: 0.7109 - val_loss: 0.5558 - val_acc: 0.7202\n",
      "Epoch 12/20\n",
      "200000/200000 [==============================] - 714s 4ms/step - loss: 0.5700 - acc: 0.7124 - val_loss: 0.5579 - val_acc: 0.7171\n",
      "Epoch 13/20\n",
      "200000/200000 [==============================] - 738s 4ms/step - loss: 0.5695 - acc: 0.7139 - val_loss: 0.5525 - val_acc: 0.7239\n",
      "Epoch 14/20\n",
      "200000/200000 [==============================] - 738s 4ms/step - loss: 0.5681 - acc: 0.7142 - val_loss: 0.5577 - val_acc: 0.7220\n",
      "Epoch 15/20\n",
      "200000/200000 [==============================] - 737s 4ms/step - loss: 0.5673 - acc: 0.7156 - val_loss: 0.5511 - val_acc: 0.7253\n",
      "Epoch 16/20\n",
      "200000/200000 [==============================] - 737s 4ms/step - loss: 0.5666 - acc: 0.7149 - val_loss: 0.5547 - val_acc: 0.7237\n",
      "Epoch 17/20\n",
      "200000/200000 [==============================] - 739s 4ms/step - loss: 0.5646 - acc: 0.7174 - val_loss: 0.5532 - val_acc: 0.7263\n",
      "Epoch 18/20\n",
      "200000/200000 [==============================] - 742s 4ms/step - loss: 0.5647 - acc: 0.7167 - val_loss: 0.5570 - val_acc: 0.7238\n",
      "Epoch 19/20\n",
      "200000/200000 [==============================] - 741s 4ms/step - loss: 0.5564 - acc: 0.7224 - val_loss: 0.5442 - val_acc: 0.7310\n",
      "Epoch 20/20\n",
      "200000/200000 [==============================] - 739s 4ms/step - loss: 0.5544 - acc: 0.7243 - val_loss: 0.5456 - val_acc: 0.7283\n"
     ]
    }
   ],
   "source": [
    "reduce_lr = ReduceLROnPlateau(monitor='val_loss', factor=0.2, patience=2, min_lr=1.e-6)\n",
    "history=model.fit(X_train, y_train,\\\n",
    "        batch_size=batch_size,\\\n",
    "        epochs=epochs,\\\n",
    "        validation_data=(X_valid, y_valid),\\\n",
    "        callbacks=[reduce_lr],\\\n",
    "        verbose=1, shuffle=True)"
   ]
  },
  {
   "cell_type": "markdown",
   "metadata": {},
   "source": [
    "### Evaluate The Model"
   ]
  },
  {
   "cell_type": "code",
   "execution_count": 243,
   "metadata": {},
   "outputs": [
    {
     "name": "stdout",
     "output_type": "stream",
     "text": [
      "20000/20000 [==============================] - 20s 1ms/step\n",
      "\n",
      "Validation loss / accuracy: 0.5456 / 0.7282\n",
      "('Validation ROC AUC:', 0.79811954500000015)\n",
      "20000/20000 [==============================] - 19s 963us/step\n",
      "\n",
      "Test loss / accuracy: 0.5557 / 0.7205\n",
      "('Test ROC AUC:', 0.78880235500000007)\n"
     ]
    }
   ],
   "source": [
    "# Evaluate on validation set\n",
    "score = model.evaluate(X_valid, y_valid, verbose=1)\n",
    "print('\\nValidation loss / accuracy: %0.4f / %0.4f'%(score[0], score[1]))\n",
    "y_pred = model.predict(X_valid)\n",
    "fpr, tpr, _ = roc_curve(y_valid, y_pred)\n",
    "roc_auc = auc(fpr, tpr)\n",
    "print('Validation ROC AUC:', roc_auc)\n",
    "\n",
    "# Evaluate on test set\n",
    "score = model.evaluate(X_test, y_test, verbose=1)\n",
    "print('\\nTest loss / accuracy: %0.4f / %0.4f'%(score[0], score[1]))\n",
    "y_pred = model.predict(X_test)\n",
    "fpr, tpr, _ = roc_curve(y_test, y_pred)\n",
    "roc_auc = auc(fpr, tpr)\n",
    "print('Test ROC AUC:', roc_auc)"
   ]
  },
  {
   "cell_type": "code",
   "execution_count": 244,
   "metadata": {},
   "outputs": [
    {
     "data": {
      "image/png": "[encoded data removed]",
      "text/plain": [
       "<matplotlib.figure.Figure at 0x7fa8f37066d0>"
      ]
     },
     "metadata": {},
     "output_type": "display_data"
    }
   ],
   "source": [
    "plt.plot([0, 1], [0, 1], 'k--')\n",
    "plt.legend(loc=2, prop={'size': 15})\n",
    "plt.plot(fpr, tpr, label='Model 1 (ROC-AUC = {:.3f})'.format(roc_auc))\n",
    "plt.xlabel('False positive rate')\n",
    "plt.ylabel('True positive rate')\n",
    "plt.title('ROC curve')\n",
    "plt.legend(loc='best')\n",
    "plt.show()"
   ]
  },
  {
   "cell_type": "code",
   "execution_count": null,
   "metadata": {},
   "outputs": [],
   "source": []
  }
 ],
 "metadata": {
  "kernelspec": {
   "display_name": "Python 2",
   "language": "python",
   "name": "python2"
  },
  "language_info": {
   "codemirror_mode": {
    "name": "ipython",
    "version": 2
   },
   "file_extension": ".py",
   "mimetype": "text/x-python",
   "name": "python",
   "nbconvert_exporter": "python",
   "pygments_lexer": "ipython2",
   "version": "2.7.13"
  }
 },
 "nbformat": 4,
 "nbformat_minor": 2
}
