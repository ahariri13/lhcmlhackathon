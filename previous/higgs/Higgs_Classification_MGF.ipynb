{
 "cells": [
  {
   "cell_type": "markdown",
   "metadata": {},
   "source": [
    "# Higgs Example "
   ]
  },
  {
   "cell_type": "markdown",
   "metadata": {},
   "source": [
    "## Load modules"
   ]
  },
  {
   "cell_type": "code",
   "execution_count": 1,
   "metadata": {},
   "outputs": [
    {
     "name": "stdout",
     "output_type": "stream",
     "text": [
      "Welcome to JupyROOT 6.12/06\n"
     ]
    }
   ],
   "source": [
    "import os\n",
    "import ROOT\n",
    "from ROOT import TMVA\n",
    "os.environ[\"KERAS_BACKEND\"] = \"tensorflow\""
   ]
  },
  {
   "cell_type": "markdown",
   "metadata": {},
   "source": [
    "## I/O"
   ]
  },
  {
   "cell_type": "code",
   "execution_count": 2,
   "metadata": {},
   "outputs": [],
   "source": [
    "ROOT.TMVA.Tools.Instance()\n",
    "TMVA.PyMethodBase.PyInitialize();\n",
    "\n",
    "outputFile = ROOT.TFile.Open(\"Higgs_ClassificationOutput_BDT.root\", \"RECREATE\")\n",
    "\n",
    "factory = ROOT.TMVA.Factory(\"TMVA_Higgs_Classification\", outputFile,\n",
    "                            \"!V:ROC:!Silent:Color:!DrawProgressBar:AnalysisType=Classification\" )"
   ]
  },
  {
   "cell_type": "markdown",
   "metadata": {},
   "source": [
    "## Load Data and Features"
   ]
  },
  {
   "cell_type": "code",
   "execution_count": 3,
   "metadata": {},
   "outputs": [],
   "source": [
    "loader = ROOT.TMVA.DataLoader(\"dataset\")\n",
    "\n",
    "loader.AddVariable(\"m_jj\")\n",
    "loader.AddVariable(\"m_jjj\")\n",
    "loader.AddVariable(\"m_lv\")\n",
    "loader.AddVariable(\"m_jlv\")\n",
    "loader.AddVariable(\"m_bb\")\n",
    "loader.AddVariable(\"m_wbb\")\n",
    "loader.AddVariable(\"m_wwbb\")\n",
    "loader.AddVariable(\"missing_energy_magnitude\")\n",
    "loader.AddVariable(\"jet1_btag\")\n",
    "loader.AddVariable(\"jet2_btag\")\n",
    "#loader.AddVariable(\"jet3_btag\")\n",
    "#loader.AddVariable(\"jet4_btag\")\n",
    "#loader.AddVariable(\"lepton_pT\")\n",
    "#loader.AddVariable(\"missing_energy_phi\")"
   ]
  },
  {
   "cell_type": "markdown",
   "metadata": {},
   "source": [
    "## Define Inputs"
   ]
  },
  {
   "cell_type": "code",
   "execution_count": 4,
   "metadata": {},
   "outputs": [
    {
     "name": "stdout",
     "output_type": "stream",
     "text": [
      "DataSetInfo              : [dataset] : Added class \"Signal\"\n",
      "                         : Add Tree sig_tree of type Signal with 10000 events\n",
      "DataSetInfo              : [dataset] : Added class \"Background\"\n",
      "                         : Add Tree bkg_tree of type Background with 10000 events\n"
     ]
    }
   ],
   "source": [
    "inputFileName = \"data/Higgs_data.root\"\n",
    "#inputFileName = \"data/prepare_higgs/higgs-dataset.root\"\n",
    "\n",
    "inputFile = ROOT.TFile.Open( inputFileName )\n",
    "\n",
    "signalTree     = inputFile.Get(\"sig_tree\")\n",
    "backgroundTree = inputFile.Get(\"bkg_tree\")\n",
    "#signalTree     = inputFile.Get(\"TreeS\")\n",
    "#backgroundTree = inputFile.Get(\"TreeB\")\n",
    "\n",
    "signalWeight     = 1.0\n",
    "backgroundWeight = 1.0\n",
    "   \n",
    "loader.AddSignalTree    ( signalTree,     signalWeight     )\n",
    "loader.AddBackgroundTree( backgroundTree, backgroundWeight )\n",
    "\n",
    "mycuts = ROOT.TCut(\"\")  \n",
    "mycutb = ROOT.TCut(\"\") \n",
    "\n",
    "loader.PrepareTrainingAndTestTree( mycuts, mycutb,\n",
    "#                                   \"nTrain_Signal=9000:nTrain_Background=9000:SplitMode=Random:\"\n",
    "                                    \"nTrain_Signal=9000:nTrain_Background=9000:SplitMode=Block:\"\n",
    "                                   \"NormMode=NumEvents:!V\" )"
   ]
  },
  {
   "cell_type": "markdown",
   "metadata": {},
   "source": [
    "## Book Algorithms (Boosted Decisions Trees, Random Forest)"
   ]
  },
  {
   "cell_type": "code",
   "execution_count": 5,
   "metadata": {},
   "outputs": [
    {
     "data": {
      "text/plain": [
       "<ROOT.TMVA::MethodBDT object (\"BDT\") at 0x71ba0f0>"
      ]
     },
     "execution_count": 5,
     "metadata": {},
     "output_type": "execute_result"
    },
    {
     "name": "stdout",
     "output_type": "stream",
     "text": [
      "Factory                  : Booking method: \u001b[1mBDT\u001b[0m\n",
      "                         : \n",
      "DataSetFactory           : [dataset] : Number of events in input trees\n",
      "                         : \n",
      "                         : \n",
      "                         : Number of training and testing events\n",
      "                         : ---------------------------------------------------------------------------\n",
      "                         : Signal     -- training events            : 9000\n",
      "                         : Signal     -- testing events             : 1000\n",
      "                         : Signal     -- training and testing events: 10000\n",
      "                         : Background -- training events            : 9000\n",
      "                         : Background -- testing events             : 1000\n",
      "                         : Background -- training and testing events: 10000\n",
      "                         : \n",
      "DataSetInfo              : Correlation matrix (Signal):\n",
      "                         : ------------------------------------------------------------------------------------------------------------------------------\n",
      "                         :                              m_jj   m_jjj    m_lv   m_jlv    m_bb   m_wbb  m_wwbb missing_energy_magnitude jet1_btag jet2_btag\n",
      "                         :                     m_jj:  +1.000  +0.787  +0.013  +0.125  +0.026  +0.521  +0.524                   +0.026    -0.136    +0.003\n",
      "                         :                    m_jjj:  +0.787  +1.000  +0.017  +0.113  +0.154  +0.677  +0.659                   +0.022    -0.100    +0.044\n",
      "                         :                     m_lv:  +0.013  +0.017  +1.000  +0.114  -0.050  +0.018  +0.040                   +0.221    -0.001    -0.011\n",
      "                         :                    m_jlv:  +0.125  +0.113  +0.114  +1.000  +0.313  +0.567  +0.573                   +0.258    +0.119    +0.042\n",
      "                         :                     m_bb:  +0.026  +0.154  -0.050  +0.313  +1.000  +0.469  +0.331                   -0.027    +0.211    +0.134\n",
      "                         :                    m_wbb:  +0.521  +0.677  +0.018  +0.567  +0.469  +1.000  +0.900                   +0.158    +0.048    +0.067\n",
      "                         :                   m_wwbb:  +0.524  +0.659  +0.040  +0.573  +0.331  +0.900  +1.000                   +0.224    -0.032    +0.048\n",
      "                         : missing_energy_magnitude:  +0.026  +0.022  +0.221  +0.258  -0.027  +0.158  +0.224                   +1.000    -0.021    +0.008\n",
      "                         :                jet1_btag:  -0.136  -0.100  -0.001  +0.119  +0.211  +0.048  -0.032                   -0.021    +1.000    -0.285\n",
      "                         :                jet2_btag:  +0.003  +0.044  -0.011  +0.042  +0.134  +0.067  +0.048                   +0.008    -0.285    +1.000\n",
      "                         : ------------------------------------------------------------------------------------------------------------------------------\n",
      "DataSetInfo              : Correlation matrix (Background):\n",
      "                         : ------------------------------------------------------------------------------------------------------------------------------\n",
      "                         :                              m_jj   m_jjj    m_lv   m_jlv    m_bb   m_wbb  m_wwbb missing_energy_magnitude jet1_btag jet2_btag\n",
      "                         :                     m_jj:  +1.000  +0.805  +0.013  +0.149  +0.030  +0.405  +0.420                   +0.062    -0.082    -0.029\n",
      "                         :                    m_jjj:  +0.805  +1.000  +0.010  +0.181  +0.167  +0.552  +0.532                   +0.059    -0.022    +0.011\n",
      "                         :                     m_lv:  +0.013  +0.010  +1.000  +0.127  +0.018  +0.040  +0.051                   +0.121    +0.013    -0.018\n",
      "                         :                    m_jlv:  +0.149  +0.181  +0.127  +1.000  +0.258  +0.601  +0.561                   +0.327    +0.132    +0.020\n",
      "                         :                     m_bb:  +0.030  +0.167  +0.018  +0.258  +1.000  +0.605  +0.431                   +0.033    +0.318    +0.140\n",
      "                         :                    m_wbb:  +0.405  +0.552  +0.040  +0.601  +0.605  +1.000  +0.884                   +0.256    +0.165    +0.055\n",
      "                         :                   m_wwbb:  +0.420  +0.532  +0.051  +0.561  +0.431  +0.884  +1.000                   +0.352    +0.030    +0.016\n",
      "                         : missing_energy_magnitude:  +0.062  +0.059  +0.121  +0.327  +0.033  +0.256  +0.352                   +1.000    -0.033    -0.044\n",
      "                         :                jet1_btag:  -0.082  -0.022  +0.013  +0.132  +0.318  +0.165  +0.030                   -0.033    +1.000    -0.239\n",
      "                         :                jet2_btag:  -0.029  +0.011  -0.018  +0.020  +0.140  +0.055  +0.016                   -0.044    -0.239    +1.000\n",
      "                         : ------------------------------------------------------------------------------------------------------------------------------\n",
      "DataSetFactory           : [dataset] :  \n",
      "                         : \n"
     ]
    }
   ],
   "source": [
    "## TMVA Boosted Decision Trees\n",
    "factory.BookMethod(loader,ROOT.TMVA.Types.kBDT, \"BDT\", \"!V:NTrees=200:MinNodeSize=5%:MaxDepth=7:BoostType=AdaBoost:AdaBoostBeta=0.5:UseBaggedBoost:BaggedSampleFraction=0.5:SeparationType=GiniIndex:nCuts=20\" )\n",
    "\n",
    "## Scikit-learn Gradient-Boosted Trees\n",
    "#factory.BookMethod(loader, ROOT.TMVA.Types.kPyGTB, \"PyGTB\",\"H:!V:VarTransform=G:NEstimators=400:LearningRate=0.1:\"\n",
    "#                                                  \"MaxDepth=3\")\n",
    "## Scikit-learn Random Forest\n",
    "#factory.BookMethod(loader, ROOT.TMVA.Types.kPyRandomForest, \"PyRandomForest\",\"!V:VarTransform=G:NEstimators=400:\"#\n",
    "#                           \"Criterion=gini:MaxFeatures=auto:MaxDepth=6:MinSamplesLeaf=3:MinWeightFractionLeaf=0:\"\n",
    "#                            \"Bootstrap=kTRUE\" )\n",
    "## Scikit-learn AdaBoosted Trees      \n",
    "#factory.BookMethod(loader, ROOT.TMVA.Types.kPyAdaBoost, \"PyAdaBoost\",\"!V:VarTransform=G:NEstimators=400\" )\n"
   ]
  },
  {
   "cell_type": "markdown",
   "metadata": {},
   "source": [
    "## Book Algorithms (Neural Networks)"
   ]
  },
  {
   "cell_type": "code",
   "execution_count": 6,
   "metadata": {},
   "outputs": [],
   "source": [
    "#from keras.models import Sequential\n",
    "#from keras.optimizers import Adam, SGD\n",
    "#from keras.layers import Input, Dense, Dropout, Flatten, Conv2D, MaxPooling2D, Reshape"
   ]
  },
  {
   "cell_type": "code",
   "execution_count": 7,
   "metadata": {},
   "outputs": [],
   "source": [
    "# Define model\n",
    "#model = Sequential()\n",
    "#model.add(Dense(64, kernel_initializer='glorot_normal', activation='tanh', input_dim=7))\n",
    "#model.add(Dense(64, kernel_initializer='glorot_normal', activation='tanh'))\n",
    "#model.add(Dense(64, kernel_initializer='glorot_normal', activation='tanh'))\n",
    "#model.add(Dense(2, kernel_initializer='glorot_uniform', activation='softmax'))\n",
    "#model.compile(loss='categorical_crossentropy', optimizer=Adam(), metrics=['categorical_accuracy',])\n",
    "#model.save('model_dense.h5')\n",
    "#model.summary()"
   ]
  },
  {
   "cell_type": "code",
   "execution_count": 8,
   "metadata": {},
   "outputs": [],
   "source": [
    "#factory.BookMethod(loader, ROOT.TMVA.Types.kPyKeras, 'Keras_Dense',\n",
    "#                   'H:!V:VarTransform=G:FilenameModel=./model_dense.h5:'+\\\n",
    "#                   'NumEpochs=30:BatchSize=32:TriesEarlyStopping=10')"
   ]
  },
  {
   "cell_type": "markdown",
   "metadata": {},
   "source": [
    "## Train Methods"
   ]
  },
  {
   "cell_type": "code",
   "execution_count": 9,
   "metadata": {},
   "outputs": [
    {
     "name": "stdout",
     "output_type": "stream",
     "text": [
      "Factory                  : \u001b[1mTrain all methods\u001b[0m\n",
      "Factory                  : [dataset] : Create Transformation \"I\" with events from all classes.\n",
      "                         : \n",
      "                         : Transformation, Variable selection : \n",
      "                         : Input : variable 'm_jj' <---> Output : variable 'm_jj'\n",
      "                         : Input : variable 'm_jjj' <---> Output : variable 'm_jjj'\n",
      "                         : Input : variable 'm_lv' <---> Output : variable 'm_lv'\n",
      "                         : Input : variable 'm_jlv' <---> Output : variable 'm_jlv'\n",
      "                         : Input : variable 'm_bb' <---> Output : variable 'm_bb'\n",
      "                         : Input : variable 'm_wbb' <---> Output : variable 'm_wbb'\n",
      "                         : Input : variable 'm_wwbb' <---> Output : variable 'm_wwbb'\n",
      "                         : Input : variable 'missing_energy_magnitude' <---> Output : variable 'missing_energy_magnitude'\n",
      "                         : Input : variable 'jet1_btag' <---> Output : variable 'jet1_btag'\n",
      "                         : Input : variable 'jet2_btag' <---> Output : variable 'jet2_btag'\n",
      "TFHandler_Factory        :                 Variable                        Mean                        RMS                [        Min                        Max ]\n",
      "                         : -------------------------------------------------------------------------------------------------------------------------------------------\n",
      "                         :                     m_jj:                    1.0344                   0.65746   [                   0.12185                    15.072 ]\n",
      "                         :                    m_jjj:                    1.0242                   0.37388   [                   0.38832                    7.8158 ]\n",
      "                         :                     m_lv:                    1.0495                   0.16071   [                   0.26740                    3.7622 ]\n",
      "                         :                    m_jlv:                    1.0070                   0.40131   [                   0.18584                    6.1276 ]\n",
      "                         :                     m_bb:                   0.97177                   0.52443   [                  0.078035                    7.6805 ]\n",
      "                         :                    m_wbb:                    1.0325                   0.36366   [                   0.39760                    6.1879 ]\n",
      "                         :                   m_wwbb:                   0.96210                   0.31608   [                   0.43841                    5.1146 ]\n",
      "                         : missing_energy_magnitude:                   0.99994                   0.60385   [                 0.0062345                    6.9705 ]\n",
      "                         :                jet1_btag:                   0.99098                    1.0256   [                    0.0000                    2.1731 ]\n",
      "                         :                jet2_btag:                   0.98912                    1.0470   [                    0.0000                    2.2149 ]\n",
      "                         : -------------------------------------------------------------------------------------------------------------------------------------------\n",
      "                         : Ranking input variables (method unspecific)...\n",
      "IdTransformation         : Ranking result (top variable is best ranked)\n",
      "                         : -------------------------------------------------\n",
      "                         : Rank : Variable                 : Separation\n",
      "                         : -------------------------------------------------\n",
      "                         :    1 : m_bb                     : 9.371e-02\n",
      "                         :    2 : m_wwbb                   : 4.339e-02\n",
      "                         :    3 : m_wbb                    : 3.988e-02\n",
      "                         :    4 : m_jjj                    : 2.563e-02\n",
      "                         :    5 : m_jlv                    : 1.903e-02\n",
      "                         :    6 : missing_energy_magnitude : 1.498e-02\n",
      "                         :    7 : m_lv                     : 2.126e-03\n",
      "                         :    8 : m_jj                     : 1.823e-03\n",
      "                         :    9 : jet2_btag                : 1.212e-03\n",
      "                         :   10 : jet1_btag                : 2.727e-04\n",
      "                         : -------------------------------------------------\n",
      "Factory                  : Train method: BDT for Classification\n",
      "                         : \n",
      "BDT                      : #events: (reweighted) sig: 9000 bkg: 9000\n",
      "                         : #events: (unweighted) sig: 9000 bkg: 9000\n",
      "                         : Training 200 Decision Trees ... patience please\n",
      "                         : Elapsed time for training with 18000 events: 1.35 sec         \n",
      "BDT                      : [dataset] : Evaluation of BDT on training sample (18000 events)\n",
      "                         : Elapsed time for evaluation of 18000 events: 0.353 sec       \n",
      "                         : Creating xml weight file: \u001b[0;36mdataset/weights/TMVA_Higgs_Classification_BDT.weights.xml\u001b[0m\n",
      "                         : Creating standalone class: \u001b[0;36mdataset/weights/TMVA_Higgs_Classification_BDT.class.C\u001b[0m\n",
      "Factory                  : Training finished\n",
      "                         : \n",
      "                         : Ranking input variables (method specific)...\n",
      "BDT                      : Ranking result (top variable is best ranked)\n",
      "                         : ----------------------------------------------------------\n",
      "                         : Rank : Variable                 : Variable Importance\n",
      "                         : ----------------------------------------------------------\n",
      "                         :    1 : m_bb                     : 1.344e-01\n",
      "                         :    2 : m_wwbb                   : 1.250e-01\n",
      "                         :    3 : m_jjj                    : 1.156e-01\n",
      "                         :    4 : missing_energy_magnitude : 1.146e-01\n",
      "                         :    5 : m_jlv                    : 1.143e-01\n",
      "                         :    6 : m_wbb                    : 1.123e-01\n",
      "                         :    7 : m_jj                     : 9.379e-02\n",
      "                         :    8 : jet1_btag                : 6.595e-02\n",
      "                         :    9 : m_lv                     : 6.272e-02\n",
      "                         :   10 : jet2_btag                : 6.145e-02\n",
      "                         : ----------------------------------------------------------\n",
      "Factory                  : === Destroy and recreate all methods via weight files for testing ===\n",
      "                         : \n"
     ]
    }
   ],
   "source": [
    "factory.TrainAllMethods();"
   ]
  },
  {
   "cell_type": "markdown",
   "metadata": {},
   "source": [
    "## Test  Methods"
   ]
  },
  {
   "cell_type": "code",
   "execution_count": 10,
   "metadata": {},
   "outputs": [
    {
     "name": "stdout",
     "output_type": "stream",
     "text": [
      "Factory                  : \u001b[1mTest all methods\u001b[0m\n",
      "Factory                  : Test method: BDT for Classification performance\n",
      "                         : \n",
      "BDT                      : [dataset] : Evaluation of BDT on testing sample (2000 events)\n",
      "                         : Elapsed time for evaluation of 2000 events: 0.0387 sec       \n"
     ]
    }
   ],
   "source": [
    "factory.TestAllMethods();   "
   ]
  },
  {
   "cell_type": "markdown",
   "metadata": {},
   "source": [
    "## Evaluate Methods"
   ]
  },
  {
   "cell_type": "code",
   "execution_count": 11,
   "metadata": {
    "scrolled": true
   },
   "outputs": [
    {
     "name": "stdout",
     "output_type": "stream",
     "text": [
      "Factory                  : \u001b[1mEvaluate all methods\u001b[0m\n",
      "Factory                  : Evaluate classifier: BDT\n",
      "                         : \n",
      "BDT                      : [dataset] : Loop over test events and fill histograms with classifier response...\n",
      "                         : \n",
      "TFHandler_BDT            :                 Variable                        Mean                        RMS                [        Min                        Max ]\n",
      "                         : -------------------------------------------------------------------------------------------------------------------------------------------\n",
      "                         :                     m_jj:                    1.0406                   0.71664   [                   0.15013                    17.681 ]\n",
      "                         :                    m_jjj:                    1.0353                   0.39949   [                   0.48774                    8.8785 ]\n",
      "                         :                     m_lv:                    1.0522                   0.16905   [                   0.63443                    3.2362 ]\n",
      "                         :                    m_jlv:                    1.0168                   0.44265   [                   0.44322                    8.6965 ]\n",
      "                         :                     m_bb:                   0.97995                   0.50891   [                   0.11545                    4.8162 ]\n",
      "                         :                    m_wbb:                    1.0443                   0.38075   [                   0.40238                    6.1312 ]\n",
      "                         :                   m_wwbb:                   0.96901                   0.32759   [                   0.44969                    4.2448 ]\n",
      "                         : missing_energy_magnitude:                   0.98896                   0.58724   [                  0.020808                    4.5828 ]\n",
      "                         :                jet1_btag:                    1.0246                    1.0312   [                    0.0000                    2.1731 ]\n",
      "                         :                jet2_btag:                    1.0332                    1.0486   [                    0.0000                    2.2149 ]\n",
      "                         : -------------------------------------------------------------------------------------------------------------------------------------------\n",
      "                         : \n",
      "                         : Evaluation results ranked by best signal efficiency and purity (area)\n",
      "                         : -------------------------------------------------------------------------------------------------------------------\n",
      "                         : DataSet       MVA                       \n",
      "                         : Name:         Method:          ROC-integ\n",
      "                         : dataset       BDT            : 0.801\n",
      "                         : -------------------------------------------------------------------------------------------------------------------\n",
      "                         : \n",
      "                         : Testing efficiency compared to training efficiency (overtraining check)\n",
      "                         : -------------------------------------------------------------------------------------------------------------------\n",
      "                         : DataSet              MVA              Signal efficiency: from test sample (from training sample) \n",
      "                         : Name:                Method:          @B=0.01             @B=0.10            @B=0.30   \n",
      "                         : -------------------------------------------------------------------------------------------------------------------\n",
      "                         : dataset              BDT            : 0.145 (0.143)       0.459 (0.460)      0.754 (0.742)\n",
      "                         : -------------------------------------------------------------------------------------------------------------------\n",
      "                         : \n",
      "Dataset:dataset          : Created tree 'TestTree' with 2000 events\n",
      "                         : \n",
      "Dataset:dataset          : Created tree 'TrainTree' with 18000 events\n",
      "                         : \n",
      "Factory                  : \u001b[1mThank you for using TMVA!\u001b[0m\n",
      "                         : \u001b[1mFor citation information, please visit: http://tmva.sf.net/citeTMVA.html\u001b[0m\n"
     ]
    }
   ],
   "source": [
    "factory.EvaluateAllMethods();"
   ]
  },
  {
   "cell_type": "markdown",
   "metadata": {},
   "source": [
    "## Plot ROC Curve"
   ]
  },
  {
   "cell_type": "code",
   "execution_count": 12,
   "metadata": {},
   "outputs": [
    {
     "data": {
      "text/html": [
       "\n",
       "<div id=\"root_plot_1\"\n",
       "     style=\"width: 696px; height: 472px\">\n",
       "</div>\n",
       "\n",
       "<script>\n",
       " requirejs.config({\n",
       "     paths: {\n",
       "       'JSRootCore' : 'https://root.cern.ch/js/notebook//scripts/JSRootCore',\n",
       "     }\n",
       "   });\n",
       " require(['JSRootCore'],\n",
       "     function(Core) {\n",
       "       var obj = Core.JSONR_unref({\"_typename\":\"TCanvas\",\"fUniqueID\":0,\"fBits\":53673992,\"fLineColor\":1,\"fLineStyle\":1,\"fLineWidth\":1,\"fFillColor\":0,\"fFillStyle\":1001,\"fLeftMargin\":0.1,\"fRightMargin\":0.1,\"fBottomMargin\":0.1,\"fTopMargin\":0.1,\"fXfile\":2,\"fYfile\":2,\"fAfile\":1,\"fXstat\":0.99,\"fYstat\":0.99,\"fAstat\":2,\"fFrameFillColor\":0,\"fFrameLineColor\":1,\"fFrameFillStyle\":1001,\"fFrameLineStyle\":1,\"fFrameLineWidth\":1,\"fFrameBorderSize\":1,\"fFrameBorderMode\":0,\"fX1\":-0.187500010244549,\"fY1\":-0.131250009778888,\"fX2\":1.18750001024455,\"fY2\":1.18125000977889,\"fXtoAbsPixelk\":94.9091446804395,\"fXtoPixelk\":94.9091446804395,\"fXtoPixel\":506.181810639121,\"fYtoAbsPixelk\":424.800047186661,\"fYtoPixelk\":424.800047186661,\"fYtoPixel\":-359.619042260306,\"fUtoAbsPixelk\":5e-5,\"fUtoPixelk\":5e-5,\"fUtoPixel\":696,\"fVtoAbsPixelk\":472.00005,\"fVtoPixelk\":472,\"fVtoPixel\":-472,\"fAbsPixeltoXk\":-0.187500010244549,\"fPixeltoXk\":-0.187500010244549,\"fPixeltoX\":0.00197557474208204,\"fAbsPixeltoYk\":1.18125000977889,\"fPixeltoYk\":-0.131250009778888,\"fPixeltoY\":-0.00278072038041902,\"fXlowNDC\":0,\"fYlowNDC\":0,\"fXUpNDC\":0,\"fYUpNDC\":0,\"fWNDC\":1,\"fHNDC\":1,\"fAbsXlowNDC\":0,\"fAbsYlowNDC\":0,\"fAbsWNDC\":1,\"fAbsHNDC\":1,\"fUxmin\":-0.05,\"fUymin\":0,\"fUxmax\":1.05,\"fUymax\":1.05,\"fTheta\":30,\"fPhi\":30,\"fAspectRatio\":0,\"fNumber\":0,\"fTickx\":0,\"fTicky\":0,\"fLogx\":0,\"fLogy\":0,\"fLogz\":0,\"fPadPaint\":0,\"fCrosshair\":0,\"fCrosshairPos\":0,\"fBorderSize\":2,\"fBorderMode\":0,\"fModified\":false,\"fGridx\":true,\"fGridy\":true,\"fAbsCoord\":false,\"fEditable\":true,\"fFixedAspectRatio\":false,\"fPrimitives\":{\"_typename\":\"TList\",\"name\":\"TList\",\"arr\":[{\"_typename\":\"TFrame\",\"fUniqueID\":0,\"fBits\":50331656,\"fLineColor\":1,\"fLineStyle\":1,\"fLineWidth\":1,\"fFillColor\":0,\"fFillStyle\":1001,\"fX1\":-0.05,\"fY1\":0,\"fX2\":1.05,\"fY2\":1.05,\"fBorderSize\":1,\"fBorderMode\":0},{\"_typename\":\"TMultiGraph\",\"fUniqueID\":0,\"fBits\":50331656,\"fName\":\"\",\"fTitle\":\"Signal efficiency vs. Background rejection\",\"fGraphs\":{\"_typename\":\"TList\",\"name\":\"TList\",\"arr\":[{\"_typename\":\"TGraph\",\"fUniqueID\":0,\"fBits\":50332680,\"fName\":\"Graph\",\"fTitle\":\"BDT\",\"fLineColor\":1,\"fLineStyle\":1,\"fLineWidth\":2,\"fFillColor\":10,\"fFillStyle\":1000,\"fMarkerColor\":1,\"fMarkerStyle\":1,\"fMarkerSize\":1,\"fNpoints\":2002,\"fX\":[1,1,1,1,1,1,1,1,1,1,1,1,1,1,1,1,1,1,1,1,1,1,1,1,1,1,1,1,1,1,1,1,1,1,1,1,1,1,1,1,1,1,1,1,1,1,1,1,1,0.999,0.999,0.999,0.999,0.999,0.999,0.999,0.999,0.999,0.999,0.999,0.999,0.999,0.999,0.999,0.999,0.999,0.999,0.999,0.998,0.998,0.998,0.998,0.998,0.998,0.998,0.998,0.998,0.998,0.998,0.998,0.998,0.998,0.998,0.998,0.998,0.998,0.998,0.998,0.998,0.998,0.998,0.998,0.998,0.998,0.998,0.998,0.998,0.998,0.998,0.998,0.998,0.998,0.998,0.998,0.998,0.998,0.998,0.998,0.998,0.998,0.998,0.998,0.998,0.997,0.997,0.997,0.997,0.997,0.997,0.997,0.997,0.997,0.997,0.997,0.996,0.996,0.995,0.995,0.995,0.995,0.995,0.995,0.994,0.994,0.994,0.994,0.993,0.993,0.993,0.993,0.993,0.993,0.993,0.993,0.992,0.992,0.992,0.992,0.992,0.992,0.992,0.992,0.991,0.991,0.991,0.991,0.991,0.991,0.99,0.989,0.989,0.989,0.989,0.989,0.989,0.988,0.988,0.988,0.988,0.988,0.988,0.988,0.988,0.988,0.987,0.986,0.986,0.985,0.985,0.985,0.985,0.985,0.985,0.985,0.985,0.985,0.985,0.985,0.985,0.985,0.985,0.985,0.985,0.985,0.985,0.985,0.985,0.985,0.984,0.984,0.984,0.984,0.984,0.984,0.984,0.984,0.984,0.984,0.983,0.983,0.983,0.983,0.983,0.983,0.983,0.983,0.983,0.983,0.983,0.983,0.982,0.981,0.981,0.981,0.981,0.981,0.981,0.981,0.981,0.981,0.981,0.98,0.98,0.98,0.98,0.979,0.979,0.979,0.979,0.979,0.979,0.979,0.979,0.979,0.978,0.977,0.977,0.976,0.976,0.976,0.976,0.975,0.975,0.975,0.975,0.975,0.975,0.975,0.974,0.974,0.974,0.974,0.974,0.974,0.974,0.974,0.973,0.973,0.973,0.973,0.972,0.972,0.972,0.972,0.972,0.972,0.972,0.972,0.971,0.971,0.971,0.971,0.971,0.971,0.971,0.971,0.97,0.97,0.97,0.969,0.968,0.967,0.966,0.966,0.966,0.965,0.964,0.964,0.963,0.963,0.963,0.963,0.963,0.963,0.963,0.963,0.963,0.963,0.963,0.962,0.962,0.962,0.962,0.962,0.962,0.962,0.962,0.962,0.961,0.961,0.961,0.961,0.961,0.961,0.961,0.961,0.961,0.961,0.961,0.961,0.96,0.96,0.96,0.96,0.96,0.959,0.959,0.959,0.958,0.958,0.958,0.958,0.958,0.958,0.958,0.957,0.956,0.956,0.955,0.954,0.954,0.954,0.954,0.954,0.954,0.954,0.954,0.954,0.953,0.953,0.953,0.953,0.953,0.953,0.953,0.952,0.952,0.952,0.952,0.951,0.95,0.95,0.95,0.95,0.95,0.949,0.949,0.949,0.949,0.948,0.948,0.947,0.946,0.946,0.946,0.945,0.945,0.945,0.945,0.945,0.945,0.944,0.944,0.944,0.944,0.944,0.943,0.943,0.943,0.943,0.943,0.943,0.942,0.942,0.942,0.942,0.941,0.941,0.941,0.94,0.94,0.94,0.94,0.94,0.94,0.94,0.94,0.94,0.94,0.94,0.939,0.939,0.938,0.938,0.938,0.938,0.937,0.937,0.937,0.937,0.937,0.937,0.937,0.936,0.936,0.936,0.935,0.935,0.935,0.935,0.935,0.934,0.934,0.934,0.933,0.932,0.932,0.932,0.932,0.932,0.932,0.931,0.931,0.931,0.931,0.931,0.931,0.93,0.93,0.93,0.93,0.93,0.93,0.93,0.93,0.93,0.93,0.93,0.929,0.928,0.927,0.926,0.925,0.924,0.924,0.923,0.923,0.923,0.923,0.923,0.923,0.922,0.921,0.921,0.921,0.921,0.921,0.92,0.92,0.92,0.919,0.919,0.918,0.918,0.918,0.918,0.918,0.918,0.918,0.918,0.918,0.918,0.918,0.918,0.918,0.918,0.918,0.917,0.917,0.917,0.916,0.916,0.916,0.916,0.915,0.915,0.915,0.915,0.914,0.914,0.913,0.913,0.913,0.913,0.912,0.912,0.912,0.912,0.912,0.912,0.911,0.911,0.911,0.911,0.911,0.911,0.91,0.91,0.909,0.909,0.909,0.908,0.908,0.908,0.908,0.907,0.906,0.906,0.905,0.905,0.904,0.904,0.904,0.904,0.904,0.903,0.902,0.901,0.901,0.901,0.901,0.901,0.901,0.901,0.901,0.9,0.9,0.9,0.9,0.899,0.899,0.899,0.898,0.898,0.898,0.898,0.898,0.898,0.898,0.898,0.897,0.896,0.896,0.896,0.896,0.896,0.896,0.896,0.895,0.895,0.895,0.895,0.895,0.895,0.895,0.895,0.894,0.894,0.894,0.893,0.893,0.893,0.892,0.891,0.89,0.89,0.889,0.889,0.888,0.887,0.887,0.886,0.885,0.885,0.884,0.884,0.884,0.884,0.884,0.884,0.883,0.882,0.881,0.88,0.88,0.88,0.88,0.88,0.88,0.879,0.879,0.879,0.879,0.879,0.878,0.878,0.878,0.878,0.878,0.878,0.878,0.878,0.877,0.877,0.877,0.876,0.876,0.876,0.875,0.875,0.875,0.875,0.875,0.875,0.874,0.874,0.873,0.873,0.873,0.872,0.871,0.871,0.871,0.871,0.871,0.871,0.871,0.871,0.87,0.869,0.868,0.868,0.868,0.868,0.868,0.868,0.868,0.868,0.868,0.868,0.867,0.866,0.865,0.864,0.863,0.863,0.863,0.862,0.862,0.862,0.862,0.862,0.861,0.861,0.861,0.861,0.86,0.86,0.86,0.859,0.859,0.859,0.859,0.859,0.859,0.858,0.858,0.857,0.856,0.856,0.855,0.855,0.854,0.853,0.852,0.851,0.85,0.85,0.849,0.849,0.849,0.849,0.849,0.849,0.849,0.848,0.848,0.848,0.848,0.847,0.846,0.846,0.845,0.845,0.845,0.845,0.844,0.843,0.843,0.842,0.842,0.842,0.841,0.841,0.841,0.841,0.841,0.84,0.84,0.84,0.84,0.84,0.839,0.838,0.837,0.836,0.836,0.836,0.835,0.834,0.833,0.833,0.832,0.831,0.83,0.829,0.828,0.828,0.828,0.828,0.828,0.827,0.827,0.827,0.827,0.827,0.827,0.827,0.827,0.827,0.826,0.826,0.826,0.825,0.824,0.823,0.822,0.822,0.822,0.822,0.822,0.822,0.821,0.82,0.819,0.819,0.819,0.819,0.818,0.818,0.818,0.818,0.818,0.817,0.817,0.816,0.816,0.815,0.814,0.814,0.813,0.812,0.811,0.81,0.809,0.808,0.808,0.807,0.807,0.807,0.806,0.806,0.806,0.806,0.805,0.805,0.804,0.804,0.804,0.804,0.804,0.803,0.803,0.802,0.802,0.802,0.801,0.801,0.801,0.801,0.8,0.799,0.799,0.799,0.799,0.799,0.799,0.798,0.797,0.796,0.796,0.795,0.794,0.793,0.793,0.793,0.793,0.793,0.792,0.791,0.791,0.79,0.789,0.788,0.787,0.787,0.787,0.787,0.787,0.787,0.787,0.786,0.786,0.786,0.786,0.786,0.786,0.786,0.785,0.784,0.783,0.782,0.782,0.781,0.781,0.78,0.78,0.78,0.78,0.779,0.778,0.778,0.778,0.778,0.778,0.778,0.777,0.777,0.776,0.776,0.775,0.775,0.775,0.775,0.774,0.774,0.774,0.774,0.774,0.773,0.773,0.773,0.773,0.773,0.772,0.771,0.77,0.77,0.77,0.77,0.769,0.768,0.767,0.767,0.767,0.766,0.765,0.764,0.764,0.763,0.763,0.763,0.762,0.761,0.761,0.76,0.759,0.758,0.757,0.756,0.756,0.756,0.756,0.756,0.756,0.755,0.754,0.753,0.752,0.752,0.751,0.75,0.75,0.75,0.75,0.75,0.749,0.748,0.748,0.748,0.748,0.748,0.747,0.746,0.746,0.746,0.746,0.746,0.745,0.744,0.744,0.744,0.743,0.743,0.742,0.741,0.74,0.739,0.738,0.737,0.736,0.735,0.735,0.734,0.734,0.734,0.734,0.733,0.733,0.733,0.732,0.731,0.731,0.731,0.73,0.729,0.728,0.727,0.727,0.726,0.726,0.725,0.725,0.725,0.725,0.724,0.723,0.722,0.721,0.721,0.72,0.72,0.72,0.72,0.719,0.719,0.719,0.718,0.718,0.717,0.716,0.715,0.715,0.714,0.714,0.713,0.713,0.713,0.712,0.711,0.711,0.711,0.711,0.71,0.709,0.708,0.708,0.707,0.706,0.705,0.704,0.704,0.703,0.702,0.702,0.701,0.7,0.699,0.699,0.699,0.699,0.698,0.698,0.697,0.696,0.695,0.694,0.693,0.692,0.692,0.691,0.69,0.689,0.688,0.687,0.686,0.686,0.686,0.686,0.685,0.684,0.684,0.684,0.683,0.683,0.683,0.683,0.683,0.682,0.682,0.681,0.68,0.679,0.679,0.678,0.677,0.676,0.675,0.674,0.673,0.673,0.673,0.673,0.672,0.671,0.671,0.671,0.671,0.67,0.67,0.669,0.669,0.668,0.668,0.668,0.667,0.666,0.666,0.665,0.665,0.664,0.663,0.663,0.662,0.662,0.661,0.661,0.66,0.659,0.659,0.658,0.658,0.657,0.656,0.655,0.654,0.654,0.654,0.653,0.652,0.652,0.651,0.65,0.649,0.648,0.647,0.646,0.646,0.646,0.645,0.645,0.644,0.643,0.642,0.641,0.641,0.64,0.64,0.64,0.64,0.639,0.638,0.638,0.638,0.637,0.637,0.637,0.636,0.636,0.636,0.635,0.634,0.633,0.632,0.631,0.631,0.631,0.631,0.63,0.629,0.629,0.629,0.628,0.627,0.626,0.626,0.625,0.624,0.623,0.623,0.622,0.622,0.622,0.622,0.621,0.62,0.619,0.619,0.619,0.619,0.618,0.617,0.617,0.617,0.616,0.616,0.615,0.614,0.613,0.613,0.612,0.611,0.611,0.61,0.609,0.608,0.608,0.607,0.606,0.605,0.604,0.604,0.603,0.603,0.602,0.601,0.6,0.599,0.598,0.597,0.597,0.596,0.595,0.595,0.595,0.594,0.594,0.594,0.593,0.593,0.593,0.592,0.591,0.59,0.59,0.589,0.589,0.588,0.587,0.586,0.586,0.586,0.585,0.584,0.583,0.582,0.581,0.581,0.58,0.579,0.579,0.579,0.578,0.577,0.577,0.577,0.576,0.575,0.574,0.573,0.572,0.571,0.571,0.571,0.57,0.57,0.57,0.569,0.569,0.568,0.568,0.568,0.568,0.568,0.568,0.568,0.568,0.568,0.567,0.566,0.565,0.564,0.563,0.563,0.563,0.562,0.561,0.56,0.559,0.558,0.557,0.556,0.555,0.554,0.553,0.553,0.553,0.552,0.551,0.55,0.549,0.549,0.549,0.548,0.547,0.546,0.546,0.545,0.544,0.543,0.542,0.542,0.542,0.541,0.54,0.539,0.538,0.537,0.536,0.536,0.535,0.534,0.534,0.533,0.533,0.533,0.532,0.532,0.531,0.53,0.529,0.528,0.528,0.527,0.526,0.526,0.526,0.525,0.524,0.523,0.522,0.521,0.52,0.519,0.519,0.518,0.518,0.517,0.517,0.517,0.516,0.515,0.514,0.513,0.512,0.512,0.511,0.51,0.509,0.509,0.509,0.508,0.507,0.506,0.505,0.504,0.504,0.503,0.503,0.502,0.501,0.5,0.499,0.498,0.498,0.498,0.497,0.496,0.495,0.495,0.494,0.494,0.494,0.493,0.492,0.491,0.491,0.49,0.49,0.489,0.489,0.489,0.489,0.488,0.487,0.487,0.486,0.486,0.486,0.485,0.484,0.483,0.482,0.481,0.48,0.479,0.479,0.478,0.477,0.477,0.477,0.477,0.477,0.476,0.475,0.474,0.474,0.473,0.473,0.472,0.472,0.471,0.47,0.469,0.468,0.467,0.467,0.467,0.467,0.467,0.467,0.466,0.466,0.465,0.464,0.463,0.462,0.461,0.46,0.459,0.459,0.458,0.458,0.458,0.457,0.457,0.456,0.455,0.455,0.454,0.453,0.452,0.452,0.451,0.45,0.449,0.448,0.448,0.447,0.446,0.445,0.444,0.443,0.443,0.443,0.442,0.441,0.441,0.441,0.44,0.44,0.439,0.439,0.438,0.438,0.437,0.436,0.436,0.435,0.435,0.434,0.434,0.433,0.432,0.432,0.431,0.431,0.43,0.429,0.429,0.428,0.427,0.427,0.426,0.425,0.425,0.424,0.423,0.423,0.423,0.422,0.422,0.422,0.421,0.421,0.42,0.419,0.419,0.418,0.417,0.416,0.415,0.415,0.414,0.413,0.413,0.412,0.411,0.41,0.409,0.408,0.408,0.407,0.406,0.405,0.404,0.403,0.402,0.401,0.401,0.4,0.4,0.399,0.398,0.397,0.397,0.396,0.395,0.394,0.394,0.393,0.393,0.392,0.392,0.391,0.391,0.39,0.389,0.388,0.388,0.387,0.386,0.385,0.384,0.383,0.382,0.382,0.381,0.38,0.38,0.38,0.379,0.378,0.377,0.376,0.375,0.374,0.373,0.373,0.372,0.371,0.37,0.369,0.368,0.367,0.366,0.366,0.365,0.364,0.363,0.363,0.363,0.363,0.362,0.361,0.36,0.359,0.358,0.357,0.356,0.355,0.354,0.353,0.352,0.351,0.35,0.349,0.348,0.347,0.346,0.345,0.344,0.343,0.342,0.341,0.34,0.34,0.339,0.338,0.337,0.336,0.335,0.335,0.335,0.334,0.334,0.333,0.333,0.333,0.333,0.332,0.331,0.33,0.329,0.329,0.328,0.328,0.327,0.326,0.326,0.325,0.324,0.323,0.323,0.322,0.321,0.32,0.319,0.319,0.318,0.317,0.316,0.315,0.314,0.313,0.312,0.311,0.31,0.309,0.309,0.308,0.307,0.306,0.305,0.304,0.303,0.302,0.301,0.301,0.301,0.3,0.3,0.299,0.298,0.297,0.296,0.295,0.294,0.293,0.293,0.292,0.291,0.291,0.29,0.289,0.288,0.288,0.288,0.287,0.287,0.287,0.286,0.285,0.285,0.284,0.283,0.282,0.281,0.28,0.279,0.278,0.277,0.276,0.275,0.274,0.273,0.273,0.273,0.272,0.271,0.27,0.269,0.268,0.267,0.266,0.265,0.264,0.263,0.262,0.261,0.26,0.26,0.259,0.258,0.257,0.257,0.256,0.256,0.255,0.255,0.254,0.253,0.253,0.252,0.251,0.25,0.249,0.248,0.248,0.247,0.246,0.245,0.244,0.243,0.242,0.241,0.24,0.239,0.239,0.238,0.237,0.236,0.235,0.234,0.233,0.232,0.231,0.23,0.229,0.229,0.229,0.228,0.227,0.226,0.225,0.224,0.223,0.222,0.221,0.221,0.221,0.22,0.22,0.219,0.218,0.217,0.216,0.215,0.214,0.213,0.212,0.211,0.21,0.209,0.208,0.207,0.207,0.206,0.205,0.204,0.203,0.202,0.201,0.2,0.199,0.198,0.197,0.196,0.195,0.194,0.193,0.192,0.192,0.191,0.19,0.189,0.188,0.187,0.186,0.185,0.184,0.183,0.182,0.181,0.18,0.179,0.179,0.178,0.178,0.177,0.176,0.175,0.174,0.173,0.173,0.172,0.172,0.171,0.171,0.17,0.169,0.168,0.167,0.166,0.165,0.164,0.163,0.162,0.161,0.16,0.16,0.159,0.158,0.157,0.156,0.155,0.154,0.153,0.152,0.151,0.15,0.15,0.149,0.148,0.147,0.146,0.145,0.145,0.144,0.143,0.142,0.141,0.14,0.139,0.138,0.137,0.136,0.135,0.134,0.133,0.132,0.131,0.131,0.13,0.13,0.13,0.129,0.128,0.128,0.127,0.126,0.125,0.124,0.123,0.123,0.122,0.121,0.12,0.119,0.118,0.117,0.116,0.115,0.114,0.114,0.113,0.112,0.111,0.11,0.109,0.108,0.107,0.106,0.105,0.104,0.103,0.103,0.102,0.101,0.1,0.099,0.098,0.097,0.096,0.095,0.094,0.093,0.092,0.091,0.09,0.089,0.088,0.087,0.086,0.085,0.084,0.083,0.082,0.081,0.08,0.079,0.078,0.077,0.076,0.075,0.074,0.073,0.072,0.071,0.07,0.069,0.068,0.067,0.066,0.065,0.064,0.063,0.062,0.061,0.06,0.059,0.058,0.057,0.056,0.055,0.054,0.053,0.052,0.051,0.05,0.049,0.048,0.047,0.046,0.045,0.044,0.043,0.042,0.041,0.041,0.04,0.039,0.038,0.037,0.036,0.035,0.034,0.033,0.032,0.031,0.03,0.029,0.028,0.028,0.027,0.026,0.025,0.024,0.023,0.022,0.021,0.02,0.019,0.018,0.017,0.016,0.015,0.014,0.013,0.012,0.011,0.01,0.009,0.008,0.007,0.006,0.005,0.004,0.003,0.002,0.001,0],\"fY\":[0,0.001,0.002,0.003,0.004,0.005,0.006,0.007,0.008,0.009,0.01,0.011,0.012,0.013,0.014,0.015,0.016,0.017,0.018,0.019,0.02,0.021,0.022,0.023,0.024,0.025,0.026,0.027,0.028,0.029,0.03,0.031,0.032,0.033,0.034,0.035,0.036,0.037,0.038,0.039,0.04,0.041,0.042,0.043,0.044,0.045,0.046,0.047,0.047,0.048,0.049,0.05,0.051,0.052,0.053,0.054,0.055,0.056,0.057,0.058,0.059,0.06,0.061,0.062,0.063,0.064,0.065,0.065,0.066,0.067,0.068,0.069,0.07,0.071,0.072,0.073,0.074,0.075,0.076,0.077,0.078,0.079,0.08,0.081,0.082,0.083,0.084,0.085,0.086,0.087,0.088,0.089,0.09,0.091,0.092,0.093,0.094,0.095,0.096,0.097,0.098,0.099,0.1,0.101,0.102,0.103,0.104,0.105,0.106,0.107,0.108,0.109,0.109,0.11,0.111,0.112,0.113,0.114,0.115,0.116,0.117,0.118,0.119,0.119,0.12,0.12,0.121,0.122,0.123,0.124,0.125,0.125,0.126,0.127,0.128,0.128,0.129,0.13,0.131,0.132,0.133,0.134,0.135,0.135,0.136,0.137,0.138,0.139,0.14,0.141,0.142,0.142,0.143,0.144,0.145,0.146,0.147,0.147,0.147,0.148,0.149,0.15,0.151,0.152,0.152,0.153,0.154,0.155,0.156,0.157,0.158,0.159,0.16,0.16,0.16,0.161,0.161,0.162,0.163,0.164,0.165,0.166,0.167,0.168,0.169,0.17,0.171,0.172,0.173,0.174,0.175,0.176,0.177,0.178,0.179,0.18,0.181,0.181,0.182,0.183,0.184,0.185,0.186,0.187,0.188,0.189,0.19,0.19,0.191,0.192,0.193,0.194,0.195,0.196,0.197,0.198,0.199,0.2,0.201,0.201,0.201,0.202,0.203,0.204,0.205,0.206,0.207,0.208,0.209,0.21,0.21,0.211,0.212,0.213,0.213,0.214,0.215,0.216,0.217,0.218,0.219,0.22,0.221,0.221,0.221,0.222,0.222,0.223,0.224,0.225,0.225,0.226,0.227,0.228,0.229,0.23,0.231,0.231,0.232,0.233,0.234,0.235,0.236,0.237,0.238,0.238,0.239,0.24,0.241,0.241,0.242,0.243,0.244,0.245,0.246,0.247,0.248,0.248,0.249,0.25,0.251,0.252,0.253,0.254,0.255,0.255,0.256,0.257,0.257,0.257,0.257,0.257,0.258,0.259,0.259,0.259,0.26,0.26,0.261,0.262,0.263,0.264,0.265,0.266,0.267,0.268,0.269,0.27,0.27,0.271,0.272,0.273,0.274,0.275,0.276,0.277,0.278,0.278,0.279,0.28,0.281,0.282,0.283,0.284,0.285,0.286,0.287,0.288,0.289,0.289,0.29,0.291,0.292,0.293,0.293,0.294,0.295,0.295,0.296,0.297,0.298,0.299,0.3,0.301,0.301,0.301,0.302,0.302,0.302,0.303,0.304,0.305,0.306,0.307,0.308,0.309,0.31,0.31,0.311,0.312,0.313,0.314,0.315,0.316,0.316,0.317,0.318,0.319,0.319,0.319,0.32,0.321,0.322,0.323,0.323,0.324,0.325,0.326,0.326,0.327,0.327,0.327,0.328,0.329,0.329,0.33,0.331,0.332,0.333,0.334,0.334,0.335,0.336,0.337,0.338,0.338,0.339,0.34,0.341,0.342,0.343,0.343,0.344,0.345,0.346,0.346,0.347,0.348,0.348,0.349,0.35,0.351,0.352,0.353,0.354,0.355,0.356,0.357,0.358,0.358,0.359,0.359,0.36,0.361,0.362,0.362,0.363,0.364,0.365,0.366,0.367,0.368,0.368,0.369,0.37,0.37,0.371,0.372,0.373,0.374,0.374,0.375,0.376,0.376,0.376,0.377,0.378,0.379,0.38,0.381,0.381,0.382,0.383,0.384,0.385,0.386,0.386,0.387,0.388,0.389,0.39,0.391,0.392,0.393,0.394,0.395,0.396,0.396,0.396,0.396,0.396,0.396,0.396,0.397,0.397,0.398,0.399,0.4,0.401,0.402,0.402,0.402,0.403,0.404,0.405,0.406,0.406,0.407,0.408,0.408,0.409,0.409,0.41,0.411,0.412,0.413,0.414,0.415,0.416,0.417,0.418,0.419,0.42,0.421,0.422,0.423,0.423,0.424,0.425,0.425,0.426,0.427,0.428,0.428,0.429,0.43,0.431,0.431,0.432,0.432,0.433,0.434,0.435,0.435,0.436,0.437,0.438,0.439,0.44,0.44,0.441,0.442,0.443,0.444,0.445,0.445,0.446,0.446,0.447,0.448,0.448,0.449,0.45,0.451,0.451,0.451,0.452,0.452,0.453,0.453,0.454,0.455,0.456,0.457,0.457,0.457,0.457,0.458,0.459,0.46,0.461,0.462,0.463,0.464,0.464,0.465,0.466,0.467,0.467,0.468,0.469,0.469,0.47,0.471,0.472,0.473,0.474,0.475,0.476,0.476,0.476,0.477,0.478,0.479,0.48,0.481,0.482,0.482,0.483,0.484,0.485,0.486,0.487,0.488,0.489,0.489,0.49,0.491,0.491,0.492,0.493,0.493,0.493,0.493,0.494,0.494,0.495,0.495,0.495,0.496,0.496,0.496,0.497,0.497,0.498,0.499,0.5,0.501,0.502,0.502,0.502,0.502,0.502,0.503,0.504,0.505,0.506,0.507,0.507,0.508,0.509,0.51,0.511,0.511,0.512,0.513,0.514,0.515,0.516,0.517,0.518,0.518,0.519,0.52,0.52,0.521,0.522,0.522,0.523,0.524,0.525,0.526,0.527,0.527,0.528,0.528,0.529,0.53,0.53,0.53,0.531,0.532,0.533,0.534,0.535,0.536,0.537,0.537,0.537,0.537,0.538,0.539,0.54,0.541,0.542,0.543,0.544,0.545,0.546,0.546,0.546,0.546,0.546,0.546,0.547,0.548,0.548,0.549,0.55,0.551,0.552,0.552,0.553,0.554,0.555,0.555,0.556,0.557,0.557,0.558,0.559,0.56,0.561,0.562,0.562,0.563,0.563,0.563,0.564,0.564,0.565,0.565,0.565,0.565,0.565,0.565,0.566,0.566,0.567,0.568,0.569,0.57,0.571,0.572,0.572,0.573,0.574,0.575,0.575,0.575,0.576,0.576,0.577,0.578,0.579,0.579,0.579,0.58,0.58,0.581,0.582,0.582,0.583,0.584,0.585,0.586,0.586,0.587,0.588,0.589,0.59,0.59,0.59,0.59,0.59,0.591,0.592,0.592,0.592,0.592,0.593,0.593,0.593,0.593,0.593,0.593,0.594,0.595,0.596,0.597,0.597,0.598,0.599,0.6,0.601,0.602,0.603,0.604,0.605,0.605,0.606,0.607,0.607,0.607,0.607,0.607,0.608,0.609,0.61,0.611,0.612,0.612,0.612,0.612,0.613,0.614,0.615,0.615,0.616,0.617,0.618,0.619,0.619,0.62,0.62,0.621,0.621,0.621,0.622,0.622,0.622,0.622,0.622,0.622,0.622,0.623,0.623,0.624,0.625,0.625,0.626,0.627,0.628,0.628,0.629,0.629,0.63,0.631,0.632,0.633,0.633,0.634,0.634,0.635,0.636,0.636,0.637,0.638,0.639,0.639,0.639,0.64,0.641,0.642,0.643,0.644,0.644,0.644,0.644,0.645,0.645,0.645,0.645,0.646,0.647,0.648,0.649,0.649,0.649,0.65,0.65,0.65,0.65,0.65,0.651,0.652,0.653,0.654,0.655,0.656,0.656,0.657,0.658,0.659,0.66,0.661,0.662,0.662,0.662,0.662,0.662,0.663,0.663,0.664,0.664,0.665,0.666,0.667,0.667,0.667,0.668,0.669,0.67,0.671,0.672,0.672,0.673,0.673,0.674,0.674,0.675,0.676,0.677,0.677,0.678,0.679,0.68,0.681,0.681,0.682,0.683,0.684,0.685,0.685,0.685,0.685,0.686,0.687,0.688,0.688,0.688,0.688,0.689,0.69,0.69,0.69,0.69,0.691,0.691,0.692,0.693,0.693,0.693,0.694,0.694,0.694,0.694,0.694,0.694,0.695,0.696,0.697,0.698,0.699,0.699,0.699,0.699,0.699,0.7,0.7,0.7,0.701,0.702,0.703,0.704,0.704,0.704,0.705,0.706,0.707,0.708,0.708,0.708,0.709,0.71,0.711,0.712,0.712,0.712,0.713,0.714,0.714,0.715,0.715,0.715,0.715,0.715,0.715,0.715,0.715,0.715,0.716,0.716,0.717,0.718,0.719,0.719,0.72,0.721,0.721,0.721,0.722,0.723,0.723,0.723,0.723,0.723,0.724,0.724,0.725,0.725,0.726,0.727,0.728,0.728,0.728,0.728,0.728,0.729,0.729,0.73,0.731,0.732,0.732,0.733,0.734,0.734,0.735,0.735,0.735,0.735,0.736,0.736,0.737,0.737,0.738,0.739,0.739,0.739,0.74,0.741,0.742,0.742,0.742,0.742,0.743,0.743,0.743,0.743,0.743,0.744,0.744,0.744,0.745,0.745,0.745,0.745,0.746,0.747,0.748,0.748,0.749,0.749,0.749,0.749,0.749,0.749,0.749,0.75,0.75,0.75,0.75,0.75,0.75,0.75,0.751,0.752,0.753,0.753,0.753,0.754,0.755,0.755,0.756,0.757,0.758,0.759,0.759,0.76,0.76,0.76,0.76,0.761,0.761,0.761,0.761,0.761,0.761,0.761,0.762,0.763,0.764,0.764,0.764,0.765,0.766,0.767,0.767,0.768,0.768,0.769,0.769,0.77,0.771,0.771,0.771,0.772,0.772,0.773,0.773,0.773,0.774,0.774,0.775,0.775,0.776,0.776,0.776,0.777,0.777,0.778,0.778,0.778,0.778,0.778,0.779,0.78,0.78,0.78,0.781,0.781,0.781,0.781,0.781,0.781,0.781,0.782,0.783,0.783,0.784,0.784,0.784,0.784,0.784,0.785,0.785,0.786,0.787,0.788,0.788,0.788,0.789,0.79,0.79,0.791,0.792,0.792,0.793,0.794,0.794,0.794,0.794,0.794,0.794,0.795,0.796,0.797,0.797,0.797,0.798,0.799,0.799,0.799,0.799,0.8,0.8,0.8,0.8,0.801,0.801,0.802,0.803,0.804,0.804,0.804,0.804,0.805,0.806,0.807,0.807,0.807,0.808,0.809,0.809,0.81,0.81,0.81,0.81,0.811,0.811,0.811,0.812,0.812,0.812,0.812,0.813,0.813,0.813,0.813,0.813,0.814,0.814,0.815,0.815,0.815,0.815,0.815,0.815,0.815,0.816,0.816,0.816,0.817,0.818,0.818,0.819,0.82,0.82,0.821,0.822,0.822,0.822,0.822,0.823,0.823,0.824,0.824,0.824,0.824,0.825,0.826,0.826,0.826,0.826,0.826,0.826,0.827,0.827,0.827,0.828,0.829,0.829,0.829,0.83,0.831,0.831,0.831,0.831,0.831,0.831,0.831,0.832,0.833,0.833,0.834,0.835,0.835,0.836,0.836,0.837,0.838,0.839,0.84,0.841,0.842,0.843,0.844,0.844,0.844,0.844,0.844,0.844,0.845,0.846,0.846,0.846,0.846,0.846,0.846,0.846,0.846,0.846,0.846,0.846,0.847,0.848,0.848,0.848,0.848,0.848,0.849,0.85,0.85,0.85,0.85,0.851,0.851,0.851,0.851,0.851,0.852,0.853,0.853,0.853,0.853,0.853,0.853,0.853,0.854,0.854,0.854,0.855,0.855,0.856,0.857,0.857,0.858,0.858,0.858,0.858,0.858,0.859,0.859,0.859,0.86,0.861,0.861,0.861,0.861,0.861,0.861,0.861,0.861,0.862,0.862,0.863,0.863,0.864,0.865,0.865,0.865,0.865,0.865,0.865,0.866,0.866,0.866,0.866,0.867,0.868,0.868,0.868,0.868,0.868,0.868,0.869,0.869,0.87,0.87,0.87,0.87,0.87,0.87,0.871,0.872,0.872,0.872,0.872,0.873,0.873,0.874,0.875,0.875,0.875,0.875,0.876,0.876,0.877,0.877,0.878,0.879,0.88,0.88,0.88,0.881,0.881,0.882,0.883,0.883,0.883,0.883,0.883,0.883,0.883,0.883,0.884,0.884,0.884,0.885,0.886,0.887,0.888,0.888,0.888,0.888,0.889,0.889,0.89,0.89,0.891,0.891,0.891,0.891,0.891,0.891,0.892,0.893,0.894,0.895,0.896,0.896,0.897,0.897,0.897,0.897,0.897,0.897,0.897,0.897,0.898,0.898,0.899,0.9,0.9,0.901,0.901,0.901,0.902,0.902,0.902,0.902,0.903,0.903,0.903,0.903,0.903,0.904,0.904,0.904,0.904,0.904,0.904,0.905,0.906,0.906,0.906,0.907,0.908,0.908,0.909,0.909,0.91,0.91,0.911,0.911,0.911,0.912,0.912,0.913,0.913,0.914,0.914,0.914,0.915,0.915,0.916,0.916,0.916,0.917,0.917,0.917,0.918,0.918,0.918,0.919,0.919,0.919,0.92,0.921,0.921,0.922,0.923,0.923,0.924,0.924,0.924,0.925,0.925,0.925,0.925,0.925,0.926,0.926,0.926,0.927,0.927,0.927,0.927,0.927,0.927,0.928,0.928,0.928,0.928,0.928,0.928,0.928,0.928,0.929,0.929,0.93,0.93,0.93,0.93,0.931,0.931,0.931,0.931,0.932,0.932,0.933,0.933,0.934,0.934,0.935,0.935,0.935,0.935,0.936,0.936,0.936,0.936,0.936,0.936,0.936,0.937,0.937,0.937,0.938,0.939,0.939,0.939,0.939,0.939,0.939,0.939,0.939,0.94,0.94,0.94,0.94,0.94,0.94,0.94,0.94,0.941,0.941,0.941,0.941,0.942,0.943,0.944,0.944,0.944,0.944,0.944,0.944,0.944,0.944,0.944,0.944,0.944,0.944,0.944,0.944,0.944,0.944,0.944,0.944,0.944,0.944,0.944,0.944,0.944,0.944,0.945,0.945,0.945,0.945,0.945,0.945,0.946,0.947,0.947,0.948,0.948,0.949,0.95,0.951,0.951,0.951,0.951,0.951,0.952,0.952,0.953,0.953,0.953,0.954,0.954,0.954,0.954,0.955,0.955,0.955,0.955,0.955,0.956,0.956,0.956,0.956,0.956,0.956,0.956,0.956,0.956,0.956,0.956,0.957,0.957,0.957,0.957,0.957,0.957,0.957,0.957,0.957,0.958,0.959,0.959,0.96,0.96,0.96,0.96,0.96,0.96,0.96,0.96,0.961,0.961,0.961,0.962,0.962,0.962,0.962,0.963,0.964,0.964,0.965,0.966,0.966,0.966,0.967,0.967,0.967,0.967,0.967,0.967,0.967,0.967,0.967,0.967,0.967,0.967,0.967,0.968,0.969,0.969,0.969,0.969,0.969,0.969,0.969,0.969,0.969,0.969,0.969,0.969,0.969,0.969,0.97,0.97,0.97,0.97,0.971,0.971,0.972,0.972,0.973,0.973,0.973,0.974,0.974,0.974,0.974,0.974,0.974,0.975,0.975,0.975,0.975,0.975,0.975,0.975,0.975,0.975,0.975,0.976,0.976,0.976,0.976,0.976,0.976,0.976,0.976,0.976,0.976,0.976,0.977,0.978,0.978,0.978,0.978,0.978,0.978,0.978,0.978,0.978,0.979,0.98,0.98,0.981,0.981,0.981,0.981,0.981,0.981,0.981,0.981,0.981,0.981,0.981,0.981,0.981,0.981,0.982,0.982,0.982,0.982,0.982,0.982,0.982,0.982,0.982,0.982,0.982,0.982,0.982,0.982,0.982,0.982,0.983,0.983,0.983,0.983,0.983,0.983,0.983,0.983,0.983,0.983,0.983,0.983,0.983,0.983,0.984,0.984,0.985,0.985,0.985,0.985,0.985,0.985,0.986,0.986,0.987,0.987,0.988,0.988,0.988,0.988,0.988,0.988,0.988,0.988,0.988,0.988,0.988,0.988,0.989,0.989,0.989,0.989,0.989,0.989,0.989,0.989,0.989,0.989,0.989,0.99,0.99,0.99,0.99,0.99,0.99,0.991,0.991,0.991,0.991,0.991,0.991,0.991,0.991,0.991,0.991,0.991,0.991,0.991,0.991,0.991,0.992,0.992,0.993,0.994,0.994,0.994,0.995,0.995,0.995,0.995,0.995,0.995,0.996,0.996,0.996,0.996,0.996,0.996,0.996,0.996,0.996,0.996,0.997,0.997,0.997,0.997,0.997,0.997,0.997,0.997,0.997,0.997,0.997,0.997,0.998,0.998,0.998,0.998,0.998,0.998,0.998,0.998,0.998,0.998,0.998,0.998,0.998,0.998,0.998,0.998,0.998,0.998,0.998,0.998,0.998,0.998,0.998,0.998,0.998,0.998,0.998,0.998,0.998,0.998,0.998,0.998,0.998,0.998,0.998,0.998,0.998,0.998,0.998,0.998,0.998,0.998,0.998,0.998,0.998,0.998,0.998,0.998,0.998,0.998,0.998,0.998,0.998,0.998,0.998,0.998,0.998,0.998,0.998,0.998,0.998,0.998,0.998,0.999,0.999,0.999,0.999,0.999,0.999,0.999,0.999,0.999,0.999,0.999,0.999,0.999,0.999,1,1,1,1,1,1,1,1,1,1,1,1,1,1,1,1,1,1,1,1,1,1,1,1,1,1,1,1,1,1],\"fFunctions\":{\"_typename\":\"TList\",\"name\":\"TList\",\"arr\":[],\"opt\":[]},\"fHistogram\":{\"_typename\":\"TH1F\",\"fUniqueID\":0,\"fBits\":50332168,\"fName\":\"Graph\",\"fTitle\":\"BDT\",\"fLineColor\":602,\"fLineStyle\":1,\"fLineWidth\":1,\"fFillColor\":0,\"fFillStyle\":1001,\"fMarkerColor\":1,\"fMarkerStyle\":1,\"fMarkerSize\":1,\"fNcells\":2004,\"fXaxis\":{\"_typename\":\"TAxis\",\"fUniqueID\":0,\"fBits\":50331648,\"fName\":\"xaxis\",\"fTitle\":\"\",\"fNdivisions\":510,\"fAxisColor\":1,\"fLabelColor\":1,\"fLabelFont\":42,\"fLabelOffset\":0.005,\"fLabelSize\":0.035,\"fTickLength\":0.03,\"fTitleOffset\":1,\"fTitleSize\":0.035,\"fTitleColor\":1,\"fTitleFont\":42,\"fNbins\":2002,\"fXmin\":0,\"fXmax\":1.1,\"fXbins\":[],\"fFirst\":0,\"fLast\":0,\"fBits2\":0,\"fTimeDisplay\":false,\"fTimeFormat\":\"\",\"fLabels\":null,\"fModLabs\":null},\"fYaxis\":{\"_typename\":\"TAxis\",\"fUniqueID\":0,\"fBits\":50331648,\"fName\":\"yaxis\",\"fTitle\":\"\",\"fNdivisions\":510,\"fAxisColor\":1,\"fLabelColor\":1,\"fLabelFont\":42,\"fLabelOffset\":0.005,\"fLabelSize\":0.035,\"fTickLength\":0.03,\"fTitleOffset\":0,\"fTitleSize\":0.035,\"fTitleColor\":1,\"fTitleFont\":42,\"fNbins\":1,\"fXmin\":0,\"fXmax\":1.1,\"fXbins\":[],\"fFirst\":0,\"fLast\":0,\"fBits2\":0,\"fTimeDisplay\":false,\"fTimeFormat\":\"\",\"fLabels\":null,\"fModLabs\":null},\"fZaxis\":{\"_typename\":\"TAxis\",\"fUniqueID\":0,\"fBits\":50331648,\"fName\":\"zaxis\",\"fTitle\":\"\",\"fNdivisions\":510,\"fAxisColor\":1,\"fLabelColor\":1,\"fLabelFont\":42,\"fLabelOffset\":0.005,\"fLabelSize\":0.035,\"fTickLength\":0.03,\"fTitleOffset\":1,\"fTitleSize\":0.035,\"fTitleColor\":1,\"fTitleFont\":42,\"fNbins\":1,\"fXmin\":0,\"fXmax\":1,\"fXbins\":[],\"fFirst\":0,\"fLast\":0,\"fBits2\":0,\"fTimeDisplay\":false,\"fTimeFormat\":\"\",\"fLabels\":null,\"fModLabs\":null},\"fBarOffset\":0,\"fBarWidth\":1000,\"fEntries\":0,\"fTsumw\":0,\"fTsumw2\":0,\"fTsumwx\":0,\"fTsumwx2\":0,\"fMaximum\":1.1,\"fMinimum\":0,\"fNormFactor\":0,\"fContour\":[],\"fSumw2\":[],\"fOption\":\"\",\"fFunctions\":{\"_typename\":\"TList\",\"name\":\"TList\",\"arr\":[],\"opt\":[]},\"fBufferSize\":0,\"fBuffer\":[],\"fBinStatErrOpt\":0,\"fArray\":[0,0,0,0,0,0,0,0,0,0,0,0,0,0,0,0,0,0,0,0,0,0,0,0,0,0,0,0,0,0,0,0,0,0,0,0,0,0,0,0,0,0,0,0,0,0,0,0,0,0,0,0,0,0,0,0,0,0,0,0,0,0,0,0,0,0,0,0,0,0,0,0,0,0,0,0,0,0,0,0,0,0,0,0,0,0,0,0,0,0,0,0,0,0,0,0,0,0,0,0,0,0,0,0,0,0,0,0,0,0,0,0,0,0,0,0,0,0,0,0,0,0,0,0,0,0,0,0,0,0,0,0,0,0,0,0,0,0,0,0,0,0,0,0,0,0,0,0,0,0,0,0,0,0,0,0,0,0,0,0,0,0,0,0,0,0,0,0,0,0,0,0,0,0,0,0,0,0,0,0,0,0,0,0,0,0,0,0,0,0,0,0,0,0,0,0,0,0,0,0,0,0,0,0,0,0,0,0,0,0,0,0,0,0,0,0,0,0,0,0,0,0,0,0,0,0,0,0,0,0,0,0,0,0,0,0,0,0,0,0,0,0,0,0,0,0,0,0,0,0,0,0,0,0,0,0,0,0,0,0,0,0,0,0,0,0,0,0,0,0,0,0,0,0,0,0,0,0,0,0,0,0,0,0,0,0,0,0,0,0,0,0,0,0,0,0,0,0,0,0,0,0,0,0,0,0,0,0,0,0,0,0,0,0,0,0,0,0,0,0,0,0,0,0,0,0,0,0,0,0,0,0,0,0,0,0,0,0,0,0,0,0,0,0,0,0,0,0,0,0,0,0,0,0,0,0,0,0,0,0,0,0,0,0,0,0,0,0,0,0,0,0,0,0,0,0,0,0,0,0,0,0,0,0,0,0,0,0,0,0,0,0,0,0,0,0,0,0,0,0,0,0,0,0,0,0,0,0,0,0,0,0,0,0,0,0,0,0,0,0,0,0,0,0,0,0,0,0,0,0,0,0,0,0,0,0,0,0,0,0,0,0,0,0,0,0,0,0,0,0,0,0,0,0,0,0,0,0,0,0,0,0,0,0,0,0,0,0,0,0,0,0,0,0,0,0,0,0,0,0,0,0,0,0,0,0,0,0,0,0,0,0,0,0,0,0,0,0,0,0,0,0,0,0,0,0,0,0,0,0,0,0,0,0,0,0,0,0,0,0,0,0,0,0,0,0,0,0,0,0,0,0,0,0,0,0,0,0,0,0,0,0,0,0,0,0,0,0,0,0,0,0,0,0,0,0,0,0,0,0,0,0,0,0,0,0,0,0,0,0,0,0,0,0,0,0,0,0,0,0,0,0,0,0,0,0,0,0,0,0,0,0,0,0,0,0,0,0,0,0,0,0,0,0,0,0,0,0,0,0,0,0,0,0,0,0,0,0,0,0,0,0,0,0,0,0,0,0,0,0,0,0,0,0,0,0,0,0,0,0,0,0,0,0,0,0,0,0,0,0,0,0,0,0,0,0,0,0,0,0,0,0,0,0,0,0,0,0,0,0,0,0,0,0,0,0,0,0,0,0,0,0,0,0,0,0,0,0,0,0,0,0,0,0,0,0,0,0,0,0,0,0,0,0,0,0,0,0,0,0,0,0,0,0,0,0,0,0,0,0,0,0,0,0,0,0,0,0,0,0,0,0,0,0,0,0,0,0,0,0,0,0,0,0,0,0,0,0,0,0,0,0,0,0,0,0,0,0,0,0,0,0,0,0,0,0,0,0,0,0,0,0,0,0,0,0,0,0,0,0,0,0,0,0,0,0,0,0,0,0,0,0,0,0,0,0,0,0,0,0,0,0,0,0,0,0,0,0,0,0,0,0,0,0,0,0,0,0,0,0,0,0,0,0,0,0,0,0,0,0,0,0,0,0,0,0,0,0,0,0,0,0,0,0,0,0,0,0,0,0,0,0,0,0,0,0,0,0,0,0,0,0,0,0,0,0,0,0,0,0,0,0,0,0,0,0,0,0,0,0,0,0,0,0,0,0,0,0,0,0,0,0,0,0,0,0,0,0,0,0,0,0,0,0,0,0,0,0,0,0,0,0,0,0,0,0,0,0,0,0,0,0,0,0,0,0,0,0,0,0,0,0,0,0,0,0,0,0,0,0,0,0,0,0,0,0,0,0,0,0,0,0,0,0,0,0,0,0,0,0,0,0,0,0,0,0,0,0,0,0,0,0,0,0,0,0,0,0,0,0,0,0,0,0,0,0,0,0,0,0,0,0,0,0,0,0,0,0,0,0,0,0,0,0,0,0,0,0,0,0,0,0,0,0,0,0,0,0,0,0,0,0,0,0,0,0,0,0,0,0,0,0,0,0,0,0,0,0,0,0,0,0,0,0,0,0,0,0,0,0,0,0,0,0,0,0,0,0,0,0,0,0,0,0,0,0,0,0,0,0,0,0,0,0,0,0,0,0,0,0,0,0,0,0,0,0,0,0,0,0,0,0,0,0,0,0,0,0,0,0,0,0,0,0,0,0,0,0,0,0,0,0,0,0,0,0,0,0,0,0,0,0,0,0,0,0,0,0,0,0,0,0,0,0,0,0,0,0,0,0,0,0,0,0,0,0,0,0,0,0,0,0,0,0,0,0,0,0,0,0,0,0,0,0,0,0,0,0,0,0,0,0,0,0,0,0,0,0,0,0,0,0,0,0,0,0,0,0,0,0,0,0,0,0,0,0,0,0,0,0,0,0,0,0,0,0,0,0,0,0,0,0,0,0,0,0,0,0,0,0,0,0,0,0,0,0,0,0,0,0,0,0,0,0,0,0,0,0,0,0,0,0,0,0,0,0,0,0,0,0,0,0,0,0,0,0,0,0,0,0,0,0,0,0,0,0,0,0,0,0,0,0,0,0,0,0,0,0,0,0,0,0,0,0,0,0,0,0,0,0,0,0,0,0,0,0,0,0,0,0,0,0,0,0,0,0,0,0,0,0,0,0,0,0,0,0,0,0,0,0,0,0,0,0,0,0,0,0,0,0,0,0,0,0,0,0,0,0,0,0,0,0,0,0,0,0,0,0,0,0,0,0,0,0,0,0,0,0,0,0,0,0,0,0,0,0,0,0,0,0,0,0,0,0,0,0,0,0,0,0,0,0,0,0,0,0,0,0,0,0,0,0,0,0,0,0,0,0,0,0,0,0,0,0,0,0,0,0,0,0,0,0,0,0,0,0,0,0,0,0,0,0,0,0,0,0,0,0,0,0,0,0,0,0,0,0,0,0,0,0,0,0,0,0,0,0,0,0,0,0,0,0,0,0,0,0,0,0,0,0,0,0,0,0,0,0,0,0,0,0,0,0,0,0,0,0,0,0,0,0,0,0,0,0,0,0,0,0,0,0,0,0,0,0,0,0,0,0,0,0,0,0,0,0,0,0,0,0,0,0,0,0,0,0,0,0,0,0,0,0,0,0,0,0,0,0,0,0,0,0,0,0,0,0,0,0,0,0,0,0,0,0,0,0,0,0,0,0,0,0,0,0,0,0,0,0,0,0,0,0,0,0,0,0,0,0,0,0,0,0,0,0,0,0,0,0,0,0,0,0,0,0,0,0,0,0,0,0,0,0,0,0,0,0,0,0,0,0,0,0,0,0,0,0,0,0,0,0,0,0,0,0,0,0,0,0,0,0,0,0,0,0,0,0,0,0,0,0,0,0,0,0,0,0,0,0,0,0,0,0,0,0,0,0,0,0,0,0,0,0,0,0,0,0,0,0,0,0,0,0,0,0,0,0,0,0,0,0,0,0,0,0,0,0,0,0,0,0,0,0,0,0,0,0,0,0,0,0,0,0,0,0,0,0,0,0,0,0,0,0,0,0,0,0,0,0,0,0,0,0,0,0,0,0,0,0,0,0,0,0,0,0,0,0,0,0,0,0,0,0,0,0,0,0,0,0,0,0,0,0,0,0,0,0,0,0,0,0,0,0,0,0,0,0,0,0,0,0,0,0,0,0,0,0,0,0,0,0,0,0,0,0,0,0,0,0,0,0,0,0,0,0,0,0,0,0,0,0,0,0,0,0,0,0,0,0,0,0,0,0,0,0,0,0,0,0,0,0,0,0,0,0,0,0,0,0,0,0,0,0,0,0,0,0,0,0,0,0,0,0,0,0,0,0,0,0,0,0,0,0,0,0,0,0,0,0,0,0,0,0,0,0,0,0,0,0,0,0,0,0,0,0,0,0,0,0,0,0,0,0,0,0,0,0,0,0,0,0,0,0,0,0,0,0,0,0,0,0,0,0,0,0,0,0,0,0,0,0,0,0,0,0,0,0,0,0,0,0,0,0,0,0,0,0,0,0,0,0,0,0,0,0,0,0,0,0,0,0,0,0,0,0,0,0,0,0,0,0,0,0,0,0,0,0,0,0,0,0,0,0,0,0,0,0,0,0,0,0,0,0,0,0,0,0,0,0,0,0,0,0,0,0,0,0,0,0,0,0,0,0,0,0,0,0,0,0,0,0,0,0,0,0,0,0,0,0,0,0,0,0,0,0,0,0]},\"fMinimum\":-1111,\"fMaximum\":-1111}],\"opt\":[\"\"]},\"fFunctions\":null,\"fHistogram\":{\"_typename\":\"TH1F\",\"fUniqueID\":0,\"fBits\":50332168,\"fName\":\"\",\"fTitle\":\"Signal efficiency vs. Background rejection\",\"fLineColor\":602,\"fLineStyle\":1,\"fLineWidth\":1,\"fFillColor\":0,\"fFillStyle\":1001,\"fMarkerColor\":1,\"fMarkerStyle\":1,\"fMarkerSize\":1,\"fNcells\":2004,\"fXaxis\":{\"_typename\":\"TAxis\",\"fUniqueID\":0,\"fBits\":50331648,\"fName\":\"xaxis\",\"fTitle\":\"Signal efficiency (Sensitivity)\",\"fNdivisions\":510,\"fAxisColor\":1,\"fLabelColor\":1,\"fLabelFont\":42,\"fLabelOffset\":0.005,\"fLabelSize\":0.035,\"fTickLength\":0.03,\"fTitleOffset\":1,\"fTitleSize\":0.035,\"fTitleColor\":1,\"fTitleFont\":42,\"fNbins\":2002,\"fXmin\":-0.05,\"fXmax\":1.05,\"fXbins\":[],\"fFirst\":0,\"fLast\":0,\"fBits2\":0,\"fTimeDisplay\":false,\"fTimeFormat\":\"\",\"fLabels\":null,\"fModLabs\":null},\"fYaxis\":{\"_typename\":\"TAxis\",\"fUniqueID\":0,\"fBits\":50331648,\"fName\":\"yaxis\",\"fTitle\":\"Background rejection (Specificity)\",\"fNdivisions\":510,\"fAxisColor\":1,\"fLabelColor\":1,\"fLabelFont\":42,\"fLabelOffset\":0.005,\"fLabelSize\":0.035,\"fTickLength\":0.03,\"fTitleOffset\":0,\"fTitleSize\":0.035,\"fTitleColor\":1,\"fTitleFont\":42,\"fNbins\":1,\"fXmin\":0,\"fXmax\":1.05,\"fXbins\":[],\"fFirst\":0,\"fLast\":0,\"fBits2\":0,\"fTimeDisplay\":false,\"fTimeFormat\":\"\",\"fLabels\":null,\"fModLabs\":null},\"fZaxis\":{\"_typename\":\"TAxis\",\"fUniqueID\":0,\"fBits\":50331648,\"fName\":\"zaxis\",\"fTitle\":\"\",\"fNdivisions\":510,\"fAxisColor\":1,\"fLabelColor\":1,\"fLabelFont\":42,\"fLabelOffset\":0.005,\"fLabelSize\":0.035,\"fTickLength\":0.03,\"fTitleOffset\":1,\"fTitleSize\":0.035,\"fTitleColor\":1,\"fTitleFont\":42,\"fNbins\":1,\"fXmin\":0,\"fXmax\":1,\"fXbins\":[],\"fFirst\":0,\"fLast\":0,\"fBits2\":0,\"fTimeDisplay\":false,\"fTimeFormat\":\"\",\"fLabels\":null,\"fModLabs\":null},\"fBarOffset\":0,\"fBarWidth\":1000,\"fEntries\":0,\"fTsumw\":0,\"fTsumw2\":0,\"fTsumwx\":0,\"fTsumwx2\":0,\"fMaximum\":1.05,\"fMinimum\":0,\"fNormFactor\":0,\"fContour\":[],\"fSumw2\":[],\"fOption\":\"\",\"fFunctions\":{\"_typename\":\"TList\",\"name\":\"TList\",\"arr\":[],\"opt\":[]},\"fBufferSize\":0,\"fBuffer\":[],\"fBinStatErrOpt\":0,\"fArray\":[0,0,0,0,0,0,0,0,0,0,0,0,0,0,0,0,0,0,0,0,0,0,0,0,0,0,0,0,0,0,0,0,0,0,0,0,0,0,0,0,0,0,0,0,0,0,0,0,0,0,0,0,0,0,0,0,0,0,0,0,0,0,0,0,0,0,0,0,0,0,0,0,0,0,0,0,0,0,0,0,0,0,0,0,0,0,0,0,0,0,0,0,0,0,0,0,0,0,0,0,0,0,0,0,0,0,0,0,0,0,0,0,0,0,0,0,0,0,0,0,0,0,0,0,0,0,0,0,0,0,0,0,0,0,0,0,0,0,0,0,0,0,0,0,0,0,0,0,0,0,0,0,0,0,0,0,0,0,0,0,0,0,0,0,0,0,0,0,0,0,0,0,0,0,0,0,0,0,0,0,0,0,0,0,0,0,0,0,0,0,0,0,0,0,0,0,0,0,0,0,0,0,0,0,0,0,0,0,0,0,0,0,0,0,0,0,0,0,0,0,0,0,0,0,0,0,0,0,0,0,0,0,0,0,0,0,0,0,0,0,0,0,0,0,0,0,0,0,0,0,0,0,0,0,0,0,0,0,0,0,0,0,0,0,0,0,0,0,0,0,0,0,0,0,0,0,0,0,0,0,0,0,0,0,0,0,0,0,0,0,0,0,0,0,0,0,0,0,0,0,0,0,0,0,0,0,0,0,0,0,0,0,0,0,0,0,0,0,0,0,0,0,0,0,0,0,0,0,0,0,0,0,0,0,0,0,0,0,0,0,0,0,0,0,0,0,0,0,0,0,0,0,0,0,0,0,0,0,0,0,0,0,0,0,0,0,0,0,0,0,0,0,0,0,0,0,0,0,0,0,0,0,0,0,0,0,0,0,0,0,0,0,0,0,0,0,0,0,0,0,0,0,0,0,0,0,0,0,0,0,0,0,0,0,0,0,0,0,0,0,0,0,0,0,0,0,0,0,0,0,0,0,0,0,0,0,0,0,0,0,0,0,0,0,0,0,0,0,0,0,0,0,0,0,0,0,0,0,0,0,0,0,0,0,0,0,0,0,0,0,0,0,0,0,0,0,0,0,0,0,0,0,0,0,0,0,0,0,0,0,0,0,0,0,0,0,0,0,0,0,0,0,0,0,0,0,0,0,0,0,0,0,0,0,0,0,0,0,0,0,0,0,0,0,0,0,0,0,0,0,0,0,0,0,0,0,0,0,0,0,0,0,0,0,0,0,0,0,0,0,0,0,0,0,0,0,0,0,0,0,0,0,0,0,0,0,0,0,0,0,0,0,0,0,0,0,0,0,0,0,0,0,0,0,0,0,0,0,0,0,0,0,0,0,0,0,0,0,0,0,0,0,0,0,0,0,0,0,0,0,0,0,0,0,0,0,0,0,0,0,0,0,0,0,0,0,0,0,0,0,0,0,0,0,0,0,0,0,0,0,0,0,0,0,0,0,0,0,0,0,0,0,0,0,0,0,0,0,0,0,0,0,0,0,0,0,0,0,0,0,0,0,0,0,0,0,0,0,0,0,0,0,0,0,0,0,0,0,0,0,0,0,0,0,0,0,0,0,0,0,0,0,0,0,0,0,0,0,0,0,0,0,0,0,0,0,0,0,0,0,0,0,0,0,0,0,0,0,0,0,0,0,0,0,0,0,0,0,0,0,0,0,0,0,0,0,0,0,0,0,0,0,0,0,0,0,0,0,0,0,0,0,0,0,0,0,0,0,0,0,0,0,0,0,0,0,0,0,0,0,0,0,0,0,0,0,0,0,0,0,0,0,0,0,0,0,0,0,0,0,0,0,0,0,0,0,0,0,0,0,0,0,0,0,0,0,0,0,0,0,0,0,0,0,0,0,0,0,0,0,0,0,0,0,0,0,0,0,0,0,0,0,0,0,0,0,0,0,0,0,0,0,0,0,0,0,0,0,0,0,0,0,0,0,0,0,0,0,0,0,0,0,0,0,0,0,0,0,0,0,0,0,0,0,0,0,0,0,0,0,0,0,0,0,0,0,0,0,0,0,0,0,0,0,0,0,0,0,0,0,0,0,0,0,0,0,0,0,0,0,0,0,0,0,0,0,0,0,0,0,0,0,0,0,0,0,0,0,0,0,0,0,0,0,0,0,0,0,0,0,0,0,0,0,0,0,0,0,0,0,0,0,0,0,0,0,0,0,0,0,0,0,0,0,0,0,0,0,0,0,0,0,0,0,0,0,0,0,0,0,0,0,0,0,0,0,0,0,0,0,0,0,0,0,0,0,0,0,0,0,0,0,0,0,0,0,0,0,0,0,0,0,0,0,0,0,0,0,0,0,0,0,0,0,0,0,0,0,0,0,0,0,0,0,0,0,0,0,0,0,0,0,0,0,0,0,0,0,0,0,0,0,0,0,0,0,0,0,0,0,0,0,0,0,0,0,0,0,0,0,0,0,0,0,0,0,0,0,0,0,0,0,0,0,0,0,0,0,0,0,0,0,0,0,0,0,0,0,0,0,0,0,0,0,0,0,0,0,0,0,0,0,0,0,0,0,0,0,0,0,0,0,0,0,0,0,0,0,0,0,0,0,0,0,0,0,0,0,0,0,0,0,0,0,0,0,0,0,0,0,0,0,0,0,0,0,0,0,0,0,0,0,0,0,0,0,0,0,0,0,0,0,0,0,0,0,0,0,0,0,0,0,0,0,0,0,0,0,0,0,0,0,0,0,0,0,0,0,0,0,0,0,0,0,0,0,0,0,0,0,0,0,0,0,0,0,0,0,0,0,0,0,0,0,0,0,0,0,0,0,0,0,0,0,0,0,0,0,0,0,0,0,0,0,0,0,0,0,0,0,0,0,0,0,0,0,0,0,0,0,0,0,0,0,0,0,0,0,0,0,0,0,0,0,0,0,0,0,0,0,0,0,0,0,0,0,0,0,0,0,0,0,0,0,0,0,0,0,0,0,0,0,0,0,0,0,0,0,0,0,0,0,0,0,0,0,0,0,0,0,0,0,0,0,0,0,0,0,0,0,0,0,0,0,0,0,0,0,0,0,0,0,0,0,0,0,0,0,0,0,0,0,0,0,0,0,0,0,0,0,0,0,0,0,0,0,0,0,0,0,0,0,0,0,0,0,0,0,0,0,0,0,0,0,0,0,0,0,0,0,0,0,0,0,0,0,0,0,0,0,0,0,0,0,0,0,0,0,0,0,0,0,0,0,0,0,0,0,0,0,0,0,0,0,0,0,0,0,0,0,0,0,0,0,0,0,0,0,0,0,0,0,0,0,0,0,0,0,0,0,0,0,0,0,0,0,0,0,0,0,0,0,0,0,0,0,0,0,0,0,0,0,0,0,0,0,0,0,0,0,0,0,0,0,0,0,0,0,0,0,0,0,0,0,0,0,0,0,0,0,0,0,0,0,0,0,0,0,0,0,0,0,0,0,0,0,0,0,0,0,0,0,0,0,0,0,0,0,0,0,0,0,0,0,0,0,0,0,0,0,0,0,0,0,0,0,0,0,0,0,0,0,0,0,0,0,0,0,0,0,0,0,0,0,0,0,0,0,0,0,0,0,0,0,0,0,0,0,0,0,0,0,0,0,0,0,0,0,0,0,0,0,0,0,0,0,0,0,0,0,0,0,0,0,0,0,0,0,0,0,0,0,0,0,0,0,0,0,0,0,0,0,0,0,0,0,0,0,0,0,0,0,0,0,0,0,0,0,0,0,0,0,0,0,0,0,0,0,0,0,0,0,0,0,0,0,0,0,0,0,0,0,0,0,0,0,0,0,0,0,0,0,0,0,0,0,0,0,0,0,0,0,0,0,0,0,0,0,0,0,0,0,0,0,0,0,0,0,0,0,0,0,0,0,0,0,0,0,0,0,0,0,0,0,0,0,0,0,0,0,0,0,0,0,0,0,0,0,0,0,0,0,0,0,0,0,0,0,0,0,0,0,0,0,0,0,0,0,0,0,0,0,0,0,0,0,0,0,0,0,0,0,0,0,0,0,0,0,0,0,0,0,0,0,0,0,0,0,0,0,0,0,0,0,0,0,0,0,0,0,0,0,0,0,0,0,0,0,0,0,0,0,0,0,0,0,0,0,0,0,0,0,0,0,0,0,0,0,0,0,0,0,0,0,0,0,0,0,0,0,0,0,0,0,0,0,0,0,0,0,0,0,0,0,0,0,0,0,0,0,0,0,0,0,0,0,0,0,0,0,0,0,0,0,0,0,0,0,0,0,0,0,0,0,0,0,0,0,0,0,0,0,0,0,0,0,0,0,0,0,0,0,0,0,0,0,0,0,0,0,0,0,0,0,0,0,0,0,0,0,0,0,0,0,0,0,0,0,0,0,0,0,0,0,0,0,0,0,0,0,0,0,0,0,0,0,0,0,0,0,0,0,0,0,0,0,0,0,0,0,0,0,0,0,0,0,0,0,0,0,0,0,0,0,0,0,0,0,0,0,0,0,0,0,0,0,0,0,0,0,0,0,0,0,0,0,0,0,0,0,0,0,0,0]},\"fMaximum\":-1111,\"fMinimum\":-1111},{\"_typename\":\"TLegend\",\"fUniqueID\":0,\"fBits\":50331656,\"fLineColor\":1,\"fLineStyle\":1,\"fLineWidth\":1,\"fFillColor\":0,\"fFillStyle\":1001,\"fX1\":0.0187499928288158,\"fY1\":0.0656249931547787,\"fX2\":0.293749996926635,\"fY2\":0.262499996088445,\"fX1NDC\":0.15,\"fY1NDC\":0.15,\"fX2NDC\":0.35,\"fY2NDC\":0.3,\"fBorderSize\":1,\"fInit\":1,\"fShadowColor\":1,\"fCornerRadius\":0,\"fOption\":\"brNDC\",\"fName\":\"TPave\",\"fTextAngle\":0,\"fTextSize\":0,\"fTextAlign\":12,\"fTextColor\":1,\"fTextFont\":42,\"fPrimitives\":{\"_typename\":\"TList\",\"name\":\"TList\",\"arr\":[{\"_typename\":\"TLegendEntry\",\"fUniqueID\":0,\"fBits\":50331648,\"fTextAngle\":0,\"fTextSize\":0,\"fTextAlign\":0,\"fTextColor\":0,\"fTextFont\":42,\"fLineColor\":1,\"fLineStyle\":1,\"fLineWidth\":1,\"fFillColor\":0,\"fFillStyle\":0,\"fMarkerColor\":1,\"fMarkerStyle\":21,\"fMarkerSize\":1,\"fObject\":null,\"fLabel\":\"MVA Method\",\"fOption\":\"h\"},{\"_typename\":\"TLegendEntry\",\"fUniqueID\":0,\"fBits\":50331648,\"fTextAngle\":0,\"fTextSize\":0,\"fTextAlign\":0,\"fTextColor\":0,\"fTextFont\":42,\"fLineColor\":1,\"fLineStyle\":1,\"fLineWidth\":2,\"fFillColor\":10,\"fFillStyle\":1000,\"fMarkerColor\":1,\"fMarkerStyle\":1,\"fMarkerSize\":1,\"fObject\":{\"$ref\":5},\"fLabel\":\"BDT\",\"fOption\":\"lpf\"}],\"opt\":[\"h\",\"lpf\"]},\"fEntrySeparation\":0.1,\"fMargin\":0.25,\"fNColumns\":1,\"fColumnSeparation\":0},{\"_typename\":\"TPaveText\",\"fUniqueID\":0,\"fBits\":50331657,\"fLineColor\":1,\"fLineStyle\":1,\"fLineWidth\":1,\"fFillColor\":0,\"fFillStyle\":0,\"fX1\":0.0187499928288158,\"fY1\":1.09460276898352,\"fX2\":0.981250007171184,\"fY2\":1.17468751593959,\"fX1NDC\":0.15,\"fY1NDC\":0.933983055615829,\"fX2NDC\":0.85,\"fY2NDC\":0.995000004768372,\"fBorderSize\":0,\"fInit\":1,\"fShadowColor\":1,\"fCornerRadius\":0,\"fOption\":\"blNDC\",\"fName\":\"title\",\"fTextAngle\":0,\"fTextSize\":0,\"fTextAlign\":22,\"fTextColor\":1,\"fTextFont\":42,\"fLabel\":\"\",\"fLongest\":42,\"fMargin\":0.05,\"fLines\":{\"_typename\":\"TList\",\"name\":\"TList\",\"arr\":[{\"_typename\":\"TLatex\",\"fUniqueID\":0,\"fBits\":50331648,\"fName\":\"\",\"fTitle\":\"Signal efficiency vs. Background rejection\",\"fTextAngle\":0,\"fTextSize\":0,\"fTextAlign\":0,\"fTextColor\":0,\"fTextFont\":0,\"fX\":0,\"fY\":0,\"fLineColor\":1,\"fLineStyle\":1,\"fLineWidth\":2,\"fLimitFactorSize\":3,\"fOriginSize\":0.0518644079566002}],\"opt\":[\"\"]}}],\"opt\":[\"\",\"AL\",\"\",\"blNDC\"]},\"fExecs\":null,\"fName\":\"ROCCurve dataset class 0\",\"fTitle\":\"ROC Curve\",\"fNumPaletteColor\":0,\"fNextPaletteColor\":0,\"fDISPLAY\":\"$DISPLAY\",\"fDoubleBuffer\":0,\"fRetained\":true,\"fXsizeUser\":0,\"fYsizeUser\":0,\"fXsizeReal\":20,\"fYsizeReal\":14.28571,\"fWindowTopX\":0,\"fWindowTopY\":0,\"fWindowWidth\":0,\"fWindowHeight\":0,\"fCw\":696,\"fCh\":472,\"fCatt\":{\"_typename\":\"TAttCanvas\",\"fXBetween\":2,\"fYBetween\":2,\"fTitleFromTop\":1.2,\"fXdate\":0.2,\"fYdate\":0.3,\"fAdate\":1},\"kMoveOpaque\":true,\"kResizeOpaque\":true,\"fHighLightColor\":2,\"fBatch\":true,\"kShowEventStatus\":false,\"kAutoExec\":true,\"kMenuBar\":true});\n",
       "       Core.draw(\"root_plot_1\", obj, \"\");\n",
       "     }\n",
       " );\n",
       "</script>\n"
      ],
      "text/plain": [
       "<IPython.core.display.HTML object>"
      ]
     },
     "metadata": {},
     "output_type": "display_data"
    }
   ],
   "source": [
    "%jsroot on\n",
    "c1 = factory.GetROCCurve(loader);\n",
    "c1.Draw();"
   ]
  },
  {
   "cell_type": "code",
   "execution_count": null,
   "metadata": {},
   "outputs": [],
   "source": []
  }
 ],
 "metadata": {
  "kernelspec": {
   "display_name": "Python 2",
   "language": "python",
   "name": "python2"
  },
  "language_info": {
   "codemirror_mode": {
    "name": "ipython",
    "version": 2
   },
   "file_extension": ".py",
   "mimetype": "text/x-python",
   "name": "python",
   "nbconvert_exporter": "python",
   "pygments_lexer": "ipython2",
   "version": "2.7.12"
  }
 },
 "nbformat": 4,
 "nbformat_minor": 1
}
