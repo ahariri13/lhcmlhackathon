{
  "nbformat": 4,
  "nbformat_minor": 0,
  "metadata": {
    "colab": {
      "name": "lhchackathon_higgs.ipynb",
      "provenance": [],
      "collapsed_sections": []
    },
    "kernelspec": {
      "name": "python3",
      "display_name": "Python 3"
    },
    "accelerator": "GPU"
  },
  "cells": [
    {
      "cell_type": "markdown",
      "metadata": {
        "id": "LzK7JiSZ_MtX"
      },
      "source": [
        "**This is an example Notebook for running training on Higgs vs background signal classification. **"
      ]
    },
    {
      "cell_type": "markdown",
      "metadata": {
        "id": "T4kV4R6SDR8X"
      },
      "source": [
        "**Background:** High-energy collisions at the Large Hadron Collider (LHC) produce particles that interact with particle detectors. One important task is to classify different types of collisions based on their physics content, allowing physicists to find patterns in the data and to potentially unravel new discoveries. "
      ]
    },
    {
      "cell_type": "markdown",
      "metadata": {
        "id": "fHw_uCCcHJqn"
      },
      "source": [
        "**Problem statement:** The discovery of the Higgs boson by CMS and ATLAS Collaborations was announced at CERN in 2012. In this work, we focus on the potential of Machine Learning and Deep Learning in detecting potential Higgs signal from one of the background processes that mimics it. "
      ]
    },
    {
      "cell_type": "markdown",
      "metadata": {
        "id": "qAJnE-4uANmP"
      },
      "source": [
        "**Dataset:** The dataset is made available by the Center for Machine Learning and Intelligent Systems at University of California, Irvine. \n",
        "The dataset can be found on the [UCI Machine learning Repository](https://archive.ics.uci.edu/ml/datasets/HIGGS)"
      ]
    },
    {
      "cell_type": "markdown",
      "metadata": {
        "id": "5u1kJGUdAZ9m"
      },
      "source": [
        "**Description:** The dataset consists of a total of 11 million labeled samples of Higgs vs background events produced by Monte Carlo simulations. Each sample consists of 28 features. The first 21 features are kinematic properties measured at the level of the detectors. The last seven are functions of the first 21.\n",
        "\n",
        "\n"
      ]
    },
    {
      "cell_type": "markdown",
      "metadata": {
        "id": "myu16dmzSBmo"
      },
      "source": [
        "**Steps to load the training dataset**"
      ]
    },
    {
      "cell_type": "markdown",
      "metadata": {
        "id": "Rib9o4gRSVyq"
      },
      "source": [
        "1.Training data cab be dowloaded from the following publicly shared [google drive link](https://drive.google.com/drive/folders/1I9JqzSD3LtC0IHzqeP_PrBtuNpR3yxML?usp=sharing)\n",
        "\n",
        "\n",
        "2.Right-click on the folder and select \"Add shortcut to Drive\". This will create a copy of the training file on your Google Drive directory. \n",
        "\n",
        "The name of the file is \"higgs_train_data.csv\". \n",
        "\n",
        "3.Go to your drive directory or any directory in which you have saved the training file using the command in the cell below"
      ]
    },
    {
      "cell_type": "markdown",
      "metadata": {
        "id": "Ao2GaxghCDti"
      },
      "source": [
        "**Connecting to the drive: **\n",
        "\n",
        "Click on the folder icon present on the leftmost part of the colab page.\n",
        "\n",
        "\n",
        "\n",
        "1.   Click on the folder icon present on the leftmost part of the colab page.\n",
        "2.   Click the on 'Moun Drive' icon (folder with the triangle inside). \n",
        "3.   A cell will appear prompting you to mount the drive (The cell below this text). Run it, click on the link that appears, copy the code in the page and paste it as authorization code. \n"
      ]
    },
    {
      "cell_type": "code",
      "metadata": {
        "id": "LTicAXkJ7rmj"
      },
      "source": [
        "from google.colab import drive\n",
        "drive.mount('/content/drive')"
      ],
      "execution_count": null,
      "outputs": []
    },
    {
      "cell_type": "code",
      "metadata": {
        "id": "shKck1xF5QGy"
      },
      "source": [
        "cd drive/My\\ Drive"
      ],
      "execution_count": null,
      "outputs": []
    },
    {
      "cell_type": "code",
      "metadata": {
        "id": "MLREBn86VD5H"
      },
      "source": [
        "from sklearn.datasets import make_gaussian_quantiles\n",
        "from sklearn.ensemble import AdaBoostClassifier\n",
        "from sklearn.metrics import accuracy_score\n",
        "from sklearn.tree import DecisionTreeClassifier\n",
        "from sklearn.metrics import confusion_matrix"
      ],
      "execution_count": null,
      "outputs": []
    },
    {
      "cell_type": "code",
      "metadata": {
        "id": "MUE2QepFVwEq"
      },
      "source": [
        "from sklearn.model_selection import train_test_split\n",
        "import pandas as pd\n",
        "import numpy as np"
      ],
      "execution_count": null,
      "outputs": []
    },
    {
      "cell_type": "code",
      "metadata": {
        "id": "8H-i4o9RWNED"
      },
      "source": [
        "import numpy as np\n",
        "np.random.seed(1337)  # for reproducibility\n",
        "import h5py\n",
        "from keras.models import Sequential\n",
        "from keras.optimizers import Adam\n",
        "from keras.initializers import TruncatedNormal\n",
        "from keras.layers import Input, Dense, Dropout, Flatten, Conv2D, MaxPooling2D\n",
        "from keras.callbacks import ReduceLROnPlateau\n",
        "\n",
        "from sklearn.metrics import roc_curve, auc\n",
        "\n",
        "import matplotlib.pyplot as plt"
      ],
      "execution_count": null,
      "outputs": []
    },
    {
      "cell_type": "markdown",
      "metadata": {
        "id": "4GDeVfB04Qe4"
      },
      "source": [
        "**Load the file using pandas library**"
      ]
    },
    {
      "cell_type": "code",
      "metadata": {
        "id": "Jxfnd8shK0vq"
      },
      "source": [
        "data=pd.read_csv('./higgs_train_data.csv')"
      ],
      "execution_count": null,
      "outputs": []
    },
    {
      "cell_type": "markdown",
      "metadata": {
        "id": "ZTnbxdjkUp73"
      },
      "source": [
        "Assign first column 0 to class labels (labeled 1 for signal, 0 for background)  and all others to feature matrix X.\n",
        "\n",
        "In this example, for the sake of fast checking, we use 1000 samples. To train on the entire dataset, proceed with uncommenting the lines below. "
      ]
    },
    {
      "cell_type": "code",
      "metadata": {
        "id": "hoRPhH9dNmCy"
      },
      "source": [
        "X=data.iloc[:1000,1:]#data.iloc[:,1:]\n",
        "y=data.iloc[:1000,0]#data.iloc[:,0]"
      ],
      "execution_count": null,
      "outputs": []
    },
    {
      "cell_type": "markdown",
      "metadata": {
        "id": "hQX3GUrVUe7N"
      },
      "source": [
        "Split your data into training and validation samples where the fraction of the data used for validation is 33%. "
      ]
    },
    {
      "cell_type": "code",
      "metadata": {
        "id": "50-8I-fj8jC7"
      },
      "source": [
        "X_train1, X_val, y_train1, y_val = train_test_split(X, y, test_size=0.33, random_state=42)\n",
        "X_train, X_test, y_train, y_test = train_test_split(X_train1, y_train1, test_size=0.33, random_state=42)"
      ],
      "execution_count": null,
      "outputs": []
    },
    {
      "cell_type": "markdown",
      "metadata": {
        "id": "PexwSVQ34M_l"
      },
      "source": [
        "**Visualize your data - One histogram per feature column**"
      ]
    },
    {
      "cell_type": "markdown",
      "metadata": {
        "id": "d8UNRLc-5VPM"
      },
      "source": [
        "Detailed information on what each feature column is can be found in *Attribute Information* section on the [UCI Machine learning Repositery](https://archive.ics.uci.edu/ml/datasets/HIGGS). For further information, refer to the [paper](https://www.nature.com/articles/ncomms5308) by Baldi et. al "
      ]
    },
    {
      "cell_type": "code",
      "metadata": {
        "id": "5BA9_Q-_B-8A"
      },
      "source": [
        "from itertools import combinations\n",
        "import matplotlib.pyplot as plt\n",
        "\n",
        "fig, axes = plt.subplots(len(X_train.columns)//3, 3, figsize=(12, 48))\n",
        "\n",
        "i = 0\n",
        "for triaxis in axes:\n",
        "    for axis in triaxis:\n",
        "        X_train.hist(column = X_train.columns[i], bins = 100, ax=axis)\n",
        "        i = i+1"
      ],
      "execution_count": null,
      "outputs": []
    },
    {
      "cell_type": "markdown",
      "metadata": {
        "id": "pDoiz5yl3aUf"
      },
      "source": [
        "**Setup the BDT model**"
      ]
    },
    {
      "cell_type": "code",
      "metadata": {
        "id": "tWBkXGr-aBuT"
      },
      "source": [
        "classifier = AdaBoostClassifier(\n",
        "    DecisionTreeClassifier(max_depth=1),\n",
        "    n_estimators=200\n",
        ")"
      ],
      "execution_count": null,
      "outputs": []
    },
    {
      "cell_type": "markdown",
      "metadata": {
        "id": "szVdBJ2S34bW"
      },
      "source": [
        "**Train the BDT model**"
      ]
    },
    {
      "cell_type": "code",
      "metadata": {
        "id": "9B6CsEgpQru4"
      },
      "source": [
        "from sklearn.ensemble import AdaBoostClassifier\n",
        "from sklearn.tree import DecisionTreeClassifier\n",
        "from sklearn.datasets import load_breast_cancer\n",
        "import pandas as pd\n",
        "import numpy as np\n",
        "from sklearn.model_selection import train_test_split\n",
        "from sklearn.metrics import confusion_matrix\n",
        "from sklearn.preprocessing import LabelEncoder"
      ],
      "execution_count": null,
      "outputs": []
    },
    {
      "cell_type": "code",
      "metadata": {
        "id": "hlpgeOOR32zL"
      },
      "source": [
        "classifier.fit(X, y)"
      ],
      "execution_count": null,
      "outputs": []
    },
    {
      "cell_type": "markdown",
      "metadata": {
        "id": "DBJaFEoGApL5"
      },
      "source": [
        "**Predict on new testing data**"
      ]
    },
    {
      "cell_type": "code",
      "metadata": {
        "id": "UsRbhfAPQgEl"
      },
      "source": [
        "predictions = classifier.predict(X_test)"
      ],
      "execution_count": null,
      "outputs": []
    },
    {
      "cell_type": "markdown",
      "metadata": {
        "id": "pYMnGKVGAeM2"
      },
      "source": [
        "**Print confusion matrix which describes the performance of the model classification by displaying the number of True Positives, True Negatives, False Positives and False Negatives. More info on [Wikipedia](https://en.wikipedia.org/wiki/Confusion_matrix)**"
      ]
    },
    {
      "cell_type": "code",
      "metadata": {
        "id": "NREs3cPOQo4V"
      },
      "source": [
        "confusion_matrix(y, predictions)"
      ],
      "execution_count": null,
      "outputs": []
    },
    {
      "cell_type": "markdown",
      "metadata": {
        "id": "ULHd0Oto3om9"
      },
      "source": [
        "**Setup the Neural Network**"
      ]
    },
    {
      "cell_type": "code",
      "metadata": {
        "id": "k_I4kazT3_3c"
      },
      "source": [
        "from numpy import loadtxt\n",
        "from keras.models import Sequential\n",
        "from keras.layers import Dense"
      ],
      "execution_count": null,
      "outputs": []
    },
    {
      "cell_type": "code",
      "metadata": {
        "id": "2rcPG-UX3kkq"
      },
      "source": [
        "model_nn = Sequential()\n",
        "model_nn.add(Dense(28, input_dim=28, activation='relu'))\n",
        "model_nn.add(Dense(8, activation='relu'))\n",
        "model_nn.add(Dense(1, activation='sigmoid'))"
      ],
      "execution_count": null,
      "outputs": []
    },
    {
      "cell_type": "markdown",
      "metadata": {
        "id": "udhrPh3c4JoT"
      },
      "source": [
        "**Train the Neural Network and save your model weights in a h5 file**"
      ]
    },
    {
      "cell_type": "code",
      "metadata": {
        "id": "gDEm75CK3-TT",
        "outputId": "b6d1d89b-0203-495a-a4d2-1ca5953c2c0d",
        "colab": {
          "base_uri": "https://localhost:8080/",
          "height": 221
        }
      },
      "source": [
        "# compile the keras model\n",
        "model_nn.compile(loss='binary_crossentropy', optimizer='adam', metrics=['accuracy'])\n",
        "# fit the keras model on the dataset\n",
        "history=model_nn.fit(X, y,validation_data=(X_val,y_val),epochs=5, batch_size=10)\n",
        "# evaluate the keras model\n",
        "_, accuracy = model_nn.evaluate(X, y)\n",
        "model_nn.save('my_model.h5') ##Saving model weights\n",
        "print('Accuracy: %.2f' % (accuracy*100))"
      ],
      "execution_count": null,
      "outputs": [
        {
          "output_type": "stream",
          "text": [
            "Epoch 1/5\n",
            "100/100 [==============================] - 0s 4ms/step - loss: 0.6288 - accuracy: 0.6620 - val_loss: 0.6273 - val_accuracy: 0.6727\n",
            "Epoch 2/5\n",
            "100/100 [==============================] - 0s 3ms/step - loss: 0.6190 - accuracy: 0.6720 - val_loss: 0.6224 - val_accuracy: 0.6606\n",
            "Epoch 3/5\n",
            "100/100 [==============================] - 0s 2ms/step - loss: 0.6094 - accuracy: 0.6950 - val_loss: 0.6143 - val_accuracy: 0.6788\n",
            "Epoch 4/5\n",
            "100/100 [==============================] - 0s 2ms/step - loss: 0.6018 - accuracy: 0.6960 - val_loss: 0.6066 - val_accuracy: 0.6667\n",
            "Epoch 5/5\n",
            "100/100 [==============================] - 0s 2ms/step - loss: 0.5935 - accuracy: 0.6990 - val_loss: 0.5940 - val_accuracy: 0.7121\n",
            "32/32 [==============================] - 0s 2ms/step - loss: 0.5796 - accuracy: 0.7140\n",
            "Accuracy: 71.40\n"
          ],
          "name": "stdout"
        }
      ]
    },
    {
      "cell_type": "code",
      "metadata": {
        "id": "2rVEZ6oj_Km9",
        "outputId": "df0de33e-728d-4cd8-8e75-eaa1ff7d18cd",
        "colab": {
          "base_uri": "https://localhost:8080/",
          "height": 34
        }
      },
      "source": [
        "# list all data in history\n",
        "print(history.history.keys())"
      ],
      "execution_count": null,
      "outputs": [
        {
          "output_type": "stream",
          "text": [
            "dict_keys(['loss', 'accuracy', 'val_loss', 'val_accuracy'])\n"
          ],
          "name": "stdout"
        }
      ]
    },
    {
      "cell_type": "markdown",
      "metadata": {
        "id": "8KAg7JEiU3Na"
      },
      "source": [
        "**Plot accuracy wrt number of epochs**"
      ]
    },
    {
      "cell_type": "code",
      "metadata": {
        "id": "8wQsZEa9PYJw",
        "outputId": "30babab5-2a87-4d10-acf7-90d4bdaa33d1",
        "colab": {
          "base_uri": "https://localhost:8080/",
          "height": 295
        }
      },
      "source": [
        "\n",
        "# summarize history for accuracy\n",
        "plt.plot(history.history['accuracy'])\n",
        "plt.plot(history.history['val_accuracy'])\n",
        "plt.title('model accuracy')\n",
        "plt.ylabel('accuracy')\n",
        "plt.xlabel('epoch')\n",
        "plt.legend(['train', 'test'], loc='upper left')\n",
        "plt.show()\n"
      ],
      "execution_count": null,
      "outputs": [
        {
          "output_type": "display_data",
          "data": {
            "image/png": "[encoded data removed]",
            "text/plain": [
              "<Figure size 432x288 with 1 Axes>"
            ]
          },
          "metadata": {
            "tags": [],
            "needs_background": "light"
          }
        }
      ]
    },
    {
      "cell_type": "markdown",
      "metadata": {
        "id": "mb_eTlfgUzsR"
      },
      "source": [
        "**Plot training loss wrt number of epochs**"
      ]
    },
    {
      "cell_type": "code",
      "metadata": {
        "id": "-jyiKksT_JjN",
        "outputId": "2dc5b07a-41ed-411a-8b8c-eadcf7b2ea08",
        "colab": {
          "base_uri": "https://localhost:8080/",
          "height": 295
        }
      },
      "source": [
        "# summarize history for loss\n",
        "plt.plot(history.history['loss'])\n",
        "plt.plot(history.history['val_loss'])\n",
        "plt.title('model loss')\n",
        "plt.ylabel('loss')\n",
        "plt.xlabel('epoch')\n",
        "plt.legend(['train', 'test'], loc='upper left')\n",
        "plt.show()"
      ],
      "execution_count": null,
      "outputs": [
        {
          "output_type": "display_data",
          "data": {
            "image/png": "[encoded data removed]",
            "text/plain": [
              "<Figure size 432x288 with 1 Axes>"
            ]
          },
          "metadata": {
            "tags": [],
            "needs_background": "light"
          }
        }
      ]
    },
    {
      "cell_type": "code",
      "metadata": {
        "id": "iYlPzQroWxiC"
      },
      "source": [
        "y_test=model_nn.predict(X_test)"
      ],
      "execution_count": null,
      "outputs": []
    },
    {
      "cell_type": "code",
      "metadata": {
        "id": "KPaO498pWI_o",
        "outputId": "70cae874-0020-4b1a-d87f-bf314d3dff55",
        "colab": {
          "base_uri": "https://localhost:8080/",
          "height": 51
        }
      },
      "source": [
        "confusion_matrix(y_test.round(), y_val)"
      ],
      "execution_count": null,
      "outputs": [
        {
          "output_type": "execute_result",
          "data": {
            "text/plain": [
              "array([[ 43,  31],\n",
              "       [104, 152]])"
            ]
          },
          "metadata": {
            "tags": []
          },
          "execution_count": 55
        }
      ]
    },
    {
      "cell_type": "markdown",
      "metadata": {
        "id": "Pal8tfejcsno"
      },
      "source": [
        "**Plot the ROC Curve**"
      ]
    },
    {
      "cell_type": "code",
      "metadata": {
        "id": "qQlwEMrocVme"
      },
      "source": [
        "pip install plot-metric"
      ],
      "execution_count": null,
      "outputs": []
    },
    {
      "cell_type": "code",
      "metadata": {
        "id": "Twqf5QaocaAQ",
        "outputId": "48bc6e19-c0ca-4574-f870-f070e9c36dfb",
        "colab": {
          "base_uri": "https://localhost:8080/",
          "height": 350
        }
      },
      "source": [
        "from plot_metric.functions import BinaryClassification\n",
        "# Visualisation with plot_metric\n",
        "bc = BinaryClassification(y_test.round(), y_val, labels=[\"Class 1\", \"Class 2\"])\n",
        "\n",
        "# Figures\n",
        "plt.figure(figsize=(5,5))\n",
        "bc.plot_roc_curve()\n",
        "plt.show()"
      ],
      "execution_count": null,
      "outputs": [
        {
          "output_type": "display_data",
          "data": {
            "image/png": "[encoded data removed]",
            "text/plain": [
              "<Figure size 360x360 with 1 Axes>"
            ]
          },
          "metadata": {
            "tags": []
          }
        }
      ]
    },
    {
      "cell_type": "markdown",
      "metadata": {
        "id": "23u9S4PW-UYw"
      },
      "source": [
        "**Deliverables**"
      ]
    },
    {
      "cell_type": "markdown",
      "metadata": {
        "id": "Kla2ToH7-XkU"
      },
      "source": [
        "Please submit the following: \n",
        "\n",
        "\n",
        "*   Your full notebook used for training including the ROC Curves, confusion matrices and loss and accuracy plots wrt number of epochs. \n",
        "*   Your model weights. \n",
        "\n",
        "\n"
      ]
    }
  ]
}