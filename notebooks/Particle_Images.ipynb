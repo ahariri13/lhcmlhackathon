{
 "cells": [
  {
   "cell_type": "markdown",
   "metadata": {},
   "source": [
    "<img src=\"https://i2.wp.com/www.ai-claudio.com/wp-content/uploads/2017/05/keras-tensorflow-logo.jpg?resize=500%2C201\"/>"
   ]
  },
  {
   "cell_type": "markdown",
   "metadata": {},
   "source": [
    "## Import modules \n"
   ]
  },
  {
   "cell_type": "code",
   "execution_count": 1,
   "metadata": {},
   "outputs": [
    {
     "name": "stderr",
     "output_type": "stream",
     "text": [
      "Using TensorFlow backend.\n"
     ]
    }
   ],
   "source": [
    "import numpy as np\n",
    "np.random.seed(1337)  # for reproducibility\n",
    "import h5py\n",
    "from keras.models import Sequential\n",
    "from keras.optimizers import Adam\n",
    "from keras.initializers import TruncatedNormal\n",
    "from keras.layers import Input, Dense, Dropout, Flatten, Conv2D, MaxPooling2D\n",
    "from keras.callbacks import ReduceLROnPlateau\n",
    "\n",
    "from sklearn.metrics import roc_curve, auc\n",
    "\n",
    "import matplotlib.pyplot as plt"
   ]
  },
  {
   "cell_type": "markdown",
   "metadata": {},
   "source": [
    "## Keras Model Parameters"
   ]
  },
  {
   "cell_type": "code",
   "execution_count": 2,
   "metadata": {},
   "outputs": [],
   "source": [
    "lr_init     = 1.e-3    # Initial learning rate  \n",
    "batch_size  = 64       # Training batch size\n",
    "train_size  = 1024     # Training size\n",
    "valid_size  = 1024     # Validation size\n",
    "test_size   = 1024     # Test size\n",
    "epochs      = 20       # Number of epochs\n",
    "doGPU       = False    # Use GPU"
   ]
  },
  {
   "cell_type": "code",
   "execution_count": 3,
   "metadata": {},
   "outputs": [],
   "source": [
    "if doGPU:\n",
    "    import tensorflow as tf\n",
    "    from keras.backend.tensorflow_backend import set_session\n",
    "    config = tf.ConfigProto()\n",
    "    config.gpu_options.allow_growth=True\n",
    "    set_session(tf.Session(config=config))"
   ]
  },
  {
   "cell_type": "markdown",
   "metadata": {},
   "source": [
    "## Load Image Data\n",
    "### Two classes of particles: electrons and photons \n",
    "### Images from 32x32 matrices of energies in each calorimeter cell (one cell = one pixel) "
   ]
  },
  {
   "cell_type": "code",
   "execution_count": 4,
   "metadata": {},
   "outputs": [],
   "source": [
    "img_rows, img_cols, nb_channels = 32, 32, 2        \n",
    "input_dir = 'data'\n",
    "decays = ['SinglePhotonPt50_IMGCROPS_n249k_RHv1', 'SingleElectronPt50_IMGCROPS_n249k_RHv1']\n",
    "\n",
    "def load_data(decays, start, stop):\n",
    "    global input_dir\n",
    "    dsets = [h5py.File('%s/%s.hdf5'%(input_dir,decay)) for decay in decays]\n",
    "    X = np.concatenate([dset['/X'][start:stop] for dset in dsets])\n",
    "    y = np.concatenate([dset['/y'][start:stop] for dset in dsets])\n",
    "    assert len(X) == len(y)\n",
    "    return X, y"
   ]
  },
  {
   "cell_type": "markdown",
   "metadata": {},
   "source": [
    "## Configure Training/Validation/Test Sets"
   ]
  },
  {
   "cell_type": "code",
   "execution_count": 5,
   "metadata": {},
   "outputs": [],
   "source": [
    "# Set range of training set\n",
    "train_start, train_stop = 0, train_size\n",
    "assert train_stop > train_start\n",
    "assert (len(decays)*train_size) % batch_size == 0\n",
    "X_train, y_train = load_data(decays,train_start,train_stop)\n",
    "\n",
    "# Set range of validation set\n",
    "valid_start, valid_stop = 160000, 160000+valid_size\n",
    "assert valid_stop  >  valid_start\n",
    "assert valid_start >= train_stop\n",
    "X_valid, y_valid = load_data(decays,valid_start,valid_stop)\n",
    "\n",
    "# Set range of test set\n",
    "test_start, test_stop = 204800, 204800+test_size\n",
    "assert test_stop  >  test_start\n",
    "assert test_start >= valid_stop\n",
    "X_test, y_test = load_data(decays,test_start,test_stop)\n",
    "\n",
    "samples_requested = len(decays) * (train_size + valid_size + test_size)\n",
    "samples_available = len(y_train) + len(y_valid) + len(y_test)\n",
    "assert samples_requested == samples_available"
   ]
  },
  {
   "cell_type": "markdown",
   "metadata": {},
   "source": [
    "## Plot  sample of training images"
   ]
  },
  {
   "cell_type": "code",
   "execution_count": 6,
   "metadata": {},
   "outputs": [
    {
     "data": {
      "image/png": "[encoded data removed]",
      "text/plain": [
       "<Figure size 432x288 with 2 Axes>"
      ]
     },
     "metadata": {},
     "output_type": "display_data"
    }
   ],
   "source": [
    "plt.figure(1)\n",
    "\n",
    "plt.subplot(221)\n",
    "plt.imshow(X_train[1,:,:,0])\n",
    "plt.title(\"Channel 0\")  # Energy\n",
    "plt.grid(True)\n",
    "\n",
    "plt.subplot(222)\n",
    "plt.imshow(X_train[1,:,:,1])\n",
    "plt.title(\"Channel 1\")  # Time\n",
    "plt.grid(True)\n",
    "\n",
    "\n",
    "plt.show()"
   ]
  },
  {
   "cell_type": "markdown",
   "metadata": {},
   "source": [
    "## Define CNN Model"
   ]
  },
  {
   "cell_type": "code",
   "execution_count": 7,
   "metadata": {},
   "outputs": [
    {
     "name": "stdout",
     "output_type": "stream",
     "text": [
      "_________________________________________________________________\n",
      "Layer (type)                 Output Shape              Param #   \n",
      "=================================================================\n",
      "conv2d_1 (Conv2D)            (None, 32, 32, 16)        304       \n",
      "_________________________________________________________________\n",
      "conv2d_2 (Conv2D)            (None, 32, 32, 16)        2320      \n",
      "_________________________________________________________________\n",
      "max_pooling2d_1 (MaxPooling2 (None, 16, 16, 16)        0         \n",
      "_________________________________________________________________\n",
      "conv2d_3 (Conv2D)            (None, 16, 16, 32)        4640      \n",
      "_________________________________________________________________\n",
      "conv2d_4 (Conv2D)            (None, 16, 16, 32)        9248      \n",
      "_________________________________________________________________\n",
      "max_pooling2d_2 (MaxPooling2 (None, 8, 8, 32)          0         \n",
      "_________________________________________________________________\n",
      "flatten_1 (Flatten)          (None, 2048)              0         \n",
      "_________________________________________________________________\n",
      "dense_1 (Dense)              (None, 256)               524544    \n",
      "_________________________________________________________________\n",
      "dropout_1 (Dropout)          (None, 256)               0         \n",
      "_________________________________________________________________\n",
      "dense_2 (Dense)              (None, 128)               32896     \n",
      "_________________________________________________________________\n",
      "dropout_2 (Dropout)          (None, 128)               0         \n",
      "_________________________________________________________________\n",
      "dense_3 (Dense)              (None, 1)                 129       \n",
      "=================================================================\n",
      "Total params: 574,081\n",
      "Trainable params: 574,081\n",
      "Non-trainable params: 0\n",
      "_________________________________________________________________\n"
     ]
    }
   ],
   "source": [
    "### Define CNN Model ###\n",
    "\n",
    "model = Sequential()\n",
    "model.add(Conv2D(16, activation='relu', kernel_size=3, padding='same', kernel_initializer='TruncatedNormal', input_shape=(img_rows, img_cols, nb_channels)))\n",
    "model.add(Conv2D(16, activation='relu', kernel_size=3, padding='same', kernel_initializer='TruncatedNormal'))\n",
    "model.add(MaxPooling2D(pool_size=(2, 2)))\n",
    "model.add(Conv2D(32, activation='relu', kernel_size=3, padding='same', kernel_initializer='TruncatedNormal'))\n",
    "model.add(Conv2D(32, activation='relu', kernel_size=3, padding='same', kernel_initializer='TruncatedNormal'))\n",
    "model.add(MaxPooling2D(pool_size=(2, 2)))\n",
    "model.add(Flatten())\n",
    "model.add(Dense(256, activation='relu', kernel_initializer='TruncatedNormal'))\n",
    "model.add(Dropout(0.2))\n",
    "model.add(Dense(128, activation='relu', kernel_initializer='TruncatedNormal'))\n",
    "model.add(Dropout(0.2))\n",
    "model.add(Dense(1, activation='sigmoid', kernel_initializer='TruncatedNormal'))\n",
    "model.compile(loss='binary_crossentropy', optimizer=Adam(lr=lr_init), metrics=['accuracy'])\n",
    "model.summary()"
   ]
  },
  {
   "cell_type": "markdown",
   "metadata": {},
   "source": [
    "### Train the Model"
   ]
  },
  {
   "cell_type": "code",
   "execution_count": 8,
   "metadata": {},
   "outputs": [
    {
     "name": "stdout",
     "output_type": "stream",
     "text": [
      "Train on 2048 samples, validate on 2048 samples\n",
      "Epoch 1/20\n",
      "2048/2048 [==============================] - 28s 14ms/step - loss: 0.6932 - acc: 0.4941 - val_loss: 0.6922 - val_acc: 0.5000\n",
      "Epoch 2/20\n",
      "2048/2048 [==============================] - 28s 14ms/step - loss: 0.6887 - acc: 0.5532 - val_loss: 0.6847 - val_acc: 0.5591\n",
      "Epoch 3/20\n",
      "2048/2048 [==============================] - 28s 14ms/step - loss: 0.6755 - acc: 0.5776 - val_loss: 0.6855 - val_acc: 0.5718\n",
      "Epoch 4/20\n",
      "2048/2048 [==============================] - 28s 14ms/step - loss: 0.6747 - acc: 0.5952 - val_loss: 0.6819 - val_acc: 0.5762\n",
      "Epoch 5/20\n",
      "2048/2048 [==============================] - 29s 14ms/step - loss: 0.6624 - acc: 0.6128 - val_loss: 0.6788 - val_acc: 0.5776\n",
      "Epoch 6/20\n",
      "2048/2048 [==============================] - 29s 14ms/step - loss: 0.6530 - acc: 0.6211 - val_loss: 0.6822 - val_acc: 0.5728\n",
      "Epoch 7/20\n",
      "2048/2048 [==============================] - 29s 14ms/step - loss: 0.6448 - acc: 0.6289 - val_loss: 0.6711 - val_acc: 0.5957\n",
      "Epoch 8/20\n",
      "2048/2048 [==============================] - 29s 14ms/step - loss: 0.6349 - acc: 0.6426 - val_loss: 0.6777 - val_acc: 0.5947\n",
      "Epoch 9/20\n",
      "2048/2048 [==============================] - 29s 14ms/step - loss: 0.6299 - acc: 0.6479 - val_loss: 0.6722 - val_acc: 0.5942\n",
      "Epoch 10/20\n",
      "2048/2048 [==============================] - 29s 14ms/step - loss: 0.6115 - acc: 0.6675 - val_loss: 0.6763 - val_acc: 0.5898\n",
      "Epoch 11/20\n",
      "2048/2048 [==============================] - 29s 14ms/step - loss: 0.6084 - acc: 0.6768 - val_loss: 0.6801 - val_acc: 0.5869\n",
      "Epoch 12/20\n",
      "2048/2048 [==============================] - 29s 14ms/step - loss: 0.6035 - acc: 0.6763 - val_loss: 0.6797 - val_acc: 0.5938\n",
      "Epoch 13/20\n",
      "2048/2048 [==============================] - 30s 14ms/step - loss: 0.6019 - acc: 0.6768 - val_loss: 0.6803 - val_acc: 0.5967\n",
      "Epoch 14/20\n",
      "2048/2048 [==============================] - 29s 14ms/step - loss: 0.6008 - acc: 0.6826 - val_loss: 0.6804 - val_acc: 0.5962\n",
      "Epoch 15/20\n",
      "2048/2048 [==============================] - 29s 14ms/step - loss: 0.6008 - acc: 0.6797 - val_loss: 0.6803 - val_acc: 0.5957\n",
      "Epoch 16/20\n",
      "2048/2048 [==============================] - 29s 14ms/step - loss: 0.6009 - acc: 0.6782 - val_loss: 0.6803 - val_acc: 0.5962\n",
      "Epoch 17/20\n",
      "2048/2048 [==============================] - 30s 14ms/step - loss: 0.6028 - acc: 0.6733 - val_loss: 0.6804 - val_acc: 0.5967\n",
      "Epoch 18/20\n",
      "2048/2048 [==============================] - 30s 14ms/step - loss: 0.6015 - acc: 0.6782 - val_loss: 0.6804 - val_acc: 0.5967\n",
      "Epoch 19/20\n",
      "2048/2048 [==============================] - 30s 15ms/step - loss: 0.6005 - acc: 0.6772 - val_loss: 0.6804 - val_acc: 0.5967\n",
      "Epoch 20/20\n",
      "2048/2048 [==============================] - 30s 15ms/step - loss: 0.6008 - acc: 0.6763 - val_loss: 0.6804 - val_acc: 0.5967\n"
     ]
    }
   ],
   "source": [
    "reduce_lr = ReduceLROnPlateau(monitor='val_loss', factor=0.2, patience=2, min_lr=1.e-6)\n",
    "history=model.fit(X_train, y_train,\\\n",
    "        batch_size=batch_size,\\\n",
    "        epochs=epochs,\\\n",
    "        validation_data=(X_valid, y_valid),\\\n",
    "        callbacks=[reduce_lr],\\\n",
    "        verbose=1, shuffle=True)"
   ]
  },
  {
   "cell_type": "markdown",
   "metadata": {},
   "source": [
    "### Evaluate The Model"
   ]
  },
  {
   "cell_type": "code",
   "execution_count": 9,
   "metadata": {},
   "outputs": [
    {
     "name": "stdout",
     "output_type": "stream",
     "text": [
      "2048/2048 [==============================] - 9s 4ms/step\n",
      "\n",
      "Validation loss / accuracy: 0.6804 / 0.5967\n",
      "('Validation ROC AUC:', 0.6359562873840332)\n",
      "2048/2048 [==============================] - 8s 4ms/step\n",
      "\n",
      "Test loss / accuracy: 0.6915 / 0.5981\n",
      "('Test ROC AUC:', 0.6223158836364746)\n"
     ]
    }
   ],
   "source": [
    "# Evaluate on validation set\n",
    "score = model.evaluate(X_valid, y_valid, verbose=1)\n",
    "print('\\nValidation loss / accuracy: %0.4f / %0.4f'%(score[0], score[1]))\n",
    "y_pred = model.predict(X_valid)\n",
    "fpr, tpr, _ = roc_curve(y_valid, y_pred)\n",
    "roc_auc = auc(fpr, tpr)\n",
    "print('Validation ROC AUC:', roc_auc)\n",
    "\n",
    "# Evaluate on test set\n",
    "score = model.evaluate(X_test, y_test, verbose=1)\n",
    "print('\\nTest loss / accuracy: %0.4f / %0.4f'%(score[0], score[1]))\n",
    "y_pred = model.predict(X_test)\n",
    "fpr, tpr, _ = roc_curve(y_test, y_pred)\n",
    "roc_auc = auc(fpr, tpr)\n",
    "print('Test ROC AUC:', roc_auc)"
   ]
  },
  {
   "cell_type": "code",
   "execution_count": 10,
   "metadata": {},
   "outputs": [
    {
     "data": {
      "image/png": "[encoded data removed]",
      "text/plain": [
       "<Figure size 432x288 with 1 Axes>"
      ]
     },
     "metadata": {},
     "output_type": "display_data"
    }
   ],
   "source": [
    "plt.plot([0, 1], [0, 1], 'k--')\n",
    "plt.legend(loc=2, prop={'size': 15})\n",
    "plt.plot(fpr, tpr, label='Model 1 (ROC-AUC = {:.3f})'.format(roc_auc))\n",
    "plt.xlabel('False positive rate')\n",
    "plt.ylabel('True positive rate')\n",
    "plt.title('ROC curve')\n",
    "plt.legend(loc='best')\n",
    "plt.show()"
   ]
  },
  {
   "cell_type": "code",
   "execution_count": null,
   "metadata": {},
   "outputs": [],
   "source": []
  }
 ],
 "metadata": {
  "kernelspec": {
   "display_name": "Python 2",
   "language": "python",
   "name": "python2"
  },
  "language_info": {
   "codemirror_mode": {
    "name": "ipython",
    "version": 2
   },
   "file_extension": ".py",
   "mimetype": "text/x-python",
   "name": "python",
   "nbconvert_exporter": "python",
   "pygments_lexer": "ipython2",
   "version": "2.7.15"
  }
 },
 "nbformat": 4,
 "nbformat_minor": 2
}
